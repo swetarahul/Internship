{
 "cells": [
  {
   "cell_type": "code",
   "execution_count": 55,
   "id": "ab2d53bd",
   "metadata": {},
   "outputs": [
    {
     "name": "stdout",
     "output_type": "stream",
     "text": [
      "Defaulting to user installation because normal site-packages is not writeable\n",
      "Requirement already satisfied: selenium in c:\\users\\msi 1\\appdata\\roaming\\python\\python39\\site-packages (4.8.0)\n",
      "Requirement already satisfied: urllib3[socks]~=1.26 in c:\\programdata\\anaconda3\\lib\\site-packages (from selenium) (1.26.9)\n",
      "Requirement already satisfied: trio-websocket~=0.9 in c:\\users\\msi 1\\appdata\\roaming\\python\\python39\\site-packages (from selenium) (0.9.2)\n",
      "Requirement already satisfied: certifi>=2021.10.8 in c:\\programdata\\anaconda3\\lib\\site-packages (from selenium) (2021.10.8)\n",
      "Requirement already satisfied: trio~=0.17 in c:\\users\\msi 1\\appdata\\roaming\\python\\python39\\site-packages (from selenium) (0.22.0)\n",
      "Requirement already satisfied: outcome in c:\\users\\msi 1\\appdata\\roaming\\python\\python39\\site-packages (from trio~=0.17->selenium) (1.2.0)\n",
      "Requirement already satisfied: attrs>=19.2.0 in c:\\programdata\\anaconda3\\lib\\site-packages (from trio~=0.17->selenium) (21.4.0)\n",
      "Requirement already satisfied: exceptiongroup>=1.0.0rc9 in c:\\users\\msi 1\\appdata\\roaming\\python\\python39\\site-packages (from trio~=0.17->selenium) (1.1.0)\n",
      "Requirement already satisfied: async-generator>=1.9 in c:\\users\\msi 1\\appdata\\roaming\\python\\python39\\site-packages (from trio~=0.17->selenium) (1.10)\n",
      "Requirement already satisfied: cffi>=1.14 in c:\\programdata\\anaconda3\\lib\\site-packages (from trio~=0.17->selenium) (1.15.0)\n",
      "Requirement already satisfied: sortedcontainers in c:\\programdata\\anaconda3\\lib\\site-packages (from trio~=0.17->selenium) (2.4.0)\n",
      "Requirement already satisfied: sniffio in c:\\programdata\\anaconda3\\lib\\site-packages (from trio~=0.17->selenium) (1.2.0)\n",
      "Requirement already satisfied: idna in c:\\programdata\\anaconda3\\lib\\site-packages (from trio~=0.17->selenium) (3.3)\n",
      "Requirement already satisfied: pycparser in c:\\programdata\\anaconda3\\lib\\site-packages (from cffi>=1.14->trio~=0.17->selenium) (2.21)\n",
      "Requirement already satisfied: wsproto>=0.14 in c:\\users\\msi 1\\appdata\\roaming\\python\\python39\\site-packages (from trio-websocket~=0.9->selenium) (1.2.0)\n",
      "Requirement already satisfied: PySocks!=1.5.7,<2.0,>=1.5.6 in c:\\programdata\\anaconda3\\lib\\site-packages (from urllib3[socks]~=1.26->selenium) (1.7.1)\n",
      "Requirement already satisfied: h11<1,>=0.9.0 in c:\\users\\msi 1\\appdata\\roaming\\python\\python39\\site-packages (from wsproto>=0.14->trio-websocket~=0.9->selenium) (0.14.0)\n"
     ]
    }
   ],
   "source": [
    "!pip install selenium"
   ]
  },
  {
   "cell_type": "code",
   "execution_count": 56,
   "id": "6a31b9b1",
   "metadata": {},
   "outputs": [],
   "source": [
    "#importing necessary libraries\n",
    "import selenium\n",
    "import pandas as pd\n",
    "from bs4 import BeautifulSoup\n",
    "import time\n",
    "\n",
    "#Importing requests\n",
    "import requests\n",
    "from selenium.webdriver.common.by import By\n",
    "\n",
    "# importing regex\n",
    "import re\n",
    "\n",
    "# Importing selenium webdriver\n",
    "from selenium import webdriver\n",
    "\n",
    "# Importing required Exceptions\n",
    "from selenium.common.exceptions import StaleElementReferenceException\n",
    "from selenium.common.exceptions import NoSuchElementException\n",
    "from selenium.webdriver.support.ui import WebDriverWait\n",
    "import warnings\n",
    "warnings.filterwarnings('ignore')"
   ]
  },
  {
   "cell_type": "code",
   "execution_count": 3,
   "id": "c945e3ed",
   "metadata": {},
   "outputs": [],
   "source": [
    "#1. Scrape the details of most viewed videos on YouTube from Wikipedia.Url = https://en.wikipedia.org/wiki/List_of_most-viewed_YouTube_videosYou need to find following details:\n",
    "#A) Rank\n",
    "#B) Name\n",
    "#C) Artist\n",
    "#D) Upload date"
   ]
  },
  {
   "cell_type": "code",
   "execution_count": 3,
   "id": "aa98dcba",
   "metadata": {},
   "outputs": [],
   "source": [
    "driver=webdriver.Chrome(r\"C:\\Users\\msi 1\\Downloads\\chromedriver_win32\\chromedriver.exe\")\n",
    "#connect to the driver"
   ]
  },
  {
   "cell_type": "code",
   "execution_count": 5,
   "id": "41bfbe04",
   "metadata": {},
   "outputs": [],
   "source": [
    "#getting the specified url\n",
    "url = \"https://en.wikipedia.org/wiki/List_of_most-viewed_YouTube_videos\"\n",
    "driver.get(url)\n",
    "time.sleep(3)"
   ]
  },
  {
   "cell_type": "code",
   "execution_count": 6,
   "id": "3d65d2ed",
   "metadata": {},
   "outputs": [],
   "source": [
    "#Creating empty list\n",
    "Rank = []\n",
    "Name = []\n",
    "Artist = []\n",
    "Upload_date = []\n",
    "Views = []"
   ]
  },
  {
   "cell_type": "code",
   "execution_count": 7,
   "id": "7ea0f4f4",
   "metadata": {},
   "outputs": [],
   "source": [
    "#scraping data of rank details\n",
    "try:\n",
    "    for i in driver.find_elements(By.XPATH,\"//table[@class='wikitable sortable jquery-tablesorter']//tbody//tr//td[1]\")[:30]:\n",
    "        Rank.append(i.text)\n",
    "except NoSuchElementException:\n",
    "        Rank.append('-')                          \n",
    "                                  "
   ]
  },
  {
   "cell_type": "code",
   "execution_count": 10,
   "id": "ad8fe5c5",
   "metadata": {},
   "outputs": [],
   "source": [
    "#scraping data of video names\n",
    "\n",
    "try:\n",
    "    for i in driver.find_elements(By.XPATH,\"//table[@class='wikitable sortable jquery-tablesorter']//tbody//tr//td[2]\")[:30]:\n",
    "        Name.append(i.text)\n",
    "except NoSuchElementException:\n",
    "        Name.append('-')\n"
   ]
  },
  {
   "cell_type": "code",
   "execution_count": 11,
   "id": "75f72a4d",
   "metadata": {},
   "outputs": [],
   "source": [
    "#Scraping data of artist name\n",
    "try:\n",
    "    for i in driver.find_elements(By.XPATH,\"//table[@class='wikitable sortable jquery-tablesorter']//tbody//tr//td[3]\")[:30]:\n",
    "        Artist.append(i.text)\n",
    "except NoSuchElementException:        \n",
    "    Artist.append('-')"
   ]
  },
  {
   "cell_type": "code",
   "execution_count": 12,
   "id": "6ad4f16f",
   "metadata": {},
   "outputs": [],
   "source": [
    "#Scraping data of upload dates\n",
    "try:\n",
    "    for i in driver.find_elements(By.XPATH,\"//table[@class='wikitable sortable jquery-tablesorter']//tbody//tr//td[5]\")[:30]:\n",
    "        Upload_date.append(i.text)\n",
    "except NoSuchElementException:        \n",
    "    Upload_date.append('-')"
   ]
  },
  {
   "cell_type": "code",
   "execution_count": 13,
   "id": "cebe7cd8",
   "metadata": {},
   "outputs": [],
   "source": [
    "#Scraping data of views\n",
    "try:\n",
    "    for i in driver.find_elements(By.XPATH,\"//table[@class='wikitable sortable jquery-tablesorter']//tbody//tr//td[4]\")[:30]:\n",
    "        Views.append(i.text)\n",
    "except NoSuchElementException:\n",
    "    Views.append('-')"
   ]
  },
  {
   "cell_type": "code",
   "execution_count": 14,
   "id": "546e2862",
   "metadata": {},
   "outputs": [],
   "source": [
    "#DATA FRAMEING\n",
    "Youtube=pd.DataFrame({})\n",
    "Youtube['Rank'] = Rank\n",
    "Youtube['Name'] = Name\n",
    "Youtube['Artist'] = Artist\n",
    "Youtube['Uploaded Date'] = Upload_date\n",
    "Youtube['Views'] = Views"
   ]
  },
  {
   "cell_type": "code",
   "execution_count": 15,
   "id": "f9b42fe0",
   "metadata": {},
   "outputs": [
    {
     "data": {
      "text/html": [
       "<div>\n",
       "<style scoped>\n",
       "    .dataframe tbody tr th:only-of-type {\n",
       "        vertical-align: middle;\n",
       "    }\n",
       "\n",
       "    .dataframe tbody tr th {\n",
       "        vertical-align: top;\n",
       "    }\n",
       "\n",
       "    .dataframe thead th {\n",
       "        text-align: right;\n",
       "    }\n",
       "</style>\n",
       "<table border=\"1\" class=\"dataframe\">\n",
       "  <thead>\n",
       "    <tr style=\"text-align: right;\">\n",
       "      <th></th>\n",
       "      <th>Rank</th>\n",
       "      <th>Name</th>\n",
       "      <th>Artist</th>\n",
       "      <th>Uploaded Date</th>\n",
       "      <th>Views</th>\n",
       "    </tr>\n",
       "  </thead>\n",
       "  <tbody>\n",
       "    <tr>\n",
       "      <th>0</th>\n",
       "      <td>1.</td>\n",
       "      <td>\"Baby Shark Dance\"[4]</td>\n",
       "      <td>Pinkfong Baby Shark - Kids' Songs &amp; Stories</td>\n",
       "      <td>June 17, 2016</td>\n",
       "      <td>12.37</td>\n",
       "    </tr>\n",
       "    <tr>\n",
       "      <th>1</th>\n",
       "      <td>2.</td>\n",
       "      <td>\"Despacito\"[7]</td>\n",
       "      <td>Luis Fonsi</td>\n",
       "      <td>January 12, 2017</td>\n",
       "      <td>8.09</td>\n",
       "    </tr>\n",
       "    <tr>\n",
       "      <th>2</th>\n",
       "      <td>3.</td>\n",
       "      <td>\"Johny Johny Yes Papa\"[14]</td>\n",
       "      <td>LooLoo Kids</td>\n",
       "      <td>October 8, 2016</td>\n",
       "      <td>6.63</td>\n",
       "    </tr>\n",
       "    <tr>\n",
       "      <th>3</th>\n",
       "      <td>4.</td>\n",
       "      <td>\"Bath Song\"[15]</td>\n",
       "      <td>Cocomelon – Nursery Rhymes</td>\n",
       "      <td>May 2, 2018</td>\n",
       "      <td>6.03</td>\n",
       "    </tr>\n",
       "    <tr>\n",
       "      <th>4</th>\n",
       "      <td>5.</td>\n",
       "      <td>\"Shape of You\"[16]</td>\n",
       "      <td>Ed Sheeran</td>\n",
       "      <td>January 30, 2017</td>\n",
       "      <td>5.92</td>\n",
       "    </tr>\n",
       "    <tr>\n",
       "      <th>5</th>\n",
       "      <td>6.</td>\n",
       "      <td>\"See You Again\"[18]</td>\n",
       "      <td>Wiz Khalifa</td>\n",
       "      <td>April 6, 2015</td>\n",
       "      <td>5.79</td>\n",
       "    </tr>\n",
       "    <tr>\n",
       "      <th>6</th>\n",
       "      <td>7.</td>\n",
       "      <td>\"Phonics Song with Two Words\"[23]</td>\n",
       "      <td>ChuChu TV</td>\n",
       "      <td>March 6, 2014</td>\n",
       "      <td>5.17</td>\n",
       "    </tr>\n",
       "    <tr>\n",
       "      <th>7</th>\n",
       "      <td>8.</td>\n",
       "      <td>\"Wheels on the Bus\"[24]</td>\n",
       "      <td>Cocomelon – Nursery Rhymes</td>\n",
       "      <td>May 24, 2018</td>\n",
       "      <td>4.95</td>\n",
       "    </tr>\n",
       "    <tr>\n",
       "      <th>8</th>\n",
       "      <td>9.</td>\n",
       "      <td>\"Uptown Funk\"[25]</td>\n",
       "      <td>Mark Ronson</td>\n",
       "      <td>November 19, 2014</td>\n",
       "      <td>4.84</td>\n",
       "    </tr>\n",
       "    <tr>\n",
       "      <th>9</th>\n",
       "      <td>10.</td>\n",
       "      <td>\"Learning Colors – Colorful Eggs on a Farm\"[26]</td>\n",
       "      <td>Miroshka TV</td>\n",
       "      <td>February 27, 2018</td>\n",
       "      <td>4.83</td>\n",
       "    </tr>\n",
       "    <tr>\n",
       "      <th>10</th>\n",
       "      <td>11.</td>\n",
       "      <td>\"Gangnam Style\"[27]</td>\n",
       "      <td>Psy</td>\n",
       "      <td>July 15, 2012</td>\n",
       "      <td>4.70</td>\n",
       "    </tr>\n",
       "    <tr>\n",
       "      <th>11</th>\n",
       "      <td>12.</td>\n",
       "      <td>\"Masha and the Bear – Recipe for Disaster\"[32]</td>\n",
       "      <td>Get Movies</td>\n",
       "      <td>January 31, 2012</td>\n",
       "      <td>4.53</td>\n",
       "    </tr>\n",
       "    <tr>\n",
       "      <th>12</th>\n",
       "      <td>13.</td>\n",
       "      <td>\"Dame Tu Cosita\"[33]</td>\n",
       "      <td>El Chombo</td>\n",
       "      <td>April 5, 2018</td>\n",
       "      <td>4.24</td>\n",
       "    </tr>\n",
       "    <tr>\n",
       "      <th>13</th>\n",
       "      <td>14.</td>\n",
       "      <td>\"Sugar\"[34]</td>\n",
       "      <td>Maroon 5</td>\n",
       "      <td>January 14, 2015</td>\n",
       "      <td>3.82</td>\n",
       "    </tr>\n",
       "    <tr>\n",
       "      <th>14</th>\n",
       "      <td>15.</td>\n",
       "      <td>\"Axel F\"[35]</td>\n",
       "      <td>Crazy Frog</td>\n",
       "      <td>June 16, 2009</td>\n",
       "      <td>3.76</td>\n",
       "    </tr>\n",
       "    <tr>\n",
       "      <th>15</th>\n",
       "      <td>16.</td>\n",
       "      <td>\"Roar\"[36]</td>\n",
       "      <td>Katy Perry</td>\n",
       "      <td>September 5, 2013</td>\n",
       "      <td>3.73</td>\n",
       "    </tr>\n",
       "    <tr>\n",
       "      <th>16</th>\n",
       "      <td>17.</td>\n",
       "      <td>\"Counting Stars\"[37]</td>\n",
       "      <td>OneRepublic</td>\n",
       "      <td>May 31, 2013</td>\n",
       "      <td>3.73</td>\n",
       "    </tr>\n",
       "    <tr>\n",
       "      <th>17</th>\n",
       "      <td>18.</td>\n",
       "      <td>\"Sorry\"[38]</td>\n",
       "      <td>Justin Bieber</td>\n",
       "      <td>October 22, 2015</td>\n",
       "      <td>3.63</td>\n",
       "    </tr>\n",
       "    <tr>\n",
       "      <th>18</th>\n",
       "      <td>19.</td>\n",
       "      <td>\"Thinking Out Loud\"[39]</td>\n",
       "      <td>Ed Sheeran</td>\n",
       "      <td>October 7, 2014</td>\n",
       "      <td>3.55</td>\n",
       "    </tr>\n",
       "    <tr>\n",
       "      <th>19</th>\n",
       "      <td>20.</td>\n",
       "      <td>\"Baa Baa Black Sheep\"[40]</td>\n",
       "      <td>Cocomelon – Nursery Rhymes</td>\n",
       "      <td>June 25, 2018</td>\n",
       "      <td>3.51</td>\n",
       "    </tr>\n",
       "    <tr>\n",
       "      <th>20</th>\n",
       "      <td>21.</td>\n",
       "      <td>\"Waka Waka (This Time for Africa)\"[41]</td>\n",
       "      <td>Shakira</td>\n",
       "      <td>June 4, 2010</td>\n",
       "      <td>3.48</td>\n",
       "    </tr>\n",
       "    <tr>\n",
       "      <th>21</th>\n",
       "      <td>22.</td>\n",
       "      <td>\"Dark Horse\"[42]</td>\n",
       "      <td>Katy Perry</td>\n",
       "      <td>February 20, 2014</td>\n",
       "      <td>3.45</td>\n",
       "    </tr>\n",
       "    <tr>\n",
       "      <th>22</th>\n",
       "      <td>23.</td>\n",
       "      <td>\"Faded\"[43]</td>\n",
       "      <td>Alan Walker</td>\n",
       "      <td>December 3, 2015</td>\n",
       "      <td>3.41</td>\n",
       "    </tr>\n",
       "    <tr>\n",
       "      <th>23</th>\n",
       "      <td>24.</td>\n",
       "      <td>\"Let Her Go\"[44]</td>\n",
       "      <td>Passenger</td>\n",
       "      <td>July 25, 2012</td>\n",
       "      <td>3.38</td>\n",
       "    </tr>\n",
       "    <tr>\n",
       "      <th>24</th>\n",
       "      <td>25.</td>\n",
       "      <td>\"Girls Like You\"[45]</td>\n",
       "      <td>Maroon 5</td>\n",
       "      <td>May 31, 2018</td>\n",
       "      <td>3.37</td>\n",
       "    </tr>\n",
       "    <tr>\n",
       "      <th>25</th>\n",
       "      <td>26.</td>\n",
       "      <td>\"Perfect\"[46]</td>\n",
       "      <td>Ed Sheeran</td>\n",
       "      <td>November 9, 2017</td>\n",
       "      <td>3.37</td>\n",
       "    </tr>\n",
       "    <tr>\n",
       "      <th>26</th>\n",
       "      <td>27.</td>\n",
       "      <td>\"Bailando\"[47]</td>\n",
       "      <td>Enrique Iglesias</td>\n",
       "      <td>April 11, 2014</td>\n",
       "      <td>3.34</td>\n",
       "    </tr>\n",
       "    <tr>\n",
       "      <th>27</th>\n",
       "      <td>28.</td>\n",
       "      <td>\"Lean On\"[48]</td>\n",
       "      <td>Major Lazer</td>\n",
       "      <td>March 22, 2015</td>\n",
       "      <td>3.33</td>\n",
       "    </tr>\n",
       "    <tr>\n",
       "      <th>28</th>\n",
       "      <td>29.</td>\n",
       "      <td>\"Lakdi Ki Kathi\"[49]</td>\n",
       "      <td>Jingle Toons</td>\n",
       "      <td>June 14, 2018</td>\n",
       "      <td>3.32</td>\n",
       "    </tr>\n",
       "    <tr>\n",
       "      <th>29</th>\n",
       "      <td>30.</td>\n",
       "      <td>\"Humpty the train on a fruits ride\"[50]</td>\n",
       "      <td>Kiddiestv Hindi – Nursery Rhymes &amp; Kids Songs</td>\n",
       "      <td>January 26, 2018</td>\n",
       "      <td>3.31</td>\n",
       "    </tr>\n",
       "  </tbody>\n",
       "</table>\n",
       "</div>"
      ],
      "text/plain": [
       "   Rank                                             Name  \\\n",
       "0    1.                            \"Baby Shark Dance\"[4]   \n",
       "1    2.                                   \"Despacito\"[7]   \n",
       "2    3.                       \"Johny Johny Yes Papa\"[14]   \n",
       "3    4.                                  \"Bath Song\"[15]   \n",
       "4    5.                               \"Shape of You\"[16]   \n",
       "5    6.                              \"See You Again\"[18]   \n",
       "6    7.                \"Phonics Song with Two Words\"[23]   \n",
       "7    8.                          \"Wheels on the Bus\"[24]   \n",
       "8    9.                                \"Uptown Funk\"[25]   \n",
       "9   10.  \"Learning Colors – Colorful Eggs on a Farm\"[26]   \n",
       "10  11.                              \"Gangnam Style\"[27]   \n",
       "11  12.   \"Masha and the Bear – Recipe for Disaster\"[32]   \n",
       "12  13.                             \"Dame Tu Cosita\"[33]   \n",
       "13  14.                                      \"Sugar\"[34]   \n",
       "14  15.                                     \"Axel F\"[35]   \n",
       "15  16.                                       \"Roar\"[36]   \n",
       "16  17.                             \"Counting Stars\"[37]   \n",
       "17  18.                                      \"Sorry\"[38]   \n",
       "18  19.                          \"Thinking Out Loud\"[39]   \n",
       "19  20.                        \"Baa Baa Black Sheep\"[40]   \n",
       "20  21.           \"Waka Waka (This Time for Africa)\"[41]   \n",
       "21  22.                                 \"Dark Horse\"[42]   \n",
       "22  23.                                      \"Faded\"[43]   \n",
       "23  24.                                 \"Let Her Go\"[44]   \n",
       "24  25.                             \"Girls Like You\"[45]   \n",
       "25  26.                                    \"Perfect\"[46]   \n",
       "26  27.                                   \"Bailando\"[47]   \n",
       "27  28.                                    \"Lean On\"[48]   \n",
       "28  29.                             \"Lakdi Ki Kathi\"[49]   \n",
       "29  30.          \"Humpty the train on a fruits ride\"[50]   \n",
       "\n",
       "                                           Artist      Uploaded Date  Views  \n",
       "0     Pinkfong Baby Shark - Kids' Songs & Stories      June 17, 2016  12.37  \n",
       "1                                      Luis Fonsi   January 12, 2017   8.09  \n",
       "2                                     LooLoo Kids    October 8, 2016   6.63  \n",
       "3                      Cocomelon – Nursery Rhymes        May 2, 2018   6.03  \n",
       "4                                      Ed Sheeran   January 30, 2017   5.92  \n",
       "5                                     Wiz Khalifa      April 6, 2015   5.79  \n",
       "6                                       ChuChu TV      March 6, 2014   5.17  \n",
       "7                      Cocomelon – Nursery Rhymes       May 24, 2018   4.95  \n",
       "8                                     Mark Ronson  November 19, 2014   4.84  \n",
       "9                                     Miroshka TV  February 27, 2018   4.83  \n",
       "10                                            Psy      July 15, 2012   4.70  \n",
       "11                                     Get Movies   January 31, 2012   4.53  \n",
       "12                                      El Chombo      April 5, 2018   4.24  \n",
       "13                                       Maroon 5   January 14, 2015   3.82  \n",
       "14                                     Crazy Frog      June 16, 2009   3.76  \n",
       "15                                     Katy Perry  September 5, 2013   3.73  \n",
       "16                                    OneRepublic       May 31, 2013   3.73  \n",
       "17                                  Justin Bieber   October 22, 2015   3.63  \n",
       "18                                     Ed Sheeran    October 7, 2014   3.55  \n",
       "19                     Cocomelon – Nursery Rhymes      June 25, 2018   3.51  \n",
       "20                                        Shakira       June 4, 2010   3.48  \n",
       "21                                     Katy Perry  February 20, 2014   3.45  \n",
       "22                                    Alan Walker   December 3, 2015   3.41  \n",
       "23                                      Passenger      July 25, 2012   3.38  \n",
       "24                                       Maroon 5       May 31, 2018   3.37  \n",
       "25                                     Ed Sheeran   November 9, 2017   3.37  \n",
       "26                               Enrique Iglesias     April 11, 2014   3.34  \n",
       "27                                    Major Lazer     March 22, 2015   3.33  \n",
       "28                                   Jingle Toons      June 14, 2018   3.32  \n",
       "29  Kiddiestv Hindi – Nursery Rhymes & Kids Songs   January 26, 2018   3.31  "
      ]
     },
     "execution_count": 15,
     "metadata": {},
     "output_type": "execute_result"
    }
   ],
   "source": [
    "#Printing data frame\n",
    "Youtube"
   ]
  },
  {
   "cell_type": "code",
   "execution_count": 16,
   "id": "f7be0e11",
   "metadata": {},
   "outputs": [],
   "source": [
    "#2.Scrape the details teamIndia’sinternationalfixtures from bcci.tv. \n",
    "#Url = https://www.bcci.tv/.\n",
    "#You need to find following details:\n",
    "#A) Match title (I.e. 1stODI)\n",
    "#B) Series\n",
    "#C) Place\n",
    "#D) Date\n",
    "#E) Time\n",
    "#Note: - From bcci.tv home page you have reach to the international fixture page through cod"
   ]
  },
  {
   "cell_type": "code",
   "execution_count": 92,
   "id": "7252d1ae",
   "metadata": {},
   "outputs": [],
   "source": [
    "driver=webdriver.Chrome(r\"C:\\Users\\msi 1\\Downloads\\chromedriver_win32\\chromedriver.exe\")\n",
    "#connect to the driver"
   ]
  },
  {
   "cell_type": "code",
   "execution_count": 93,
   "id": "633b1989",
   "metadata": {},
   "outputs": [],
   "source": [
    "driver=webdriver.Chrome('chromedriver.exe')\n",
    "driver.get(' https://www.bcci.tv/.')"
   ]
  },
  {
   "cell_type": "code",
   "execution_count": 95,
   "id": "74af664e",
   "metadata": {},
   "outputs": [],
   "source": [
    "#going to internation fixtures page\n",
    "fixtures=driver.find_element(By.XPATH,\"/html/body/div[5]/div/div[1]/div/ul/li[1]/a\")"
   ]
  },
  {
   "cell_type": "code",
   "execution_count": 100,
   "id": "cb672991",
   "metadata": {},
   "outputs": [
    {
     "data": {
      "text/plain": [
       "[<selenium.webdriver.remote.webelement.WebElement (session=\"69dceb910a0e132fb9bbc740516cd2be\", element=\"6050234f-fb36-4fa4-9704-5083c8ecc281\")>,\n",
       " <selenium.webdriver.remote.webelement.WebElement (session=\"69dceb910a0e132fb9bbc740516cd2be\", element=\"59d433af-709e-406a-bc68-ed25f1581fe6\")>,\n",
       " <selenium.webdriver.remote.webelement.WebElement (session=\"69dceb910a0e132fb9bbc740516cd2be\", element=\"b943a828-3e7f-4fc5-bc56-3b8333a7a542\")>,\n",
       " <selenium.webdriver.remote.webelement.WebElement (session=\"69dceb910a0e132fb9bbc740516cd2be\", element=\"4f0cef15-d2b0-42a9-9550-42a60be610e5\")>,\n",
       " <selenium.webdriver.remote.webelement.WebElement (session=\"69dceb910a0e132fb9bbc740516cd2be\", element=\"1481f551-cb76-405e-85b0-cba46ca1605b\")>,\n",
       " <selenium.webdriver.remote.webelement.WebElement (session=\"69dceb910a0e132fb9bbc740516cd2be\", element=\"8baebf84-2da5-422b-9aff-ff700dd4b8c4\")>,\n",
       " <selenium.webdriver.remote.webelement.WebElement (session=\"69dceb910a0e132fb9bbc740516cd2be\", element=\"259b66b9-8e80-4aed-8baa-d4d3f2ec03bb\")>,\n",
       " <selenium.webdriver.remote.webelement.WebElement (session=\"69dceb910a0e132fb9bbc740516cd2be\", element=\"2a40aff8-1f8f-499b-8aaa-536b7a6a0750\")>,\n",
       " <selenium.webdriver.remote.webelement.WebElement (session=\"69dceb910a0e132fb9bbc740516cd2be\", element=\"fc30135b-3076-44ec-9c7d-d11eb403ff96\")>,\n",
       " <selenium.webdriver.remote.webelement.WebElement (session=\"69dceb910a0e132fb9bbc740516cd2be\", element=\"3ae64cf6-c376-483a-be4f-97e099fc94b0\")>,\n",
       " <selenium.webdriver.remote.webelement.WebElement (session=\"69dceb910a0e132fb9bbc740516cd2be\", element=\"275e1417-0d69-438c-ac0d-742a8db32ffb\")>,\n",
       " <selenium.webdriver.remote.webelement.WebElement (session=\"69dceb910a0e132fb9bbc740516cd2be\", element=\"5cfc8de7-d1e3-40dd-9bb9-395806dacf4b\")>,\n",
       " <selenium.webdriver.remote.webelement.WebElement (session=\"69dceb910a0e132fb9bbc740516cd2be\", element=\"ed795c59-afc0-4bfb-ba6e-35d7d93ae70e\")>,\n",
       " <selenium.webdriver.remote.webelement.WebElement (session=\"69dceb910a0e132fb9bbc740516cd2be\", element=\"ac9ad770-9525-401d-a394-dd23e8947f46\")>,\n",
       " <selenium.webdriver.remote.webelement.WebElement (session=\"69dceb910a0e132fb9bbc740516cd2be\", element=\"eb45a39e-e03d-4bf9-b375-87f301237859\")>,\n",
       " <selenium.webdriver.remote.webelement.WebElement (session=\"69dceb910a0e132fb9bbc740516cd2be\", element=\"93ce7f62-c38b-4622-9b9d-faa64a90eaa6\")>,\n",
       " <selenium.webdriver.remote.webelement.WebElement (session=\"69dceb910a0e132fb9bbc740516cd2be\", element=\"c60f5d11-49be-4204-9d8d-6547d25f7e8b\")>,\n",
       " <selenium.webdriver.remote.webelement.WebElement (session=\"69dceb910a0e132fb9bbc740516cd2be\", element=\"7cd0063f-791b-422d-ba1d-0c1b73736bce\")>,\n",
       " <selenium.webdriver.remote.webelement.WebElement (session=\"69dceb910a0e132fb9bbc740516cd2be\", element=\"36c0fa41-c87d-426a-9f26-fdb26abbdf32\")>,\n",
       " <selenium.webdriver.remote.webelement.WebElement (session=\"69dceb910a0e132fb9bbc740516cd2be\", element=\"48fbd9e5-219a-4391-8ad7-e26e2d45c7ea\")>,\n",
       " <selenium.webdriver.remote.webelement.WebElement (session=\"69dceb910a0e132fb9bbc740516cd2be\", element=\"4810006a-cee6-48e4-b77d-7dd6148e7f0b\")>,\n",
       " <selenium.webdriver.remote.webelement.WebElement (session=\"69dceb910a0e132fb9bbc740516cd2be\", element=\"7f71e909-53e6-4888-9fe9-9cf273248949\")>,\n",
       " <selenium.webdriver.remote.webelement.WebElement (session=\"69dceb910a0e132fb9bbc740516cd2be\", element=\"5c63ab0e-b609-48e0-9c61-2684630b9b47\")>,\n",
       " <selenium.webdriver.remote.webelement.WebElement (session=\"69dceb910a0e132fb9bbc740516cd2be\", element=\"e6bc6257-5afa-41ce-bba3-824508cff2e9\")>,\n",
       " <selenium.webdriver.remote.webelement.WebElement (session=\"69dceb910a0e132fb9bbc740516cd2be\", element=\"019c9d9c-1da4-4fbd-a0c0-718d66fc2c7c\")>,\n",
       " <selenium.webdriver.remote.webelement.WebElement (session=\"69dceb910a0e132fb9bbc740516cd2be\", element=\"0a0a8db0-3a17-41ba-8a43-ac8cfd9e69b8\")>,\n",
       " <selenium.webdriver.remote.webelement.WebElement (session=\"69dceb910a0e132fb9bbc740516cd2be\", element=\"b72aac44-0b4a-48f2-8838-c890ea415682\")>,\n",
       " <selenium.webdriver.remote.webelement.WebElement (session=\"69dceb910a0e132fb9bbc740516cd2be\", element=\"878abb29-ce39-417b-a5df-c84a6bc62678\")>,\n",
       " <selenium.webdriver.remote.webelement.WebElement (session=\"69dceb910a0e132fb9bbc740516cd2be\", element=\"516bbeec-958e-4133-b9c8-490854a4ea31\")>]"
      ]
     },
     "execution_count": 100,
     "metadata": {},
     "output_type": "execute_result"
    }
   ],
   "source": [
    "#Lets extract all the tags having Match titles.\n",
    "titles=driver.find_elements(By.XPATH,\"//span[@class='matchOrderText ng-binding ng-scope']\")\n",
    "titles"
   ]
  },
  {
   "cell_type": "code",
   "execution_count": 101,
   "id": "33ecc919",
   "metadata": {},
   "outputs": [
    {
     "data": {
      "text/plain": [
       "['1st ODI -',\n",
       " '2nd ODI -',\n",
       " '3rd ODI -',\n",
       " '',\n",
       " '',\n",
       " '',\n",
       " '',\n",
       " '',\n",
       " '',\n",
       " '',\n",
       " '',\n",
       " '',\n",
       " '',\n",
       " '',\n",
       " '',\n",
       " '',\n",
       " '',\n",
       " '',\n",
       " '',\n",
       " '',\n",
       " '',\n",
       " '',\n",
       " '',\n",
       " '',\n",
       " '',\n",
       " '',\n",
       " '',\n",
       " '',\n",
       " '']"
      ]
     },
     "execution_count": 101,
     "metadata": {},
     "output_type": "execute_result"
    }
   ],
   "source": [
    "# Now the text of the match titles are inside the tags extracted above.\n",
    "Match_Titles=[]\n",
    "for i in titles:\n",
    "    title=i.text\n",
    "    Match_Titles.append(title)\n",
    "Match_Titles"
   ]
  },
  {
   "cell_type": "code",
   "execution_count": 103,
   "id": "fcb42795",
   "metadata": {},
   "outputs": [
    {
     "data": {
      "text/plain": [
       "[<selenium.webdriver.remote.webelement.WebElement (session=\"69dceb910a0e132fb9bbc740516cd2be\", element=\"828e9a92-ae98-4739-a0c2-7e4d08a9b3a3\")>,\n",
       " <selenium.webdriver.remote.webelement.WebElement (session=\"69dceb910a0e132fb9bbc740516cd2be\", element=\"877d60fd-9ef8-492a-a496-359a834f77b9\")>,\n",
       " <selenium.webdriver.remote.webelement.WebElement (session=\"69dceb910a0e132fb9bbc740516cd2be\", element=\"ca16c39f-0063-43a1-bd63-36d0ab3d6525\")>,\n",
       " <selenium.webdriver.remote.webelement.WebElement (session=\"69dceb910a0e132fb9bbc740516cd2be\", element=\"ee0c55c0-525e-47ed-864c-adc29b3cec48\")>,\n",
       " <selenium.webdriver.remote.webelement.WebElement (session=\"69dceb910a0e132fb9bbc740516cd2be\", element=\"26302b87-0d0b-41cd-bdcc-78a4f8c6ab8a\")>,\n",
       " <selenium.webdriver.remote.webelement.WebElement (session=\"69dceb910a0e132fb9bbc740516cd2be\", element=\"2e17e07b-a427-4357-b5f0-f907092a9329\")>,\n",
       " <selenium.webdriver.remote.webelement.WebElement (session=\"69dceb910a0e132fb9bbc740516cd2be\", element=\"0dbe92cb-86c1-44c1-8605-12c9bb6124c4\")>,\n",
       " <selenium.webdriver.remote.webelement.WebElement (session=\"69dceb910a0e132fb9bbc740516cd2be\", element=\"0292a373-40ca-4c47-9329-60dbd9c40657\")>,\n",
       " <selenium.webdriver.remote.webelement.WebElement (session=\"69dceb910a0e132fb9bbc740516cd2be\", element=\"f97415d6-bb1f-4ac3-b778-1b07777aab69\")>,\n",
       " <selenium.webdriver.remote.webelement.WebElement (session=\"69dceb910a0e132fb9bbc740516cd2be\", element=\"0d0a8390-baf2-41c4-b08d-ac3bd2769f0f\")>,\n",
       " <selenium.webdriver.remote.webelement.WebElement (session=\"69dceb910a0e132fb9bbc740516cd2be\", element=\"677a203d-550b-41cc-98bf-0550fcd6b6cb\")>,\n",
       " <selenium.webdriver.remote.webelement.WebElement (session=\"69dceb910a0e132fb9bbc740516cd2be\", element=\"aac70f77-3aa7-45a9-93c2-387e133f712c\")>,\n",
       " <selenium.webdriver.remote.webelement.WebElement (session=\"69dceb910a0e132fb9bbc740516cd2be\", element=\"4becc66d-a4d5-464a-8453-23ebb228394f\")>,\n",
       " <selenium.webdriver.remote.webelement.WebElement (session=\"69dceb910a0e132fb9bbc740516cd2be\", element=\"70cf0d06-f2b8-41f2-a7d8-5bd884af7f2c\")>,\n",
       " <selenium.webdriver.remote.webelement.WebElement (session=\"69dceb910a0e132fb9bbc740516cd2be\", element=\"a88d6ef6-0f1e-4a3b-8fcd-a98f2c0a54eb\")>,\n",
       " <selenium.webdriver.remote.webelement.WebElement (session=\"69dceb910a0e132fb9bbc740516cd2be\", element=\"6926eb21-9978-48c9-b927-c81974dd5e76\")>,\n",
       " <selenium.webdriver.remote.webelement.WebElement (session=\"69dceb910a0e132fb9bbc740516cd2be\", element=\"890b7019-e466-403f-9ec0-509ea0202aaa\")>,\n",
       " <selenium.webdriver.remote.webelement.WebElement (session=\"69dceb910a0e132fb9bbc740516cd2be\", element=\"55366e34-bce3-4eb8-a148-76c3eb483fef\")>,\n",
       " <selenium.webdriver.remote.webelement.WebElement (session=\"69dceb910a0e132fb9bbc740516cd2be\", element=\"365734ef-a2de-439e-885c-85a8ed4bf92f\")>,\n",
       " <selenium.webdriver.remote.webelement.WebElement (session=\"69dceb910a0e132fb9bbc740516cd2be\", element=\"0d1eb1e9-7439-46ae-9ae7-574acb0b764e\")>,\n",
       " <selenium.webdriver.remote.webelement.WebElement (session=\"69dceb910a0e132fb9bbc740516cd2be\", element=\"b8c3653f-3825-4e89-90dc-20a4cdbff553\")>,\n",
       " <selenium.webdriver.remote.webelement.WebElement (session=\"69dceb910a0e132fb9bbc740516cd2be\", element=\"c5e615a5-95dd-47cf-abb2-9e1437426feb\")>,\n",
       " <selenium.webdriver.remote.webelement.WebElement (session=\"69dceb910a0e132fb9bbc740516cd2be\", element=\"8b55f78f-5132-4a1d-957b-fc89f2520286\")>,\n",
       " <selenium.webdriver.remote.webelement.WebElement (session=\"69dceb910a0e132fb9bbc740516cd2be\", element=\"fc8c677f-a9d5-461d-a89a-ce6b6cae5d42\")>,\n",
       " <selenium.webdriver.remote.webelement.WebElement (session=\"69dceb910a0e132fb9bbc740516cd2be\", element=\"36338d6f-ad74-4534-8fd5-6f17bffb92e4\")>,\n",
       " <selenium.webdriver.remote.webelement.WebElement (session=\"69dceb910a0e132fb9bbc740516cd2be\", element=\"dc38bdd3-8ccc-448c-8d0b-344db6051c22\")>,\n",
       " <selenium.webdriver.remote.webelement.WebElement (session=\"69dceb910a0e132fb9bbc740516cd2be\", element=\"aee159a0-13d2-472c-a2d3-c22f89ed92ed\")>,\n",
       " <selenium.webdriver.remote.webelement.WebElement (session=\"69dceb910a0e132fb9bbc740516cd2be\", element=\"57012f52-1e0b-4699-9ca9-6b6e955c841d\")>,\n",
       " <selenium.webdriver.remote.webelement.WebElement (session=\"69dceb910a0e132fb9bbc740516cd2be\", element=\"5dc94def-bb25-42c1-ba5e-c4f1dbc3ba56\")>,\n",
       " <selenium.webdriver.remote.webelement.WebElement (session=\"69dceb910a0e132fb9bbc740516cd2be\", element=\"cf1b1ac5-ad08-4c70-979d-2c38edd8effd\")>,\n",
       " <selenium.webdriver.remote.webelement.WebElement (session=\"69dceb910a0e132fb9bbc740516cd2be\", element=\"946a0c06-e480-4ac5-bf13-6e7220b538aa\")>,\n",
       " <selenium.webdriver.remote.webelement.WebElement (session=\"69dceb910a0e132fb9bbc740516cd2be\", element=\"fa455a48-a5f7-492c-8a2f-f64c5b889086\")>,\n",
       " <selenium.webdriver.remote.webelement.WebElement (session=\"69dceb910a0e132fb9bbc740516cd2be\", element=\"4050dd0c-32e7-4074-a323-c354dc5a38f9\")>,\n",
       " <selenium.webdriver.remote.webelement.WebElement (session=\"69dceb910a0e132fb9bbc740516cd2be\", element=\"b6d98b77-56ca-475e-8909-f8e922d277ae\")>,\n",
       " <selenium.webdriver.remote.webelement.WebElement (session=\"69dceb910a0e132fb9bbc740516cd2be\", element=\"1d48af3c-def9-4e5a-b69f-57619b2da4c9\")>,\n",
       " <selenium.webdriver.remote.webelement.WebElement (session=\"69dceb910a0e132fb9bbc740516cd2be\", element=\"e07cea9d-04d1-4e9d-ab47-b7484a6cd0ff\")>,\n",
       " <selenium.webdriver.remote.webelement.WebElement (session=\"69dceb910a0e132fb9bbc740516cd2be\", element=\"ee3a3d9d-36a8-4995-9e92-54956c24701b\")>,\n",
       " <selenium.webdriver.remote.webelement.WebElement (session=\"69dceb910a0e132fb9bbc740516cd2be\", element=\"1c214689-edf3-484f-93db-d99cebe8b634\")>,\n",
       " <selenium.webdriver.remote.webelement.WebElement (session=\"69dceb910a0e132fb9bbc740516cd2be\", element=\"50b7970d-c1e8-4867-ab52-13b7e4ad3c8d\")>,\n",
       " <selenium.webdriver.remote.webelement.WebElement (session=\"69dceb910a0e132fb9bbc740516cd2be\", element=\"889445b7-fc37-4a9f-b03f-aa796d16285e\")>,\n",
       " <selenium.webdriver.remote.webelement.WebElement (session=\"69dceb910a0e132fb9bbc740516cd2be\", element=\"2fec9fcb-5369-44fc-a29b-8d65e45a7f44\")>,\n",
       " <selenium.webdriver.remote.webelement.WebElement (session=\"69dceb910a0e132fb9bbc740516cd2be\", element=\"8a17360d-43f7-464f-8ec1-5eb0702fe952\")>,\n",
       " <selenium.webdriver.remote.webelement.WebElement (session=\"69dceb910a0e132fb9bbc740516cd2be\", element=\"f25655aa-fba8-47c3-a8f8-2560e156f277\")>,\n",
       " <selenium.webdriver.remote.webelement.WebElement (session=\"69dceb910a0e132fb9bbc740516cd2be\", element=\"834ad704-3862-4d45-9c0a-acdcaad539a2\")>,\n",
       " <selenium.webdriver.remote.webelement.WebElement (session=\"69dceb910a0e132fb9bbc740516cd2be\", element=\"0df825e1-0013-4044-90bf-c1260a73ef42\")>,\n",
       " <selenium.webdriver.remote.webelement.WebElement (session=\"69dceb910a0e132fb9bbc740516cd2be\", element=\"35195a5c-6a0e-46c4-93d5-8543c197420f\")>,\n",
       " <selenium.webdriver.remote.webelement.WebElement (session=\"69dceb910a0e132fb9bbc740516cd2be\", element=\"9cb65876-fe8f-41ff-8980-3de7248a12c9\")>,\n",
       " <selenium.webdriver.remote.webelement.WebElement (session=\"69dceb910a0e132fb9bbc740516cd2be\", element=\"af012c63-4df9-4a38-b6fb-0cff218a2124\")>,\n",
       " <selenium.webdriver.remote.webelement.WebElement (session=\"69dceb910a0e132fb9bbc740516cd2be\", element=\"69155781-43a1-438f-9792-f61f54292706\")>,\n",
       " <selenium.webdriver.remote.webelement.WebElement (session=\"69dceb910a0e132fb9bbc740516cd2be\", element=\"94af4d3c-eb0e-45b8-bc4e-1cf155716fe2\")>,\n",
       " <selenium.webdriver.remote.webelement.WebElement (session=\"69dceb910a0e132fb9bbc740516cd2be\", element=\"7d7fef3a-7c8c-47ec-a3bf-6db1360e279e\")>,\n",
       " <selenium.webdriver.remote.webelement.WebElement (session=\"69dceb910a0e132fb9bbc740516cd2be\", element=\"d5b8946d-36d7-473d-a487-c0c4d582e48a\")>,\n",
       " <selenium.webdriver.remote.webelement.WebElement (session=\"69dceb910a0e132fb9bbc740516cd2be\", element=\"e427d332-b084-4777-9730-788c8f018aa3\")>,\n",
       " <selenium.webdriver.remote.webelement.WebElement (session=\"69dceb910a0e132fb9bbc740516cd2be\", element=\"aafc9680-4a37-4a6e-9287-02473eb3d6da\")>,\n",
       " <selenium.webdriver.remote.webelement.WebElement (session=\"69dceb910a0e132fb9bbc740516cd2be\", element=\"a4ab2033-3f2c-428c-85a5-03a7e0d91034\")>,\n",
       " <selenium.webdriver.remote.webelement.WebElement (session=\"69dceb910a0e132fb9bbc740516cd2be\", element=\"d24092d5-1450-4121-a00a-70b3abb1ca36\")>,\n",
       " <selenium.webdriver.remote.webelement.WebElement (session=\"69dceb910a0e132fb9bbc740516cd2be\", element=\"26624963-c8cc-4286-b7a8-befe013146c4\")>,\n",
       " <selenium.webdriver.remote.webelement.WebElement (session=\"69dceb910a0e132fb9bbc740516cd2be\", element=\"fa2a8fec-49f1-424d-81f4-4f7b53c4de27\")>,\n",
       " <selenium.webdriver.remote.webelement.WebElement (session=\"69dceb910a0e132fb9bbc740516cd2be\", element=\"3fec197e-9950-4010-8455-2e6550d9f1aa\")>,\n",
       " <selenium.webdriver.remote.webelement.WebElement (session=\"69dceb910a0e132fb9bbc740516cd2be\", element=\"07ed35bf-8565-49ec-bb34-7e7b8ec7ef33\")>,\n",
       " <selenium.webdriver.remote.webelement.WebElement (session=\"69dceb910a0e132fb9bbc740516cd2be\", element=\"2ddd756b-6e04-4d9e-af63-bf5f4b5b8ba7\")>,\n",
       " <selenium.webdriver.remote.webelement.WebElement (session=\"69dceb910a0e132fb9bbc740516cd2be\", element=\"d3ac99f7-ed8f-4e4f-bca3-021ba5846f91\")>,\n",
       " <selenium.webdriver.remote.webelement.WebElement (session=\"69dceb910a0e132fb9bbc740516cd2be\", element=\"ba7599da-5535-4713-a47d-857314003edb\")>,\n",
       " <selenium.webdriver.remote.webelement.WebElement (session=\"69dceb910a0e132fb9bbc740516cd2be\", element=\"90672516-435e-4913-9c3e-6ee65b2e4ea5\")>,\n",
       " <selenium.webdriver.remote.webelement.WebElement (session=\"69dceb910a0e132fb9bbc740516cd2be\", element=\"cef1a47f-d389-4e54-ae38-1c78d4c10eba\")>,\n",
       " <selenium.webdriver.remote.webelement.WebElement (session=\"69dceb910a0e132fb9bbc740516cd2be\", element=\"e2236e74-e72d-4cbc-86d5-9bbd0b296447\")>,\n",
       " <selenium.webdriver.remote.webelement.WebElement (session=\"69dceb910a0e132fb9bbc740516cd2be\", element=\"ebcdc425-4c5f-4122-b670-8489a773e999\")>,\n",
       " <selenium.webdriver.remote.webelement.WebElement (session=\"69dceb910a0e132fb9bbc740516cd2be\", element=\"e81d7309-52ab-4953-8104-c9a7e5776a6f\")>,\n",
       " <selenium.webdriver.remote.webelement.WebElement (session=\"69dceb910a0e132fb9bbc740516cd2be\", element=\"728e1103-7cff-45e9-aad5-dab7add8c452\")>,\n",
       " <selenium.webdriver.remote.webelement.WebElement (session=\"69dceb910a0e132fb9bbc740516cd2be\", element=\"c04ed76a-4fd7-40ab-af68-a37767630478\")>,\n",
       " <selenium.webdriver.remote.webelement.WebElement (session=\"69dceb910a0e132fb9bbc740516cd2be\", element=\"a81e61e1-bcca-403e-9248-be3e77f893e3\")>,\n",
       " <selenium.webdriver.remote.webelement.WebElement (session=\"69dceb910a0e132fb9bbc740516cd2be\", element=\"4decb275-f847-4c4f-98b2-453db23f6853\")>,\n",
       " <selenium.webdriver.remote.webelement.WebElement (session=\"69dceb910a0e132fb9bbc740516cd2be\", element=\"7bc5e243-1e30-47c0-bb65-3adfdf9e8f7f\")>,\n",
       " <selenium.webdriver.remote.webelement.WebElement (session=\"69dceb910a0e132fb9bbc740516cd2be\", element=\"be6d3c94-27eb-4a11-9a1d-23e9e6a91299\")>,\n",
       " <selenium.webdriver.remote.webelement.WebElement (session=\"69dceb910a0e132fb9bbc740516cd2be\", element=\"0e293f6f-d53f-4b6b-a06e-2776027fa00f\")>,\n",
       " <selenium.webdriver.remote.webelement.WebElement (session=\"69dceb910a0e132fb9bbc740516cd2be\", element=\"33a665f5-66b9-4a39-bd24-21180b03ebf1\")>,\n",
       " <selenium.webdriver.remote.webelement.WebElement (session=\"69dceb910a0e132fb9bbc740516cd2be\", element=\"4c75bb3c-4e83-4845-aea9-486a717ed643\")>,\n",
       " <selenium.webdriver.remote.webelement.WebElement (session=\"69dceb910a0e132fb9bbc740516cd2be\", element=\"af0ba7e9-b474-4aac-b65f-4d640eee4535\")>,\n",
       " <selenium.webdriver.remote.webelement.WebElement (session=\"69dceb910a0e132fb9bbc740516cd2be\", element=\"d3b521ee-8481-47d8-9427-ba6e8f00d76b\")>,\n",
       " <selenium.webdriver.remote.webelement.WebElement (session=\"69dceb910a0e132fb9bbc740516cd2be\", element=\"cf48949f-444d-4206-b839-4580f17ea0a4\")>,\n",
       " <selenium.webdriver.remote.webelement.WebElement (session=\"69dceb910a0e132fb9bbc740516cd2be\", element=\"4b04a1ac-fdbe-4c88-9da6-bea5f92533ed\")>,\n",
       " <selenium.webdriver.remote.webelement.WebElement (session=\"69dceb910a0e132fb9bbc740516cd2be\", element=\"a0f85d69-5468-4a01-bea1-abeb411b38bb\")>,\n",
       " <selenium.webdriver.remote.webelement.WebElement (session=\"69dceb910a0e132fb9bbc740516cd2be\", element=\"3036fd6b-6405-4f8a-b7ca-9317180d999d\")>,\n",
       " <selenium.webdriver.remote.webelement.WebElement (session=\"69dceb910a0e132fb9bbc740516cd2be\", element=\"3ebeeb37-6a09-4df1-80a9-3bab7fd37a7d\")>]"
      ]
     },
     "execution_count": 103,
     "metadata": {},
     "output_type": "execute_result"
    }
   ],
   "source": [
    "#Lets extract all the tags having series\n",
    "series=driver.find_elements(By.XPATH,\"//span[@class='ng-binding']\")\n",
    "series"
   ]
  },
  {
   "cell_type": "code",
   "execution_count": 104,
   "id": "01ed272f",
   "metadata": {},
   "outputs": [
    {
     "data": {
      "text/plain": [
       "['AUSTRALIA TOUR OF INDIA ODI SERIES 2022-23',\n",
       " 'AUSTRALIA TOUR OF INDIA ODI SERIES 2022-23',\n",
       " 'AUSTRALIA TOUR OF INDIA ODI SERIES 2022-23',\n",
       " '',\n",
       " '',\n",
       " '',\n",
       " '',\n",
       " '',\n",
       " '',\n",
       " '',\n",
       " '',\n",
       " '',\n",
       " '',\n",
       " '',\n",
       " '',\n",
       " '',\n",
       " '',\n",
       " '',\n",
       " '',\n",
       " '',\n",
       " '',\n",
       " '',\n",
       " '',\n",
       " '',\n",
       " '',\n",
       " '',\n",
       " '',\n",
       " '',\n",
       " '',\n",
       " '',\n",
       " '',\n",
       " '',\n",
       " '',\n",
       " '',\n",
       " '',\n",
       " '',\n",
       " '',\n",
       " '',\n",
       " '',\n",
       " '',\n",
       " '',\n",
       " '',\n",
       " '',\n",
       " '',\n",
       " '',\n",
       " '',\n",
       " '',\n",
       " '',\n",
       " '',\n",
       " '',\n",
       " '',\n",
       " '',\n",
       " '',\n",
       " '',\n",
       " '',\n",
       " '',\n",
       " '',\n",
       " '',\n",
       " '',\n",
       " '',\n",
       " '',\n",
       " '',\n",
       " '',\n",
       " '',\n",
       " '',\n",
       " '',\n",
       " '',\n",
       " '',\n",
       " '',\n",
       " '',\n",
       " '',\n",
       " '',\n",
       " '',\n",
       " '',\n",
       " '',\n",
       " '',\n",
       " '',\n",
       " '',\n",
       " '',\n",
       " '',\n",
       " '',\n",
       " '',\n",
       " '',\n",
       " '']"
      ]
     },
     "execution_count": 104,
     "metadata": {},
     "output_type": "execute_result"
    }
   ],
   "source": [
    "# Now the text of the series are inside the tags extracted above.\n",
    "Series=[]\n",
    "for i in series:\n",
    "    sr=i.text\n",
    "    Series.append(sr)\n",
    "Series"
   ]
  },
  {
   "cell_type": "code",
   "execution_count": 106,
   "id": "a9345b49",
   "metadata": {},
   "outputs": [
    {
     "data": {
      "text/plain": [
       "[]"
      ]
     },
     "execution_count": 106,
     "metadata": {},
     "output_type": "execute_result"
    }
   ],
   "source": [
    "place=driver.find_elements(By.XPATH,\"//div[@class='fix-place ng-binding ng-scope']\")\n",
    "place"
   ]
  },
  {
   "cell_type": "code",
   "execution_count": 107,
   "id": "81510cfe",
   "metadata": {},
   "outputs": [
    {
     "data": {
      "text/plain": [
       "[]"
      ]
     },
     "execution_count": 107,
     "metadata": {},
     "output_type": "execute_result"
    }
   ],
   "source": [
    "Places=[]\n",
    "for i in place:\n",
    "    p=i.text\n",
    "    Places.append(p[11:])\n",
    "Places"
   ]
  },
  {
   "cell_type": "code",
   "execution_count": 109,
   "id": "3239a2e6",
   "metadata": {},
   "outputs": [
    {
     "data": {
      "text/plain": [
       "[<selenium.webdriver.remote.webelement.WebElement (session=\"69dceb910a0e132fb9bbc740516cd2be\", element=\"08a67f87-cc7a-46ad-b906-15722b2cf206\")>,\n",
       " <selenium.webdriver.remote.webelement.WebElement (session=\"69dceb910a0e132fb9bbc740516cd2be\", element=\"3ceea0e9-73c0-4fab-b995-72fed89ff0d8\")>,\n",
       " <selenium.webdriver.remote.webelement.WebElement (session=\"69dceb910a0e132fb9bbc740516cd2be\", element=\"dfb75f64-9c09-4ecc-9fc2-86cd505773cb\")>,\n",
       " <selenium.webdriver.remote.webelement.WebElement (session=\"69dceb910a0e132fb9bbc740516cd2be\", element=\"e59ba7df-e46a-4dc1-828f-79855254ff28\")>,\n",
       " <selenium.webdriver.remote.webelement.WebElement (session=\"69dceb910a0e132fb9bbc740516cd2be\", element=\"73591ae5-d7c3-41ce-9e43-f65218db8444\")>,\n",
       " <selenium.webdriver.remote.webelement.WebElement (session=\"69dceb910a0e132fb9bbc740516cd2be\", element=\"f6099f1b-e2e2-4017-a6d7-8e854efce8c8\")>,\n",
       " <selenium.webdriver.remote.webelement.WebElement (session=\"69dceb910a0e132fb9bbc740516cd2be\", element=\"b5c0edc3-c5a8-4e8a-a503-a0dc4d856d5f\")>,\n",
       " <selenium.webdriver.remote.webelement.WebElement (session=\"69dceb910a0e132fb9bbc740516cd2be\", element=\"392aacff-d3ab-4747-80b9-1ecee7b0ea6e\")>,\n",
       " <selenium.webdriver.remote.webelement.WebElement (session=\"69dceb910a0e132fb9bbc740516cd2be\", element=\"154a9aca-2b3c-4f79-8731-f82e784dd8b0\")>,\n",
       " <selenium.webdriver.remote.webelement.WebElement (session=\"69dceb910a0e132fb9bbc740516cd2be\", element=\"ef3e9461-443a-497a-85cf-8c4299094b61\")>,\n",
       " <selenium.webdriver.remote.webelement.WebElement (session=\"69dceb910a0e132fb9bbc740516cd2be\", element=\"64d69053-be66-4d03-bde9-64e1a490d465\")>,\n",
       " <selenium.webdriver.remote.webelement.WebElement (session=\"69dceb910a0e132fb9bbc740516cd2be\", element=\"3d9c55b2-4a24-4dd9-97de-24f674e354f9\")>,\n",
       " <selenium.webdriver.remote.webelement.WebElement (session=\"69dceb910a0e132fb9bbc740516cd2be\", element=\"d1bc1d00-8685-4985-8f60-1802ba94f7e7\")>,\n",
       " <selenium.webdriver.remote.webelement.WebElement (session=\"69dceb910a0e132fb9bbc740516cd2be\", element=\"0529a687-55d5-4414-9056-d29854641d92\")>,\n",
       " <selenium.webdriver.remote.webelement.WebElement (session=\"69dceb910a0e132fb9bbc740516cd2be\", element=\"5127eae0-349a-4972-af9c-4a91e0715418\")>,\n",
       " <selenium.webdriver.remote.webelement.WebElement (session=\"69dceb910a0e132fb9bbc740516cd2be\", element=\"eb3cc931-2733-47bf-803e-2452f8dcd825\")>,\n",
       " <selenium.webdriver.remote.webelement.WebElement (session=\"69dceb910a0e132fb9bbc740516cd2be\", element=\"51897a18-c4f0-45f8-9d76-32d6fbeb7f8a\")>,\n",
       " <selenium.webdriver.remote.webelement.WebElement (session=\"69dceb910a0e132fb9bbc740516cd2be\", element=\"f0a2e4e3-be96-402d-bdcb-2ba9bf94981d\")>,\n",
       " <selenium.webdriver.remote.webelement.WebElement (session=\"69dceb910a0e132fb9bbc740516cd2be\", element=\"fafafb3b-5c21-4958-83a3-e238166e9617\")>,\n",
       " <selenium.webdriver.remote.webelement.WebElement (session=\"69dceb910a0e132fb9bbc740516cd2be\", element=\"11590aa2-d3f6-48ee-9328-e492c0bd18a6\")>,\n",
       " <selenium.webdriver.remote.webelement.WebElement (session=\"69dceb910a0e132fb9bbc740516cd2be\", element=\"937a21cc-a9dc-45d2-bce5-30ae2007cff7\")>,\n",
       " <selenium.webdriver.remote.webelement.WebElement (session=\"69dceb910a0e132fb9bbc740516cd2be\", element=\"bf08aa55-9bc5-4b1e-b87d-46b08b5b8981\")>,\n",
       " <selenium.webdriver.remote.webelement.WebElement (session=\"69dceb910a0e132fb9bbc740516cd2be\", element=\"6c39f371-1775-47bd-bb99-91a7a57c44e3\")>,\n",
       " <selenium.webdriver.remote.webelement.WebElement (session=\"69dceb910a0e132fb9bbc740516cd2be\", element=\"81450412-839f-4866-8138-3493ad3243b7\")>,\n",
       " <selenium.webdriver.remote.webelement.WebElement (session=\"69dceb910a0e132fb9bbc740516cd2be\", element=\"fc981a43-b493-46fd-a303-85834e7bdf48\")>,\n",
       " <selenium.webdriver.remote.webelement.WebElement (session=\"69dceb910a0e132fb9bbc740516cd2be\", element=\"bac9a062-f0b4-4bd1-8918-b0017294a23a\")>,\n",
       " <selenium.webdriver.remote.webelement.WebElement (session=\"69dceb910a0e132fb9bbc740516cd2be\", element=\"28106e64-3f9d-4b5e-a807-0fe4af1777b3\")>,\n",
       " <selenium.webdriver.remote.webelement.WebElement (session=\"69dceb910a0e132fb9bbc740516cd2be\", element=\"c2de00f9-3f1f-4674-869a-a9c4c7850d43\")>,\n",
       " <selenium.webdriver.remote.webelement.WebElement (session=\"69dceb910a0e132fb9bbc740516cd2be\", element=\"f6d1da77-7861-49db-bccf-18c1412abaf1\")>]"
      ]
     },
     "execution_count": 109,
     "metadata": {},
     "output_type": "execute_result"
    }
   ],
   "source": [
    "date=driver.find_elements(By.XPATH,\"//h5[@class='ng-binding']\")\n",
    "date"
   ]
  },
  {
   "cell_type": "code",
   "execution_count": 110,
   "id": "16b2d073",
   "metadata": {},
   "outputs": [
    {
     "data": {
      "text/plain": [
       "['17 MAR 2023',\n",
       " '19 MAR 2023',\n",
       " '22 MAR 2023',\n",
       " '',\n",
       " '',\n",
       " '',\n",
       " '',\n",
       " '',\n",
       " '',\n",
       " '',\n",
       " '',\n",
       " '',\n",
       " '',\n",
       " '',\n",
       " '',\n",
       " '',\n",
       " '',\n",
       " '',\n",
       " '',\n",
       " '',\n",
       " '',\n",
       " '',\n",
       " '',\n",
       " '',\n",
       " '',\n",
       " '',\n",
       " '',\n",
       " '',\n",
       " '']"
      ]
     },
     "execution_count": 110,
     "metadata": {},
     "output_type": "execute_result"
    }
   ],
   "source": [
    "Dates=[]\n",
    "for i in date:\n",
    "    d=i.text\n",
    "    Dates.append(d)\n",
    "Dates"
   ]
  },
  {
   "cell_type": "code",
   "execution_count": 112,
   "id": "4ba58be4",
   "metadata": {},
   "outputs": [
    {
     "data": {
      "text/plain": [
       "[]"
      ]
     },
     "execution_count": 112,
     "metadata": {},
     "output_type": "execute_result"
    }
   ],
   "source": [
    "time=driver.find_elements(By.XPATH,\"//h5[@class='text-right ng-binding']\")\n",
    "time"
   ]
  },
  {
   "cell_type": "code",
   "execution_count": 113,
   "id": "fa420b3d",
   "metadata": {},
   "outputs": [
    {
     "data": {
      "text/plain": [
       "[]"
      ]
     },
     "execution_count": 113,
     "metadata": {},
     "output_type": "execute_result"
    }
   ],
   "source": [
    "Time=[]\n",
    "for i in time:\n",
    "    t=i.text\n",
    "    Time.append(t)\n",
    "Time"
   ]
  },
  {
   "cell_type": "code",
   "execution_count": 115,
   "id": "fc66e789",
   "metadata": {},
   "outputs": [],
   "source": [
    "#3. Scrape the details of selenium exception from guru99.com.\n",
    "#Url = https://www.guru99.com/ You need to find following details: A) Name B) Description Note: - From guru99 home page you have to reach to selenium exception handling page through code"
   ]
  },
  {
   "cell_type": "code",
   "execution_count": 5,
   "id": "eba34a52",
   "metadata": {},
   "outputs": [],
   "source": [
    "driver=webdriver.Chrome(r\"C:\\Users\\msi 1\\Downloads\\chromedriver_win32\\chromedriver.exe\")\n",
    "#connect to the driver"
   ]
  },
  {
   "cell_type": "code",
   "execution_count": 7,
   "id": "3ca1d31e",
   "metadata": {},
   "outputs": [],
   "source": [
    "#get webpage\n",
    "url=(\"https://www.guru99.com/\")\n",
    "driver.get(url)\n",
    "time.sleep(2)"
   ]
  },
  {
   "cell_type": "code",
   "execution_count": 8,
   "id": "facb1ed3",
   "metadata": {},
   "outputs": [],
   "source": [
    "# Click Selenium Button\n",
    "Selenium = driver.find_element(By.XPATH,'//div[@class = \"wp-block-kadence-column inner-column-2 kadence-column_f38d98-3a\"]') # click button\n",
    "try:\n",
    "    Selenium.click()\n",
    "except ElementNotInteractableException:#handling element not clickable exception\n",
    "    driver.get(Selenium.get_attribute('href'))"
   ]
  },
  {
   "cell_type": "code",
   "execution_count": 10,
   "id": "239b7132",
   "metadata": {},
   "outputs": [],
   "source": [
    "# Click selenium exception handling  Button\n",
    "exception_handling = driver.find_element(By.XPATH,\"//a[@title='Selenium Exception Handling (Common Exceptions List)']\")\n",
    "try:\n",
    "    exception_handling.click()\n",
    "except ElementNotInteractableException:  #if the above code doesn't work/is not clickable then, the below code will handle it\n",
    "    driver.get(exception_handling.get_attribute('href'))"
   ]
  },
  {
   "cell_type": "code",
   "execution_count": 11,
   "id": "8babe3c1",
   "metadata": {},
   "outputs": [],
   "source": [
    "# Scrape all names tag\n",
    "names=[]\n",
    "try:\n",
    "    name=driver.find_elements(By.XPATH,\"//table[@class='table table-striped']/tbody/tr/td[1]\")\n",
    "    for i in name[1:]:\n",
    "        names.append(i.text)\n",
    "except NoSuchElementException:\n",
    "    names.append('N/A')"
   ]
  },
  {
   "cell_type": "code",
   "execution_count": 12,
   "id": "d01f34e5",
   "metadata": {},
   "outputs": [],
   "source": [
    "# Scrape all Description tag\n",
    "\n",
    "desc=[]\n",
    "try:\n",
    "    descrip=driver.find_elements(By.XPATH,\"//table[@class='table table-striped']/tbody/tr/td[2]\")\n",
    "    for i in descrip[1:]:\n",
    "        desc.append(i.text)\n",
    "except NoSuchElementException:\n",
    "    desc.append('No details available')"
   ]
  },
  {
   "cell_type": "code",
   "execution_count": 13,
   "id": "841dc706",
   "metadata": {},
   "outputs": [
    {
     "name": "stdout",
     "output_type": "stream",
     "text": [
      "\u001b[1mSelenium Exception from Guru 99 :\u001b[0m\n"
     ]
    },
    {
     "data": {
      "text/html": [
       "<div>\n",
       "<style scoped>\n",
       "    .dataframe tbody tr th:only-of-type {\n",
       "        vertical-align: middle;\n",
       "    }\n",
       "\n",
       "    .dataframe tbody tr th {\n",
       "        vertical-align: top;\n",
       "    }\n",
       "\n",
       "    .dataframe thead th {\n",
       "        text-align: right;\n",
       "    }\n",
       "</style>\n",
       "<table border=\"1\" class=\"dataframe\">\n",
       "  <thead>\n",
       "    <tr style=\"text-align: right;\">\n",
       "      <th></th>\n",
       "      <th>Exception name</th>\n",
       "      <th>Description</th>\n",
       "    </tr>\n",
       "  </thead>\n",
       "  <tbody>\n",
       "  </tbody>\n",
       "</table>\n",
       "</div>"
      ],
      "text/plain": [
       "Empty DataFrame\n",
       "Columns: [Exception name, Description]\n",
       "Index: []"
      ]
     },
     "execution_count": 13,
     "metadata": {},
     "output_type": "execute_result"
    }
   ],
   "source": [
    "#create Dataframe\n",
    "\n",
    "dataframe=pd.DataFrame()\n",
    "dataframe['Exception name']=names\n",
    "dataframe['Description']=desc\n",
    "print('\\033[1m'+'Selenium Exception from Guru 99 :'+'\\033[0m')\n",
    "dataframe"
   ]
  },
  {
   "cell_type": "code",
   "execution_count": 15,
   "id": "494ec64c",
   "metadata": {},
   "outputs": [],
   "source": [
    "driver.close()"
   ]
  },
  {
   "cell_type": "code",
   "execution_count": 16,
   "id": "bd03df2b",
   "metadata": {},
   "outputs": [],
   "source": [
    "# 4. Scrape the details of State-wise GDP of India from statisticstime.com.\n",
    "#Url = http://statisticstimes.com/\n",
    "\n",
    "#You have to find following details:\n",
    "\n",
    "#A) Rank\n",
    "\n",
    "#B) State\n",
    "\n",
    "#C) GSDP(18-19)\n",
    "\n",
    "#D) GSDP(17-18)\n",
    "\n",
    "#E) Share(2017)\n",
    "\n",
    "#F) GDP($ billion)\n",
    "\n",
    "#Note: - From statisticstimes home page you have to reach to economy page through code."
   ]
  },
  {
   "cell_type": "code",
   "execution_count": 17,
   "id": "0e926b32",
   "metadata": {},
   "outputs": [],
   "source": [
    "driver=webdriver.Chrome(r\"C:\\Users\\msi 1\\Downloads\\chromedriver_win32\\chromedriver.exe\")\n",
    "#connect to the driver"
   ]
  },
  {
   "cell_type": "code",
   "execution_count": 18,
   "id": "2dacb1c2",
   "metadata": {},
   "outputs": [],
   "source": [
    "# get webpage\n",
    "url=(\"https://www.statisticstimes.com/\")\n",
    "driver.get(url)\n",
    "time.sleep(2)"
   ]
  },
  {
   "cell_type": "code",
   "execution_count": 20,
   "id": "917519c3",
   "metadata": {},
   "outputs": [],
   "source": [
    "# click Economy button\n",
    "\n",
    "economy = driver.find_element(By.XPATH,\"//*[@id='top']/div[2]/div[2]/button\")\n",
    "try:\n",
    "    economy.click()\n",
    "except ElementNotInteractableException:\n",
    "    driver_4.get(economy.get_attribute('href'))"
   ]
  },
  {
   "cell_type": "code",
   "execution_count": 21,
   "id": "cbaf5058",
   "metadata": {},
   "outputs": [],
   "source": [
    "# click on GDP and and go to GDP page\n",
    "\n",
    "gdp = driver.find_element(By.XPATH,\"//*[@id='top']/div[2]/div[2]/div/a[3]\")\n",
    "try:\n",
    "    gdp.click()\n",
    "except ElementNotInteractableException:\n",
    "    driver_4.get(gdp.get_attribute('href'))"
   ]
  },
  {
   "cell_type": "code",
   "execution_count": 23,
   "id": "56a26a57",
   "metadata": {},
   "outputs": [],
   "source": [
    "# click on GDP of Indian State\n",
    "\n",
    "gdp_state = driver.find_element(By.XPATH,\"/html/body/div[2]/div[2]/div[2]/ul/li[1]/a\")\n",
    "try:\n",
    "    gdp_state.click()\n",
    "except ElementNotInteractableException:\n",
    "    driver_4.get(gdp_state.get_attribute('href'))"
   ]
  },
  {
   "cell_type": "code",
   "execution_count": 24,
   "id": "7ddfe26b",
   "metadata": {},
   "outputs": [],
   "source": [
    "# creating empty list\n",
    "Rank= []\n",
    "State= []\n",
    "GSDP_2019= []\n",
    "GSDP_2018= []\n",
    "Share_2017= []\n",
    "GDP= []"
   ]
  },
  {
   "cell_type": "code",
   "execution_count": 25,
   "id": "4899f9d6",
   "metadata": {},
   "outputs": [],
   "source": [
    "#scraping Rank\n",
    "try:\n",
    "    Rank_tag=driver.find_elements(By.XPATH,\"//*[@id='table_id']/tbody/tr/td[1]\")\n",
    "    for i in Rank_tag:\n",
    "        Rank.append(i.text)\n",
    "except NoSuchElementException:\n",
    "    Rank.append('-')\n",
    "except StaleElementReferenceException:\n",
    "    Rank.append('--')"
   ]
  },
  {
   "cell_type": "code",
   "execution_count": 26,
   "id": "842bd2a6",
   "metadata": {},
   "outputs": [],
   "source": [
    "#scraping State\n",
    "try:\n",
    "    State_tag=driver.find_elements(By.XPATH,\"//*[@id='table_id']/tbody/tr/td[2]\")\n",
    "    for i in State_tag:\n",
    "        State.append(i.text)\n",
    "except NoSuchElementException:\n",
    "    State.append('-')\n",
    "except StaleElementReferenceException:\n",
    "    State.append('--')"
   ]
  },
  {
   "cell_type": "code",
   "execution_count": 27,
   "id": "5e790bca",
   "metadata": {},
   "outputs": [],
   "source": [
    "#scraping GSDP 2019\n",
    "try:\n",
    "    GSDP_2019_tag=driver.find_elements(By.XPATH,\"//*[@id='table_id']/tbody/tr/td[3]\")\n",
    "    for i in GSDP_2019_tag:\n",
    "        GSDP_2019.append(i.text)\n",
    "except NoSuchElementException:\n",
    "    GSDP_2019.append('-')\n",
    "except StaleElementReferenceException:\n",
    "    GSDP_2019.append('--')"
   ]
  },
  {
   "cell_type": "code",
   "execution_count": 28,
   "id": "f755ecaa",
   "metadata": {},
   "outputs": [],
   "source": [
    "#scraping GSDP 2018\n",
    "try:\n",
    "    GSDP_2018_tag=driver.find_elements(By.XPATH,\"//*[@id='table_id']/tbody/tr/td[4]\")\n",
    "    for i in GSDP_2018_tag:\n",
    "        GSDP_2018.append(i.text)\n",
    "except NoSuchElementException:\n",
    "    GSDP_2018.append('-')\n",
    "except StaleElementReferenceException:\n",
    "    GSDP_2018.append('--')"
   ]
  },
  {
   "cell_type": "code",
   "execution_count": 29,
   "id": "4f3c88c4",
   "metadata": {},
   "outputs": [],
   "source": [
    "#scraping share 2017\n",
    "try:\n",
    "    Share_2017_tag=driver.find_elements(By.XPATH,\"//*[@id='table_id']/tbody/tr/td[5]\")\n",
    "    for i in Share_2017_tag:\n",
    "        Share_2017.append(i.text)\n",
    "except NoSuchElementException:\n",
    "    Share_2017.append('-')\n",
    "except StaleElementReferenceException:\n",
    "    Share_2017.append('--')"
   ]
  },
  {
   "cell_type": "code",
   "execution_count": 30,
   "id": "ca78fa91",
   "metadata": {},
   "outputs": [],
   "source": [
    "#scraping GDP\n",
    "try:\n",
    "    GDP_tag=driver.find_elements(By.XPATH,\"//*[@id='table_id']/tbody/tr/td[6]\")\n",
    "    for i in GDP_tag:\n",
    "        GDP.append(i.text)\n",
    "except NoSuchElementException:\n",
    "    GDP.append('-')\n",
    "except StaleElementReferenceException:\n",
    "    GDP.append('--')"
   ]
  },
  {
   "cell_type": "code",
   "execution_count": 31,
   "id": "a284d023",
   "metadata": {},
   "outputs": [
    {
     "name": "stdout",
     "output_type": "stream",
     "text": [
      "33 33 33 33 33 33\n"
     ]
    }
   ],
   "source": [
    "#printing length\n",
    "print(len(Rank),len(State),len(GSDP_2019),len(GSDP_2018),len(Share_2017),len(GDP))"
   ]
  },
  {
   "cell_type": "code",
   "execution_count": 32,
   "id": "099f496d",
   "metadata": {},
   "outputs": [
    {
     "data": {
      "text/html": [
       "<div>\n",
       "<style scoped>\n",
       "    .dataframe tbody tr th:only-of-type {\n",
       "        vertical-align: middle;\n",
       "    }\n",
       "\n",
       "    .dataframe tbody tr th {\n",
       "        vertical-align: top;\n",
       "    }\n",
       "\n",
       "    .dataframe thead th {\n",
       "        text-align: right;\n",
       "    }\n",
       "</style>\n",
       "<table border=\"1\" class=\"dataframe\">\n",
       "  <thead>\n",
       "    <tr style=\"text-align: right;\">\n",
       "      <th></th>\n",
       "      <th>State</th>\n",
       "      <th>GSDP_2019</th>\n",
       "      <th>GSDP_2018</th>\n",
       "      <th>Share_2017</th>\n",
       "      <th>GDP</th>\n",
       "    </tr>\n",
       "    <tr>\n",
       "      <th>Rank</th>\n",
       "      <th></th>\n",
       "      <th></th>\n",
       "      <th></th>\n",
       "      <th></th>\n",
       "      <th></th>\n",
       "    </tr>\n",
       "  </thead>\n",
       "  <tbody>\n",
       "    <tr>\n",
       "      <th>1</th>\n",
       "      <td>Maharashtra</td>\n",
       "      <td>-</td>\n",
       "      <td>2,632,792</td>\n",
       "      <td>13.94%</td>\n",
       "      <td>399.921</td>\n",
       "    </tr>\n",
       "    <tr>\n",
       "      <th>2</th>\n",
       "      <td>Tamil Nadu</td>\n",
       "      <td>1,845,853</td>\n",
       "      <td>1,630,208</td>\n",
       "      <td>8.63%</td>\n",
       "      <td>247.629</td>\n",
       "    </tr>\n",
       "    <tr>\n",
       "      <th>3</th>\n",
       "      <td>Uttar Pradesh</td>\n",
       "      <td>1,687,818</td>\n",
       "      <td>1,584,764</td>\n",
       "      <td>8.39%</td>\n",
       "      <td>240.726</td>\n",
       "    </tr>\n",
       "    <tr>\n",
       "      <th>4</th>\n",
       "      <td>Gujarat</td>\n",
       "      <td>-</td>\n",
       "      <td>1,502,899</td>\n",
       "      <td>7.96%</td>\n",
       "      <td>228.290</td>\n",
       "    </tr>\n",
       "    <tr>\n",
       "      <th>5</th>\n",
       "      <td>Karnataka</td>\n",
       "      <td>1,631,977</td>\n",
       "      <td>1,493,127</td>\n",
       "      <td>7.91%</td>\n",
       "      <td>226.806</td>\n",
       "    </tr>\n",
       "    <tr>\n",
       "      <th>6</th>\n",
       "      <td>West Bengal</td>\n",
       "      <td>1,253,832</td>\n",
       "      <td>1,089,898</td>\n",
       "      <td>5.77%</td>\n",
       "      <td>165.556</td>\n",
       "    </tr>\n",
       "    <tr>\n",
       "      <th>7</th>\n",
       "      <td>Rajasthan</td>\n",
       "      <td>1,020,989</td>\n",
       "      <td>942,586</td>\n",
       "      <td>4.99%</td>\n",
       "      <td>143.179</td>\n",
       "    </tr>\n",
       "    <tr>\n",
       "      <th>8</th>\n",
       "      <td>Andhra Pradesh</td>\n",
       "      <td>972,782</td>\n",
       "      <td>862,957</td>\n",
       "      <td>4.57%</td>\n",
       "      <td>131.083</td>\n",
       "    </tr>\n",
       "    <tr>\n",
       "      <th>9</th>\n",
       "      <td>Telangana</td>\n",
       "      <td>969,604</td>\n",
       "      <td>861,031</td>\n",
       "      <td>4.56%</td>\n",
       "      <td>130.791</td>\n",
       "    </tr>\n",
       "    <tr>\n",
       "      <th>10</th>\n",
       "      <td>Madhya Pradesh</td>\n",
       "      <td>906,672</td>\n",
       "      <td>809,592</td>\n",
       "      <td>4.29%</td>\n",
       "      <td>122.977</td>\n",
       "    </tr>\n",
       "    <tr>\n",
       "      <th>11</th>\n",
       "      <td>Kerala</td>\n",
       "      <td>-</td>\n",
       "      <td>781,653</td>\n",
       "      <td>4.14%</td>\n",
       "      <td>118.733</td>\n",
       "    </tr>\n",
       "    <tr>\n",
       "      <th>12</th>\n",
       "      <td>Delhi</td>\n",
       "      <td>856,112</td>\n",
       "      <td>774,870</td>\n",
       "      <td>4.10%</td>\n",
       "      <td>117.703</td>\n",
       "    </tr>\n",
       "    <tr>\n",
       "      <th>13</th>\n",
       "      <td>Haryana</td>\n",
       "      <td>831,610</td>\n",
       "      <td>734,163</td>\n",
       "      <td>3.89%</td>\n",
       "      <td>111.519</td>\n",
       "    </tr>\n",
       "    <tr>\n",
       "      <th>14</th>\n",
       "      <td>Bihar</td>\n",
       "      <td>611,804</td>\n",
       "      <td>530,363</td>\n",
       "      <td>2.81%</td>\n",
       "      <td>80.562</td>\n",
       "    </tr>\n",
       "    <tr>\n",
       "      <th>15</th>\n",
       "      <td>Punjab</td>\n",
       "      <td>574,760</td>\n",
       "      <td>526,376</td>\n",
       "      <td>2.79%</td>\n",
       "      <td>79.957</td>\n",
       "    </tr>\n",
       "    <tr>\n",
       "      <th>16</th>\n",
       "      <td>Odisha</td>\n",
       "      <td>521,275</td>\n",
       "      <td>487,805</td>\n",
       "      <td>2.58%</td>\n",
       "      <td>74.098</td>\n",
       "    </tr>\n",
       "    <tr>\n",
       "      <th>17</th>\n",
       "      <td>Assam</td>\n",
       "      <td>-</td>\n",
       "      <td>315,881</td>\n",
       "      <td>1.67%</td>\n",
       "      <td>47.982</td>\n",
       "    </tr>\n",
       "    <tr>\n",
       "      <th>18</th>\n",
       "      <td>Chhattisgarh</td>\n",
       "      <td>329,180</td>\n",
       "      <td>304,063</td>\n",
       "      <td>1.61%</td>\n",
       "      <td>46.187</td>\n",
       "    </tr>\n",
       "    <tr>\n",
       "      <th>19</th>\n",
       "      <td>Jharkhand</td>\n",
       "      <td>328,598</td>\n",
       "      <td>297,204</td>\n",
       "      <td>1.57%</td>\n",
       "      <td>45.145</td>\n",
       "    </tr>\n",
       "    <tr>\n",
       "      <th>20</th>\n",
       "      <td>Uttarakhand</td>\n",
       "      <td>-</td>\n",
       "      <td>245,895</td>\n",
       "      <td>1.30%</td>\n",
       "      <td>37.351</td>\n",
       "    </tr>\n",
       "    <tr>\n",
       "      <th>21</th>\n",
       "      <td>Jammu &amp; Kashmir</td>\n",
       "      <td>-</td>\n",
       "      <td>155,956</td>\n",
       "      <td>0.83%</td>\n",
       "      <td>23.690</td>\n",
       "    </tr>\n",
       "    <tr>\n",
       "      <th>22</th>\n",
       "      <td>Himachal Pradesh</td>\n",
       "      <td>165,472</td>\n",
       "      <td>153,845</td>\n",
       "      <td>0.81%</td>\n",
       "      <td>23.369</td>\n",
       "    </tr>\n",
       "    <tr>\n",
       "      <th>23</th>\n",
       "      <td>Goa</td>\n",
       "      <td>80,449</td>\n",
       "      <td>73,170</td>\n",
       "      <td>0.39%</td>\n",
       "      <td>11.115</td>\n",
       "    </tr>\n",
       "    <tr>\n",
       "      <th>24</th>\n",
       "      <td>Tripura</td>\n",
       "      <td>55,984</td>\n",
       "      <td>49,845</td>\n",
       "      <td>0.26%</td>\n",
       "      <td>7.571</td>\n",
       "    </tr>\n",
       "    <tr>\n",
       "      <th>25</th>\n",
       "      <td>Chandigarh</td>\n",
       "      <td>-</td>\n",
       "      <td>42,114</td>\n",
       "      <td>0.22%</td>\n",
       "      <td>6.397</td>\n",
       "    </tr>\n",
       "    <tr>\n",
       "      <th>26</th>\n",
       "      <td>Puducherry</td>\n",
       "      <td>38,253</td>\n",
       "      <td>34,433</td>\n",
       "      <td>0.18%</td>\n",
       "      <td>5.230</td>\n",
       "    </tr>\n",
       "    <tr>\n",
       "      <th>27</th>\n",
       "      <td>Meghalaya</td>\n",
       "      <td>36,572</td>\n",
       "      <td>33,481</td>\n",
       "      <td>0.18%</td>\n",
       "      <td>5.086</td>\n",
       "    </tr>\n",
       "    <tr>\n",
       "      <th>28</th>\n",
       "      <td>Sikkim</td>\n",
       "      <td>32,496</td>\n",
       "      <td>28,723</td>\n",
       "      <td>0.15%</td>\n",
       "      <td>4.363</td>\n",
       "    </tr>\n",
       "    <tr>\n",
       "      <th>29</th>\n",
       "      <td>Manipur</td>\n",
       "      <td>31,790</td>\n",
       "      <td>27,870</td>\n",
       "      <td>0.15%</td>\n",
       "      <td>4.233</td>\n",
       "    </tr>\n",
       "    <tr>\n",
       "      <th>30</th>\n",
       "      <td>Nagaland</td>\n",
       "      <td>-</td>\n",
       "      <td>27,283</td>\n",
       "      <td>0.14%</td>\n",
       "      <td>4.144</td>\n",
       "    </tr>\n",
       "    <tr>\n",
       "      <th>31</th>\n",
       "      <td>Arunachal Pradesh</td>\n",
       "      <td>-</td>\n",
       "      <td>24,603</td>\n",
       "      <td>0.13%</td>\n",
       "      <td>3.737</td>\n",
       "    </tr>\n",
       "    <tr>\n",
       "      <th>32</th>\n",
       "      <td>Mizoram</td>\n",
       "      <td>26,503</td>\n",
       "      <td>22,287</td>\n",
       "      <td>0.12%</td>\n",
       "      <td>3.385</td>\n",
       "    </tr>\n",
       "    <tr>\n",
       "      <th>33</th>\n",
       "      <td>Andaman &amp; Nicobar Islands</td>\n",
       "      <td>-</td>\n",
       "      <td>-</td>\n",
       "      <td>-</td>\n",
       "      <td>-</td>\n",
       "    </tr>\n",
       "  </tbody>\n",
       "</table>\n",
       "</div>"
      ],
      "text/plain": [
       "                          State  GSDP_2019  GSDP_2018 Share_2017      GDP\n",
       "Rank                                                                     \n",
       "1                   Maharashtra          -  2,632,792     13.94%  399.921\n",
       "2                    Tamil Nadu  1,845,853  1,630,208      8.63%  247.629\n",
       "3                 Uttar Pradesh  1,687,818  1,584,764      8.39%  240.726\n",
       "4                       Gujarat          -  1,502,899      7.96%  228.290\n",
       "5                     Karnataka  1,631,977  1,493,127      7.91%  226.806\n",
       "6                   West Bengal  1,253,832  1,089,898      5.77%  165.556\n",
       "7                     Rajasthan  1,020,989    942,586      4.99%  143.179\n",
       "8                Andhra Pradesh    972,782    862,957      4.57%  131.083\n",
       "9                     Telangana    969,604    861,031      4.56%  130.791\n",
       "10               Madhya Pradesh    906,672    809,592      4.29%  122.977\n",
       "11                       Kerala          -    781,653      4.14%  118.733\n",
       "12                        Delhi    856,112    774,870      4.10%  117.703\n",
       "13                      Haryana    831,610    734,163      3.89%  111.519\n",
       "14                        Bihar    611,804    530,363      2.81%   80.562\n",
       "15                       Punjab    574,760    526,376      2.79%   79.957\n",
       "16                       Odisha    521,275    487,805      2.58%   74.098\n",
       "17                        Assam          -    315,881      1.67%   47.982\n",
       "18                 Chhattisgarh    329,180    304,063      1.61%   46.187\n",
       "19                    Jharkhand    328,598    297,204      1.57%   45.145\n",
       "20                  Uttarakhand          -    245,895      1.30%   37.351\n",
       "21              Jammu & Kashmir          -    155,956      0.83%   23.690\n",
       "22             Himachal Pradesh    165,472    153,845      0.81%   23.369\n",
       "23                          Goa     80,449     73,170      0.39%   11.115\n",
       "24                      Tripura     55,984     49,845      0.26%    7.571\n",
       "25                   Chandigarh          -     42,114      0.22%    6.397\n",
       "26                   Puducherry     38,253     34,433      0.18%    5.230\n",
       "27                    Meghalaya     36,572     33,481      0.18%    5.086\n",
       "28                       Sikkim     32,496     28,723      0.15%    4.363\n",
       "29                      Manipur     31,790     27,870      0.15%    4.233\n",
       "30                     Nagaland          -     27,283      0.14%    4.144\n",
       "31            Arunachal Pradesh          -     24,603      0.13%    3.737\n",
       "32                      Mizoram     26,503     22,287      0.12%    3.385\n",
       "33    Andaman & Nicobar Islands          -          -          -        -"
      ]
     },
     "execution_count": 32,
     "metadata": {},
     "output_type": "execute_result"
    }
   ],
   "source": [
    "#creating Dataframe\n",
    "State_GDP=pd.DataFrame({\"Rank\":Rank,\"State\":State,\"GSDP_2019\":GSDP_2019,\"GSDP_2018\":GSDP_2018,\"Share_2017\":Share_2017,\"GDP\":GDP}).set_index('Rank')\n",
    "State_GDP"
   ]
  },
  {
   "cell_type": "code",
   "execution_count": 34,
   "id": "a6e83e97",
   "metadata": {},
   "outputs": [],
   "source": [
    "# 5. Scrape the details of trending repositories on Github.com.\n",
    "# Url = https://github.com/\n",
    "\n",
    "# You have to find the following details:\n",
    "\n",
    "# A) Repository title\n",
    "\n",
    "# B) Repository description\n",
    "\n",
    "# C) Contributors count\n",
    "\n",
    "# D) Language used\n",
    "\n",
    "# Note: - From the home page you have to click on the trending option from Explore menu through code."
   ]
  },
  {
   "cell_type": "code",
   "execution_count": 49,
   "id": "1736133b",
   "metadata": {},
   "outputs": [],
   "source": [
    "driver=webdriver.Chrome(r\"C:\\Users\\msi 1\\Downloads\\chromedriver_win32\\chromedriver.exe\")\n",
    "#connect to the driver"
   ]
  },
  {
   "cell_type": "code",
   "execution_count": 50,
   "id": "321ff8bc",
   "metadata": {},
   "outputs": [],
   "source": [
    "#get webpage\n",
    "url=(\" https://github.com/\")\n",
    "driver.get(url)\n",
    "time.sleep(2)"
   ]
  },
  {
   "cell_type": "code",
   "execution_count": 51,
   "id": "71cb9bb8",
   "metadata": {},
   "outputs": [],
   "source": [
    "# Clicking on Trending under explore sub menu\n",
    "trending = driver.find_element(By.XPATH,'//*[@href=\"/trending\"]')\n",
    "try:\n",
    "    driver.get(trending.get_attribute('href'))\n",
    "except ElementNotInteractableException:\n",
    "    driver.get(trending.get_attribute('href'))"
   ]
  },
  {
   "cell_type": "code",
   "execution_count": 52,
   "id": "0de684e7",
   "metadata": {},
   "outputs": [],
   "source": [
    "# creating empty list\n",
    "Repository_title= []\n",
    "Repository_description= []\n",
    "Contributors_count= []\n",
    "Language_used= []\n",
    "urls=[]"
   ]
  },
  {
   "cell_type": "code",
   "execution_count": 53,
   "id": "2cac862d",
   "metadata": {},
   "outputs": [],
   "source": [
    "#Scraping title of repository\n",
    "try:\n",
    "    Repository_title_tag=driver.find_elements(By.XPATH,'//article[@class=\"Box-row\"]/h1/a')\n",
    "    for i in Repository_title_tag:\n",
    "        Repository_title.append(i.text)\n",
    "except NoSuchElementException:\n",
    "    Repository_title.append('-')"
   ]
  },
  {
   "cell_type": "code",
   "execution_count": 54,
   "id": "c465a2bb",
   "metadata": {},
   "outputs": [],
   "source": [
    "#Scraping description of Repository\n",
    "try:\n",
    "    description=driver.find_elements(By.XPATH,'//article[@class=\"Box-row\"]/p')\n",
    "    for i in description:\n",
    "        Repository_description.append(i.text)\n",
    "except NoSuchElementException:\n",
    "    Repository_description.append('-')"
   ]
  },
  {
   "cell_type": "code",
   "execution_count": 55,
   "id": "b99f6e0f",
   "metadata": {},
   "outputs": [],
   "source": [
    "for i in [Repository_title_tag,description]:\n",
    "    for j in i:\n",
    "        if i ==Repository_title_tag:\n",
    "            Repository_title.append(j.text)\n",
    "            urls.append(j.get_attribute('href'))\n",
    "        if i==description:\n",
    "            Repository_description.append(j.text)"
   ]
  },
  {
   "cell_type": "code",
   "execution_count": 56,
   "id": "08add9fb",
   "metadata": {},
   "outputs": [],
   "source": [
    "for url in urls:\n",
    "    driver.get(url)\n",
    "    driver.implicitly_wait(3)\n",
    "    div_list=driver.find_elements(By.XPATH,'//div[@class=\"BorderGrid BorderGrid--spacious\"]/div')\n",
    "    #Scraping count of contributors   \n",
    "    try:\n",
    "        Contributors_count.append(((div_list[-2].text).split())[1])\n",
    "    except:\n",
    "        Contributors_count.append('-')"
   ]
  },
  {
   "cell_type": "code",
   "execution_count": 57,
   "id": "0f4a6e82",
   "metadata": {},
   "outputs": [],
   "source": [
    "#Scraping used language\n",
    "try:\n",
    "    Language_used.append(((div_list[-1].text).split())[1::2])\n",
    "except:\n",
    "    Language_used.append('-')"
   ]
  },
  {
   "cell_type": "code",
   "execution_count": 58,
   "id": "3adbb498",
   "metadata": {},
   "outputs": [
    {
     "data": {
      "text/plain": [
       "(50, 46, 1, 25)"
      ]
     },
     "execution_count": 58,
     "metadata": {},
     "output_type": "execute_result"
    }
   ],
   "source": [
    "#printing length\n",
    "#printing length\n",
    "len(Repository_title),len(Repository_description),len(Language_used),len(Contributors_count)"
   ]
  },
  {
   "cell_type": "markdown",
   "id": "8898b231",
   "metadata": {},
   "source": [
    "# . 6. Scrape the details of top 100 songs on billiboard.com.\n",
    "#Url = https:/www.billboard.com/\n",
    "\n",
    "#You have to find the following details:\n",
    "\n",
    "#A) Song name\n",
    "\n",
    "#B) Artist name\n",
    "\n",
    "#C) Last week rank\n",
    "\n",
    "#D) Peak rank\n",
    "\n",
    "#E) Weeks on board\n",
    "\n",
    "#Note: - From the home page you have to click on the charts option then hot 100-page link through code"
   ]
  },
  {
   "cell_type": "code",
   "execution_count": 39,
   "id": "c40c9f29",
   "metadata": {},
   "outputs": [],
   "source": [
    "driver=webdriver.Chrome(r\"C:\\Users\\msi 1\\Downloads\\chromedriver_win32\\chromedriver.exe\")\n",
    "#connect to the driver"
   ]
  },
  {
   "cell_type": "code",
   "execution_count": 40,
   "id": "e7b27a5f",
   "metadata": {},
   "outputs": [],
   "source": [
    "#get webpage\n",
    "url=(\"https://www.billboard.com\")\n",
    "driver.get(url)\n",
    "time.sleep(2)"
   ]
  },
  {
   "cell_type": "code",
   "execution_count": 41,
   "id": "03a21f0e",
   "metadata": {},
   "outputs": [],
   "source": [
    "#Clicking on charts\n",
    "charts=driver.find_element(By.XPATH,\"/html/body/div[3]/header/div/div[2]/div/div/div[2]/div[2]/div/div/nav/ul/li[1]/a\")"
   ]
  },
  {
   "cell_type": "code",
   "execution_count": 42,
   "id": "a942ee47",
   "metadata": {},
   "outputs": [],
   "source": [
    "charts.click()"
   ]
  },
  {
   "cell_type": "code",
   "execution_count": 36,
   "id": "105c6491",
   "metadata": {},
   "outputs": [],
   "source": [
    "#Creating empty list\n",
    "Name = []\n",
    "Artist = []\n",
    "Last_week_rank = []\n",
    "Peak_rank = []\n",
    "Weeks_on_board = []"
   ]
  },
  {
   "cell_type": "code",
   "execution_count": 44,
   "id": "acfd812c",
   "metadata": {},
   "outputs": [],
   "source": [
    "#Now we have to extract required info from page url\n",
    "#Scraping data of song names\n",
    "for i in driver.find_elements(By.XPATH,\"//span[@class='chart-element__information__song text--truncate color--primary']\"):\n",
    "    Name.append(i.text)"
   ]
  },
  {
   "cell_type": "code",
   "execution_count": 45,
   "id": "45958790",
   "metadata": {},
   "outputs": [],
   "source": [
    "#Scraping data of artist names\n",
    "for i in driver.find_elements(By.XPATH,\"//span[@class='chart-element__information__artist text--truncate color--secondary']\"):\n",
    "    Artist.append(i.text)\n"
   ]
  },
  {
   "cell_type": "code",
   "execution_count": 46,
   "id": "462ca9d9",
   "metadata": {},
   "outputs": [],
   "source": [
    "#Scraping data of last week ranks\n",
    "for i in driver.find_elements(By.XPATH,\"//div[@class='chart-element__meta text--center color--secondary text--last']\"):\n",
    "    Last_week_rank.append(i.text)"
   ]
  },
  {
   "cell_type": "code",
   "execution_count": 47,
   "id": "96b7f45c",
   "metadata": {},
   "outputs": [],
   "source": [
    "#Scraping data of peak rank\n",
    "for i in driver.find_elements(By.XPATH,\"//div[@class='chart-element__meta text--center color--secondary text--peak']\"):\n",
    "    Peak_rank.append(i.text)"
   ]
  },
  {
   "cell_type": "code",
   "execution_count": 48,
   "id": "aac4bb94",
   "metadata": {},
   "outputs": [],
   "source": [
    "#Scraping data of weeks on board\n",
    "for i in driver.find_elements(By.XPATH,\"//div[@class='chart-element__meta text--center color--secondary text--week']\"):\n",
    "    Weeks_on_board.append(i.text)"
   ]
  },
  {
   "cell_type": "code",
   "execution_count": 49,
   "id": "fef0eaa8",
   "metadata": {},
   "outputs": [],
   "source": [
    "#DATA FRAMEING\n",
    "Billboard=pd.DataFrame({})\n",
    "Billboard['Name']=Name\n",
    "Billboard['Artist'] = Artist\n",
    "Billboard['Last week rank'] = Last_week_rank\n",
    "Billboard['Peak rank'] = Peak_rank\n",
    "Billboard['Weeks on board'] = Weeks_on_board"
   ]
  },
  {
   "cell_type": "code",
   "execution_count": 50,
   "id": "3f5f5b74",
   "metadata": {},
   "outputs": [
    {
     "data": {
      "text/html": [
       "<div>\n",
       "<style scoped>\n",
       "    .dataframe tbody tr th:only-of-type {\n",
       "        vertical-align: middle;\n",
       "    }\n",
       "\n",
       "    .dataframe tbody tr th {\n",
       "        vertical-align: top;\n",
       "    }\n",
       "\n",
       "    .dataframe thead th {\n",
       "        text-align: right;\n",
       "    }\n",
       "</style>\n",
       "<table border=\"1\" class=\"dataframe\">\n",
       "  <thead>\n",
       "    <tr style=\"text-align: right;\">\n",
       "      <th></th>\n",
       "      <th>Name</th>\n",
       "      <th>Artist</th>\n",
       "      <th>Last week rank</th>\n",
       "      <th>Peak rank</th>\n",
       "      <th>Weeks on board</th>\n",
       "    </tr>\n",
       "  </thead>\n",
       "  <tbody>\n",
       "  </tbody>\n",
       "</table>\n",
       "</div>"
      ],
      "text/plain": [
       "Empty DataFrame\n",
       "Columns: [Name, Artist, Last week rank, Peak rank, Weeks on board]\n",
       "Index: []"
      ]
     },
     "execution_count": 50,
     "metadata": {},
     "output_type": "execute_result"
    }
   ],
   "source": [
    "#Printing the dataframe\n",
    "Billboard"
   ]
  },
  {
   "cell_type": "code",
   "execution_count": 52,
   "id": "aca56399",
   "metadata": {},
   "outputs": [],
   "source": [
    "#7. Scrape the details of Data science recruiters from naukri.com. Url = https://www.naukri.com/ You have to find the following details:\n",
    "# A) Name\n",
    "# B) Designation\n",
    "#C) Company\n",
    "# D) Skills they hire for\n",
    "# E) Location"
   ]
  },
  {
   "cell_type": "code",
   "execution_count": 63,
   "id": "7607d0f5",
   "metadata": {},
   "outputs": [],
   "source": [
    "driver=webdriver.Chrome(r\"C:\\Users\\msi 1\\Downloads\\chromedriver_win32\\chromedriver.exe\")\n",
    "#connect to the driver"
   ]
  },
  {
   "cell_type": "code",
   "execution_count": 65,
   "id": "f224c840",
   "metadata": {},
   "outputs": [],
   "source": [
    "#get webpage\n",
    "url=(\"https://www.naukri.com/hr-recruiters-consultants\")\n",
    "driver.get(url)\n",
    "time.sleep(2)"
   ]
  },
  {
   "cell_type": "code",
   "execution_count": 67,
   "id": "13b21cc7",
   "metadata": {},
   "outputs": [],
   "source": [
    "#click on Browse All Recruiters\n",
    "browse= driver.find_element(By.XPATH,\"//a[@title='Search Recruiters']\").get_attribute(\"href\")\n",
    "driver.get(browse)"
   ]
  },
  {
   "cell_type": "code",
   "execution_count": 68,
   "id": "0baea904",
   "metadata": {},
   "outputs": [],
   "source": [
    "#Search for Data Science Recruiters\n",
    "driver.find_element(By.XPATH,\"//input[@class='sugInp']\").send_keys(\"Data Science\")\n",
    "driver.find_element(By.XPATH,\"//button[@class='fl qsbSrch blueBtn']\").click()"
   ]
  },
  {
   "cell_type": "code",
   "execution_count": 69,
   "id": "d8508c8a",
   "metadata": {},
   "outputs": [],
   "source": [
    "Name= []\n",
    "Designation= []\n",
    "Company= []\n",
    "Skills= []\n",
    "Location= []"
   ]
  },
  {
   "cell_type": "code",
   "execution_count": 70,
   "id": "ff1033a8",
   "metadata": {},
   "outputs": [],
   "source": [
    "#scraping Recruiters Name\n",
    "try:\n",
    "    Name_tag=driver.find_elements(By.XPATH,\"//span[@class='fl ellipsis']\")\n",
    "    for i in Name_tag:\n",
    "        Name.append(i.text)\n",
    "except:\n",
    "    Name.append(\"-\")"
   ]
  },
  {
   "cell_type": "code",
   "execution_count": 71,
   "id": "68ad0e35",
   "metadata": {},
   "outputs": [],
   "source": [
    "#scraping Designation    \n",
    "try:\n",
    "    Designation_tag=driver.find_elements(By.XPATH,\"//span[@class='ellipsis clr']\")\n",
    "    for i in Designation_tag:\n",
    "        Designation.append(i.text)\n",
    "except:\n",
    "    Designation.append(\"-\")"
   ]
  },
  {
   "cell_type": "code",
   "execution_count": 72,
   "id": "b7d2a58b",
   "metadata": {},
   "outputs": [],
   "source": [
    "#scraping company    \n",
    "try:\n",
    "    Company_tag=driver.find_elements(By.XPATH,\"//a[@class='ellipsis']\")[1::2]\n",
    "    for i in Company_tag:\n",
    "        Company.append(i.text)\n",
    "except:\n",
    "    Company.append(\"-\")"
   ]
  },
  {
   "cell_type": "code",
   "execution_count": 73,
   "id": "6f50e225",
   "metadata": {},
   "outputs": [],
   "source": [
    "#scraping skills    \n",
    "try:\n",
    "    Skills_tag=driver.find_elements(By.XPATH,\"//div[@class='hireSec highlightable']\")\n",
    "    for i in Skills_tag:\n",
    "        Skills.append(i.text)\n",
    "except:\n",
    "    Skills.append(\"-\")"
   ]
  },
  {
   "cell_type": "code",
   "execution_count": 74,
   "id": "1493da36",
   "metadata": {},
   "outputs": [],
   "source": [
    "#scraping Location\n",
    "try:\n",
    "    Location_tag=driver.find_elements(By.XPATH,\"//small[@class='ellipsis']\")\n",
    "    for i in Location_tag:\n",
    "            Location.append(i.text)\n",
    "except:\n",
    "        Location.append(\"-\")"
   ]
  },
  {
   "cell_type": "code",
   "execution_count": 75,
   "id": "313edd64",
   "metadata": {},
   "outputs": [
    {
     "name": "stdout",
     "output_type": "stream",
     "text": [
      "50 50 50 50 49\n"
     ]
    }
   ],
   "source": [
    "#printing length\n",
    "print(len(Name), len(Designation),len(Company), len(Skills), len(Location))"
   ]
  },
  {
   "cell_type": "code",
   "execution_count": 86,
   "id": "3c88d719",
   "metadata": {},
   "outputs": [],
   "source": [
    "import pandas as pd"
   ]
  },
  {
   "cell_type": "code",
   "execution_count": null,
   "id": "c75be3bc",
   "metadata": {},
   "outputs": [],
   "source": []
  }
 ],
 "metadata": {
  "kernelspec": {
   "display_name": "Python 3 (ipykernel)",
   "language": "python",
   "name": "python3"
  },
  "language_info": {
   "codemirror_mode": {
    "name": "ipython",
    "version": 3
   },
   "file_extension": ".py",
   "mimetype": "text/x-python",
   "name": "python",
   "nbconvert_exporter": "python",
   "pygments_lexer": "ipython3",
   "version": "3.9.12"
  }
 },
 "nbformat": 4,
 "nbformat_minor": 5
}
