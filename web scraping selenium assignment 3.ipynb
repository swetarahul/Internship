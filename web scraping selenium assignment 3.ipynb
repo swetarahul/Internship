{
 "cells": [
  {
   "cell_type": "code",
   "execution_count": 88,
   "id": "7d2dfb0d",
   "metadata": {},
   "outputs": [],
   "source": [
    "#1. write python program which take take input from user. e.g guitar\n"
   ]
  },
  {
   "cell_type": "code",
   "execution_count": 1,
   "id": "198b55cc",
   "metadata": {},
   "outputs": [
    {
     "name": "stdout",
     "output_type": "stream",
     "text": [
      "Defaulting to user installation because normal site-packages is not writeable\n",
      "Requirement already satisfied: selenium in c:\\users\\msi 1\\appdata\\roaming\\python\\python39\\site-packages (4.8.0)\n",
      "Requirement already satisfied: trio-websocket~=0.9 in c:\\users\\msi 1\\appdata\\roaming\\python\\python39\\site-packages (from selenium) (0.9.2)\n",
      "Requirement already satisfied: urllib3[socks]~=1.26 in c:\\programdata\\anaconda3\\lib\\site-packages (from selenium) (1.26.9)\n",
      "Requirement already satisfied: certifi>=2021.10.8 in c:\\programdata\\anaconda3\\lib\\site-packages (from selenium) (2021.10.8)\n",
      "Requirement already satisfied: trio~=0.17 in c:\\users\\msi 1\\appdata\\roaming\\python\\python39\\site-packages (from selenium) (0.22.0)\n",
      "Requirement already satisfied: sniffio in c:\\programdata\\anaconda3\\lib\\site-packages (from trio~=0.17->selenium) (1.2.0)\n",
      "Requirement already satisfied: sortedcontainers in c:\\programdata\\anaconda3\\lib\\site-packages (from trio~=0.17->selenium) (2.4.0)\n",
      "Requirement already satisfied: cffi>=1.14 in c:\\programdata\\anaconda3\\lib\\site-packages (from trio~=0.17->selenium) (1.15.0)\n",
      "Requirement already satisfied: exceptiongroup>=1.0.0rc9 in c:\\users\\msi 1\\appdata\\roaming\\python\\python39\\site-packages (from trio~=0.17->selenium) (1.1.0)\n",
      "Requirement already satisfied: idna in c:\\programdata\\anaconda3\\lib\\site-packages (from trio~=0.17->selenium) (3.3)\n",
      "Requirement already satisfied: outcome in c:\\users\\msi 1\\appdata\\roaming\\python\\python39\\site-packages (from trio~=0.17->selenium) (1.2.0)\n",
      "Requirement already satisfied: attrs>=19.2.0 in c:\\programdata\\anaconda3\\lib\\site-packages (from trio~=0.17->selenium) (21.4.0)\n",
      "Requirement already satisfied: async-generator>=1.9 in c:\\users\\msi 1\\appdata\\roaming\\python\\python39\\site-packages (from trio~=0.17->selenium) (1.10)\n",
      "Requirement already satisfied: pycparser in c:\\programdata\\anaconda3\\lib\\site-packages (from cffi>=1.14->trio~=0.17->selenium) (2.21)\n",
      "Requirement already satisfied: wsproto>=0.14 in c:\\users\\msi 1\\appdata\\roaming\\python\\python39\\site-packages (from trio-websocket~=0.9->selenium) (1.2.0)\n",
      "Requirement already satisfied: PySocks!=1.5.7,<2.0,>=1.5.6 in c:\\programdata\\anaconda3\\lib\\site-packages (from urllib3[socks]~=1.26->selenium) (1.7.1)\n",
      "Requirement already satisfied: h11<1,>=0.9.0 in c:\\users\\msi 1\\appdata\\roaming\\python\\python39\\site-packages (from wsproto>=0.14->trio-websocket~=0.9->selenium) (0.14.0)\n"
     ]
    }
   ],
   "source": [
    "!pip install selenium"
   ]
  },
  {
   "cell_type": "code",
   "execution_count": 2,
   "id": "fa587636",
   "metadata": {},
   "outputs": [],
   "source": [
    "import selenium\n",
    "import pandas as pd\n",
    "from selenium import webdriver\n",
    "import warnings\n",
    "warnings.filterwarnings('ignore')\n",
    "from selenium.webdriver.common.by import By\n",
    "import time\n",
    "from selenium.common.exceptions import StaleElementReferenceException, NoSuchElementException\n",
    "from selenium.webdriver.common.keys import Keys"
   ]
  },
  {
   "cell_type": "code",
   "execution_count": 20,
   "id": "c7fd5c81",
   "metadata": {},
   "outputs": [],
   "source": [
    "driver=webdriver.Chrome(r\"C:\\Users\\msi 1\\Downloads\\chromedriver_win32\\chromedriver.exe\")\n",
    "#connect to the driver"
   ]
  },
  {
   "cell_type": "code",
   "execution_count": 21,
   "id": "34628806",
   "metadata": {},
   "outputs": [],
   "source": [
    "# Opening Amazon.in in chrome browser\n",
    "url='http://www.amazon.in/'\n",
    "driver.get(url)\n",
    "time.sleep(2)"
   ]
  },
  {
   "cell_type": "code",
   "execution_count": 22,
   "id": "4744e87d",
   "metadata": {},
   "outputs": [
    {
     "name": "stdout",
     "output_type": "stream",
     "text": [
      "Enter the title of Product you are interest in search :guitar\n"
     ]
    }
   ],
   "source": [
    "# Taking input from user about product search\n",
    "User_input=input('Enter the title of Product you are interest in search :')"
   ]
  },
  {
   "cell_type": "code",
   "execution_count": 24,
   "id": "e7516102",
   "metadata": {},
   "outputs": [],
   "source": [
    "Search=driver.find_element(By.XPATH,'//input[@id=\"twotabsearchtextbox\"]')"
   ]
  },
  {
   "cell_type": "code",
   "execution_count": 25,
   "id": "4f75bdcd",
   "metadata": {},
   "outputs": [],
   "source": [
    "# clearing any previous input in search bar\n",
    "Search.clear()"
   ]
  },
  {
   "cell_type": "code",
   "execution_count": 26,
   "id": "ea851e8b",
   "metadata": {},
   "outputs": [],
   "source": [
    "# Feeding input specified by user to search menu through send keys\n",
    "Search.send_keys(User_input)"
   ]
  },
  {
   "cell_type": "code",
   "execution_count": 27,
   "id": "b52becfd",
   "metadata": {},
   "outputs": [],
   "source": [
    "# Finding Search button for clicking through xpath\n",
    "Search_button=driver.find_element(By.XPATH,'//input[@id=\"nav-search-submit-button\"]')"
   ]
  },
  {
   "cell_type": "code",
   "execution_count": 28,
   "id": "89bd0d58",
   "metadata": {},
   "outputs": [],
   "source": [
    "# Clicking search button\n",
    "Search_button.click()"
   ]
  },
  {
   "cell_type": "code",
   "execution_count": 166,
   "id": "77568ba0",
   "metadata": {},
   "outputs": [],
   "source": [
    "#2. In the above question, now scrape the following details of each product listed in first 3 pages of your search results and save it in df and csv.details to be scrapped are \"brand\",\n",
    "\n",
    "   "
   ]
  },
  {
   "cell_type": "code",
   "execution_count": 29,
   "id": "4c49f6dc",
   "metadata": {},
   "outputs": [],
   "source": [
    "b_name=[]\n",
    "product_name=[]\n",
    "rating=[]\n",
    "no_of_rating=[]\n",
    "price=[]\n",
    "ret_exchange=[]\n",
    "exp_delivery=[]\n",
    "availability=[]\n",
    "other_details=[]\n",
    "product_url=[]\n",
    "urls=[]"
   ]
  },
  {
   "cell_type": "code",
   "execution_count": 56,
   "id": "d22f09f0",
   "metadata": {},
   "outputs": [],
   "source": [
    "for i in range(0,3):\n",
    "    if i>2:\n",
    "        break\n",
    "    p_urls=driver.find_elements(By.XPATH,'//a[@class=\"a-link-normal s-underline-text s-underline-link-text s-link-style a-text-normal\"]')\n",
    "    for i in p_urls:\n",
    "        urls.append(i.get_attribute('href'))"
   ]
  },
  {
   "cell_type": "code",
   "execution_count": 57,
   "id": "1a7066b0",
   "metadata": {},
   "outputs": [],
   "source": [
    " for i in urls:\n",
    "        driver.get(i)\n",
    "        time.sleep(2)"
   ]
  },
  {
   "cell_type": "code",
   "execution_count": 69,
   "id": "a2bc86f4",
   "metadata": {},
   "outputs": [],
   "source": [
    "#scraping data for brand name\n",
    "try:\n",
    "    bran=driver.find_element(By.XPATH,\"//a[@id='bylineInfo']\")\n",
    "    b_name.append(bran.text)\n",
    "except NoSuchElementException as e:\n",
    "    b_name.append(\"--\")"
   ]
  },
  {
   "cell_type": "code",
   "execution_count": 70,
   "id": "680ca554",
   "metadata": {},
   "outputs": [],
   "source": [
    " #scraping data for product name\n",
    "try:\n",
    "    prod=driver.find_element(By.XPATH,\"//h1[@id='title']/span\")\n",
    "    product_name.append(prod.text)\n",
    "except NoSuchElementException as e:\n",
    "    product_name.append(\"--\")"
   ]
  },
  {
   "cell_type": "code",
   "execution_count": 71,
   "id": "cfb74c20",
   "metadata": {},
   "outputs": [],
   "source": [
    " #scraping data for rating\n",
    "try:\n",
    "    rat=driver.find_element(By.XPATH,\"//span[@id='acrPopover']/span/a/i/span\")\n",
    "    rating.append(rat.text)\n",
    "except NoSuchElementException as e:\n",
    "    rating.append(\"--\")"
   ]
  },
  {
   "cell_type": "code",
   "execution_count": 72,
   "id": "9be0bbad",
   "metadata": {},
   "outputs": [],
   "source": [
    " #scraping data for rating no.\n",
    "try:\n",
    "    rat_no=driver.find_element(By.XPATH,\"//span[@id='acrCustomerReviewText']\")\n",
    "    no_of_rating.append(rat_no.text)\n",
    "except NoSuchElementException as e:\n",
    "    no_of_rating.append(\"--\")\n"
   ]
  },
  {
   "cell_type": "code",
   "execution_count": 73,
   "id": "b63299ce",
   "metadata": {},
   "outputs": [],
   "source": [
    " #scraping data for price\n",
    "try:\n",
    "    pri=driver.find_element(By.XPATH,\"//div[@id='apex_desktop']/div/div/table/tbody/tr[2]/td[2]/span/span[2]\")\n",
    "    price.append(pri.text)\n",
    "except NoSuchElementException as e:\n",
    "    price.append(\"--\")"
   ]
  },
  {
   "cell_type": "code",
   "execution_count": 74,
   "id": "031d8e54",
   "metadata": {},
   "outputs": [],
   "source": [
    "#scaping data for return\n",
    "try:\n",
    "    retu=driver.find_element(By.XPATH,\"//div[@id='RETURNS_POLICY']/span/div[2]/a\")\n",
    "    ret_exchange.append(retu.text)\n",
    "except NoSuchElementException as e:\n",
    "    ret_exchange.append(\"--\")\n"
   ]
  },
  {
   "cell_type": "code",
   "execution_count": 75,
   "id": "23ee6cdc",
   "metadata": {},
   "outputs": [],
   "source": [
    " #scraping data for expected delivery\n",
    "try:\n",
    "    deliv=driver.find_element(By.XPATH,\"//div[@id='ddmDeliveryMessage']/b\")\n",
    "    exp_delivery.append(deliv.text)\n",
    "except NoSuchElementException as e:\n",
    "    exp_delivery.append(\"--\")"
   ]
  },
  {
   "cell_type": "code",
   "execution_count": 76,
   "id": "c8139680",
   "metadata": {},
   "outputs": [],
   "source": [
    " #scraping data for availability\n",
    "try:\n",
    "    avail=driver.find_element(By.XPATH,\"//div[@id='availability']/span\")\n",
    "    availability.append(avail.text)\n",
    "except NoSuchElementException as e:\n",
    "    availability.append(\"--\")\n"
   ]
  },
  {
   "cell_type": "code",
   "execution_count": 77,
   "id": "8f7ed7b6",
   "metadata": {},
   "outputs": [],
   "source": [
    " #scraping data for other details\n",
    "try:\n",
    "    od=driver.find_element(By.XPATH,\"//div[@id='feature-bullets']/ul/li/span\")\n",
    "    other_details.append(od.text)\n",
    "except NoSuchElementException as e:\n",
    "    other_details.append(\"--\")"
   ]
  },
  {
   "cell_type": "code",
   "execution_count": 78,
   "id": "97901171",
   "metadata": {},
   "outputs": [],
   "source": [
    " # selecting and clicking next page\n",
    "try:\n",
    "    if i==1:\n",
    "        n_button=driver.find_element(By.XPATH,\"//div[@class='a-section a-spacing-none a-padding-base']/div/ul/li[3]/a\")\n",
    "        n_url=n_button.get_attribute('href')\n",
    "        driver.get(n_url)\n",
    "        time.sleep(2)\n",
    "except:\n",
    "    if i==2:\n",
    "        n_button=driver.find_element(By.XPATH,\"//div[@class='a-section a-spacing-none a-padding-base']/div/ul/li[4]/a\")\n",
    "        n_url=n_button.get_attribute('href')\n",
    "        driver.get(n_url)"
   ]
  },
  {
   "cell_type": "code",
   "execution_count": 79,
   "id": "fc1ef3d2",
   "metadata": {},
   "outputs": [
    {
     "data": {
      "text/html": [
       "<div>\n",
       "<style scoped>\n",
       "    .dataframe tbody tr th:only-of-type {\n",
       "        vertical-align: middle;\n",
       "    }\n",
       "\n",
       "    .dataframe tbody tr th {\n",
       "        vertical-align: top;\n",
       "    }\n",
       "\n",
       "    .dataframe thead th {\n",
       "        text-align: right;\n",
       "    }\n",
       "</style>\n",
       "<table border=\"1\" class=\"dataframe\">\n",
       "  <thead>\n",
       "    <tr style=\"text-align: right;\">\n",
       "      <th></th>\n",
       "      <th>Brand Name</th>\n",
       "      <th>Product</th>\n",
       "      <th>Rating</th>\n",
       "      <th>No. of rating</th>\n",
       "      <th>Price</th>\n",
       "      <th>Return/Exchange</th>\n",
       "      <th>Expected Delivery</th>\n",
       "      <th>Availability</th>\n",
       "      <th>Other Details</th>\n",
       "      <th>Product Url</th>\n",
       "    </tr>\n",
       "  </thead>\n",
       "  <tbody>\n",
       "    <tr>\n",
       "      <th>0</th>\n",
       "      <td>Visit the Intern Store</td>\n",
       "      <td>Intern INT-38C Acoustic Guitar Kit (Blue)</td>\n",
       "      <td></td>\n",
       "      <td>12,523 ratings</td>\n",
       "      <td>--</td>\n",
       "      <td>7 days Replacement</td>\n",
       "      <td>--</td>\n",
       "      <td>In stock</td>\n",
       "      <td>Great looks with an innovative design to produ...</td>\n",
       "      <td>https://www.amazon.in/sspa/click?ie=UTF8&amp;spc=M...</td>\n",
       "    </tr>\n",
       "    <tr>\n",
       "      <th>1</th>\n",
       "      <td>Visit the Intern Store</td>\n",
       "      <td>Intern INT-38C Acoustic Guitar Kit (Blue)</td>\n",
       "      <td></td>\n",
       "      <td>12,523 ratings</td>\n",
       "      <td>--</td>\n",
       "      <td>7 days Replacement</td>\n",
       "      <td>--</td>\n",
       "      <td>In stock</td>\n",
       "      <td>Great looks with an innovative design to produ...</td>\n",
       "      <td>https://www.amazon.in/sspa/click?ie=UTF8&amp;spc=M...</td>\n",
       "    </tr>\n",
       "    <tr>\n",
       "      <th>2</th>\n",
       "      <td>Visit the Intern Store</td>\n",
       "      <td>Intern INT-38C Acoustic Guitar Kit (Blue)</td>\n",
       "      <td></td>\n",
       "      <td>12,523 ratings</td>\n",
       "      <td>--</td>\n",
       "      <td>7 days Replacement</td>\n",
       "      <td>--</td>\n",
       "      <td>In stock</td>\n",
       "      <td>Great looks with an innovative design to produ...</td>\n",
       "      <td>https://www.amazon.in/sspa/click?ie=UTF8&amp;spc=M...</td>\n",
       "    </tr>\n",
       "    <tr>\n",
       "      <th>3</th>\n",
       "      <td>Visit the Intern Store</td>\n",
       "      <td>Intern INT-38C Acoustic Guitar Kit (Blue)</td>\n",
       "      <td></td>\n",
       "      <td>12,523 ratings</td>\n",
       "      <td>--</td>\n",
       "      <td>7 days Replacement</td>\n",
       "      <td>--</td>\n",
       "      <td>In stock</td>\n",
       "      <td>Great looks with an innovative design to produ...</td>\n",
       "      <td>https://www.amazon.in/sspa/click?ie=UTF8&amp;spc=M...</td>\n",
       "    </tr>\n",
       "  </tbody>\n",
       "</table>\n",
       "</div>"
      ],
      "text/plain": [
       "               Brand Name                                    Product Rating  \\\n",
       "0  Visit the Intern Store  Intern INT-38C Acoustic Guitar Kit (Blue)          \n",
       "1  Visit the Intern Store  Intern INT-38C Acoustic Guitar Kit (Blue)          \n",
       "2  Visit the Intern Store  Intern INT-38C Acoustic Guitar Kit (Blue)          \n",
       "3  Visit the Intern Store  Intern INT-38C Acoustic Guitar Kit (Blue)          \n",
       "\n",
       "    No. of rating Price     Return/Exchange Expected Delivery Availability  \\\n",
       "0  12,523 ratings    --  7 days Replacement                --     In stock   \n",
       "1  12,523 ratings    --  7 days Replacement                --     In stock   \n",
       "2  12,523 ratings    --  7 days Replacement                --     In stock   \n",
       "3  12,523 ratings    --  7 days Replacement                --     In stock   \n",
       "\n",
       "                                       Other Details  \\\n",
       "0  Great looks with an innovative design to produ...   \n",
       "1  Great looks with an innovative design to produ...   \n",
       "2  Great looks with an innovative design to produ...   \n",
       "3  Great looks with an innovative design to produ...   \n",
       "\n",
       "                                         Product Url  \n",
       "0  https://www.amazon.in/sspa/click?ie=UTF8&spc=M...  \n",
       "1  https://www.amazon.in/sspa/click?ie=UTF8&spc=M...  \n",
       "2  https://www.amazon.in/sspa/click?ie=UTF8&spc=M...  \n",
       "3  https://www.amazon.in/sspa/click?ie=UTF8&spc=M...  "
      ]
     },
     "execution_count": 79,
     "metadata": {},
     "output_type": "execute_result"
    }
   ],
   "source": [
    "#Placing everything into dataframe\n",
    "df=pd.DataFrame(list(zip(b_name,product_name,rating,no_of_rating,price,ret_exchange,exp_delivery,availability,other_details,urls)),columns=[\"Brand Name\",\"Product\",\"Rating\",\"No. of rating\",\"Price\",\"Return/Exchange\",\"Expected Delivery\",\"Availability\",\"Other Details\",\"Product Url\"])\n",
    "df"
   ]
  },
  {
   "cell_type": "code",
   "execution_count": null,
   "id": "016e6492",
   "metadata": {},
   "outputs": [],
   "source": [
    "#3. n images.google.com and scrape 10 images of fruits.\n"
   ]
  },
  {
   "cell_type": "code",
   "execution_count": 18,
   "id": "b16fa322",
   "metadata": {},
   "outputs": [],
   "source": [
    "driver=webdriver.Chrome(r\"C:\\Users\\msi 1\\Downloads\\chromedriver_win32\\chromedriver.exe\")\n",
    "#connect to the driver"
   ]
  },
  {
   "cell_type": "code",
   "execution_count": 20,
   "id": "4cde6404",
   "metadata": {},
   "outputs": [],
   "source": [
    "url = \"https://images.google.com/\"\n",
    "time.sleep(2)"
   ]
  },
  {
   "cell_type": "code",
   "execution_count": 21,
   "id": "066e6b07",
   "metadata": {},
   "outputs": [],
   "source": [
    "urls = []    \n",
    "data = []\n",
    "search_item = [\"fruits\", \"cars\", \"Machine Learning\",\"guitar\",\"cakes\"]"
   ]
  },
  {
   "cell_type": "code",
   "execution_count": 26,
   "id": "8fd573a9",
   "metadata": {},
   "outputs": [],
   "source": [
    "for item in search_item:\n",
    "    driver.get(url)  \n",
    "    time.sleep(5)\n",
    "    search_img=driver.find_element(By.XPATH,'//input[@class=\"gLFyf\"]') #sending key word for search item\n",
    "    "
   ]
  },
  {
   "cell_type": "code",
   "execution_count": 27,
   "id": "6512c8cd",
   "metadata": {},
   "outputs": [],
   "source": [
    "search_img.send_keys(item)"
   ]
  },
  {
   "cell_type": "code",
   "execution_count": 29,
   "id": "70593081",
   "metadata": {},
   "outputs": [],
   "source": [
    "search_btn = driver.find_element(By.XPATH,'//button[@class=\"Tg7LZd\"]') #Clicking on search button"
   ]
  },
  {
   "cell_type": "code",
   "execution_count": 30,
   "id": "2a4d321a",
   "metadata": {},
   "outputs": [],
   "source": [
    "search_btn.submit()"
   ]
  },
  {
   "cell_type": "code",
   "execution_count": 31,
   "id": "2cfa0034",
   "metadata": {},
   "outputs": [],
   "source": [
    "# scrolling the web page to get more images\n",
    "for _ in range(20):\n",
    "    driver.execute_script(\"window.scrollBy(0,1000)\")"
   ]
  },
  {
   "cell_type": "code",
   "execution_count": 33,
   "id": "85d71db7",
   "metadata": {},
   "outputs": [],
   "source": [
    "imgs = driver.find_elements(By.XPATH,\"//img[@class='rg_i Q4LuWd']\")\n",
    "img_url = []"
   ]
  },
  {
   "cell_type": "code",
   "execution_count": 34,
   "id": "3e166668",
   "metadata": {},
   "outputs": [],
   "source": [
    "for image in imgs:\n",
    "        source = image.get_attribute('src')\n",
    "        if source is not None:\n",
    "                if(source[0:4] == 'http'):\n",
    "                    img_url.append(source)"
   ]
  },
  {
   "cell_type": "code",
   "execution_count": 35,
   "id": "9c03e17e",
   "metadata": {},
   "outputs": [],
   "source": [
    "for i in img_url[:10]:\n",
    "    urls.append(i)"
   ]
  },
  {
   "cell_type": "code",
   "execution_count": 37,
   "id": "3e87768f",
   "metadata": {},
   "outputs": [
    {
     "name": "stdout",
     "output_type": "stream",
     "text": [
      "Downloading 0 of 10 images\n",
      "Downloading 1 of 10 images\n",
      "Downloading 2 of 10 images\n",
      "Downloading 3 of 10 images\n",
      "Downloading 4 of 10 images\n",
      "Downloading 5 of 10 images\n",
      "Downloading 6 of 10 images\n",
      "Downloading 7 of 10 images\n",
      "Downloading 8 of 10 images\n",
      "Downloading 9 of 10 images\n"
     ]
    }
   ],
   "source": [
    "import requests\n",
    "for i in range(len(urls)):\n",
    "    if i > 10:\n",
    "        break\n",
    "    print(\"Downloading {0} of {1} images\" .format(i, 10))\n",
    "    response = requests.get(urls[i])"
   ]
  },
  {
   "cell_type": "code",
   "execution_count": null,
   "id": "7f0654b7",
   "metadata": {},
   "outputs": [],
   "source": [
    "#4. Write a python program to search for a smartphone(e.g.: Oneplus Nord, pixel 4A, etc.) on www.flipkart.com\n",
    "and scrape following details for all the search results displayed on 1st page. Details to be scraped: “Brand \n",
    "Name”, “Smartphone name”, “Colour”, “RAM”, “Storage(ROM)”, “Primary Camera”, \n",
    "“Secondary Camera”, “Display Size”, “Battery Capacity”, “Price”, “Product URL”. Incase if any of the \n",
    "details is missing then replace it by “- “. Save your results in a dataframe and CSV"
   ]
  },
  {
   "cell_type": "code",
   "execution_count": 57,
   "id": "67937190",
   "metadata": {},
   "outputs": [],
   "source": [
    "driver=webdriver.Chrome(r\"C:\\Users\\msi 1\\Downloads\\chromedriver_win32\\chromedriver.exe\")\n",
    "#connect to the driver"
   ]
  },
  {
   "cell_type": "code",
   "execution_count": 78,
   "id": "78b53ede",
   "metadata": {},
   "outputs": [],
   "source": [
    "driver.get(\"https://www.flipkart.com/\")"
   ]
  },
  {
   "cell_type": "code",
   "execution_count": 79,
   "id": "9a57c17f",
   "metadata": {},
   "outputs": [],
   "source": [
    "searchbar=driver.find_element(By.XPATH,'//input[@class=\"_3704LK\"]')"
   ]
  },
  {
   "cell_type": "code",
   "execution_count": 80,
   "id": "8eb5d027",
   "metadata": {},
   "outputs": [],
   "source": [
    "searchbar.send_keys(\"pixel 4A\")"
   ]
  },
  {
   "cell_type": "code",
   "execution_count": 83,
   "id": "5084e1b9",
   "metadata": {},
   "outputs": [],
   "source": [
    "searchButton=driver.find_element(By.XPATH,'//button[@class=\"L0Z3Pu\"]')\n",
    "searchButton.click()"
   ]
  },
  {
   "cell_type": "code",
   "execution_count": 90,
   "id": "2342b279",
   "metadata": {},
   "outputs": [],
   "source": [
    "flip_urls=[]\n",
    "urls=driver.find_element(By.XPATH,('//a[@class=\"_1fQZEK\"]'))"
   ]
  },
  {
   "cell_type": "code",
   "execution_count": null,
   "id": "1710266b",
   "metadata": {},
   "outputs": [],
   "source": [
    "#5.Q5. Write a program to scrap geospatial coordinates (latitude, longitude) of a city searched on google maps"
   ]
  },
  {
   "cell_type": "code",
   "execution_count": 116,
   "id": "e5accf1e",
   "metadata": {},
   "outputs": [],
   "source": [
    "driver=webdriver.Chrome(\"chromedriver.exe\") \n",
    "time.sleep(2)\n"
   ]
  },
  {
   "cell_type": "code",
   "execution_count": 117,
   "id": "ae4a8a1b",
   "metadata": {},
   "outputs": [],
   "source": [
    "# opening google maps\n",
    "url = \"https://www.google.co.in/maps\"\n",
    "driver.get(url)\n",
    "time.sleep(2)"
   ]
  },
  {
   "cell_type": "code",
   "execution_count": 118,
   "id": "d341689c",
   "metadata": {},
   "outputs": [],
   "source": [
    "search = driver.find_element(By.ID,\"searchboxinput\") "
   ]
  },
  {
   "cell_type": "code",
   "execution_count": 119,
   "id": "ccec16e0",
   "metadata": {},
   "outputs": [],
   "source": [
    "search.clear()"
   ]
  },
  {
   "cell_type": "code",
   "execution_count": 120,
   "id": "34c65ca5",
   "metadata": {},
   "outputs": [],
   "source": [
    "time.sleep(2)"
   ]
  },
  {
   "cell_type": "code",
   "execution_count": 121,
   "id": "7303ccdb",
   "metadata": {},
   "outputs": [],
   "source": [
    "search.send_keys(\"New Delhi\") "
   ]
  },
  {
   "cell_type": "code",
   "execution_count": 122,
   "id": "17a40efd",
   "metadata": {},
   "outputs": [],
   "source": [
    "button = driver.find_element(By.ID,\"searchbox-searchbutton\")  "
   ]
  },
  {
   "cell_type": "code",
   "execution_count": 123,
   "id": "f98a64cb",
   "metadata": {},
   "outputs": [],
   "source": [
    "button.click()"
   ]
  },
  {
   "cell_type": "code",
   "execution_count": 124,
   "id": "9c582c10",
   "metadata": {},
   "outputs": [
    {
     "name": "stdout",
     "output_type": "stream",
     "text": [
      "URL Extracted:  https://www.google.co.in/maps/place/New+Delhi,+Delhi/@28.5272803,77.0688981,11z/data=!3m1!4b1!4m6!3m5!1s0x390cfd5b347eb62d:0x52c2b7494e204dce!8m2!3d28.6139391!4d77.2090212!16zL20vMGRsdjA\n",
      "Error:  name 're' is not defined\n"
     ]
    }
   ],
   "source": [
    "try:\n",
    "    url_str = driver.current_url\n",
    "    print(\"URL Extracted: \", url_str)\n",
    "    latitude_longitude = re.findall(r'@(.*)data',url_str)\n",
    "    if len(latitude_longitude):\n",
    "        lat_lng_list = latitude_longitude[0].split(\",\")\n",
    "        if len(lat_lng_list)>=2:\n",
    "            latitude = lat_lng_list[0]\n",
    "            longitude = lat_lng_list[1]\n",
    "        print(\"Latitude = {}, Longitude = {}\".format(latitude, longitude))\n",
    "\n",
    "except Exception as e:\n",
    "        print(\"Error: \", str(e))"
   ]
  },
  {
   "cell_type": "code",
   "execution_count": 125,
   "id": "1d99815c",
   "metadata": {},
   "outputs": [],
   "source": [
    "#6. Write a program to scrap all the available details of best gaming laptops from digit.in."
   ]
  },
  {
   "cell_type": "code",
   "execution_count": 126,
   "id": "9cdb4774",
   "metadata": {},
   "outputs": [],
   "source": [
    "driver=webdriver.Chrome(\"chromedriver.exe\") \n",
    "time.sleep(2)\n"
   ]
  },
  {
   "cell_type": "code",
   "execution_count": 127,
   "id": "8e7bde03",
   "metadata": {},
   "outputs": [],
   "source": [
    "url = \"https://www.digit.in/\"\n",
    "driver.get(url)\n",
    "time.sleep(3)"
   ]
  },
  {
   "cell_type": "code",
   "execution_count": 130,
   "id": "64c5d9a1",
   "metadata": {},
   "outputs": [],
   "source": [
    "#searching for best laptop\n",
    "best_gam_lap = driver.find_element(By.XPATH,\"//div[@class='listing_container']//ul//li[9]\").click()\n",
    "time.sleep(4)"
   ]
  },
  {
   "cell_type": "code",
   "execution_count": 131,
   "id": "806f4e70",
   "metadata": {},
   "outputs": [],
   "source": [
    "#Creating empty lists\n",
    "lap_name = []\n",
    "ope_sys = []\n",
    "display = []\n",
    "processor = []\n",
    "memory = []\n",
    "weight = []\n",
    "dimensions = []\n",
    "graph_proc = []\n",
    "price = []"
   ]
  },
  {
   "cell_type": "code",
   "execution_count": 133,
   "id": "c130fd23",
   "metadata": {},
   "outputs": [],
   "source": [
    "# Scraping the data of laptop names\n",
    "name_tags = driver.find_elements(By.XPATH,\"//table[@id='summtable']//tr//td[1]\")\n",
    "for name in name_tags:\n",
    "    lap_name.append(name.text)"
   ]
  },
  {
   "cell_type": "code",
   "execution_count": 136,
   "id": "62f31c81",
   "metadata": {},
   "outputs": [],
   "source": [
    "#Scraping the data of operating system\n",
    "try:\n",
    "    os_tags = driver.find_elements(By.XPATH,\"//div[@class='Spcs-details']//tr[3]//td[3]\")\n",
    "    for os in os_tags:\n",
    "        ope_sys.append(os.text)\n",
    "except NoSuchElementException:\n",
    "    pass        "
   ]
  },
  {
   "cell_type": "code",
   "execution_count": 137,
   "id": "89fc17ac",
   "metadata": {},
   "outputs": [],
   "source": [
    "#scraping display\n",
    "try:\n",
    "    disp_tags = driver.find_elements(By.XPATH,\"//div[@class='Spcs-details']//tr[4]//td[3]\")\n",
    "    for disp in disp_tags:\n",
    "        display.append(disp.text)\n",
    "except NoSuchElementException:\n",
    "    pass"
   ]
  },
  {
   "cell_type": "code",
   "execution_count": 138,
   "id": "ada37b34",
   "metadata": {},
   "outputs": [],
   "source": [
    "#Scraping data of Processor\n",
    "try:\n",
    "    pro_tags = driver.find_elements(By.XPATH,\"//div[@class='Spcs-details']//tr[5]//td[3]\")\n",
    "    for pro in pro_tags:\n",
    "        processor.append(pro.text)\n",
    "except NoSuchElementException:\n",
    "    pass"
   ]
  },
  {
   "cell_type": "code",
   "execution_count": 139,
   "id": "5760211b",
   "metadata": {},
   "outputs": [],
   "source": [
    "#Scraping data of memory\n",
    "try:\n",
    "    memo_tags = driver.find_elements(By.XPATH,\"//div[@class='Spcs-details']//tr[6]//td[3]\")\n",
    "    for memo in memo_tags:\n",
    "        memory.append(memo.text)\n",
    "except NoSuchElementException:\n",
    "    pass"
   ]
  },
  {
   "cell_type": "code",
   "execution_count": 140,
   "id": "f34b7ae2",
   "metadata": {},
   "outputs": [],
   "source": [
    "#Scraping data of weight\n",
    "try:\n",
    "    wgt_tags = driver.find_elements(By.XPATH,\"//div[@class='Spcs-details']//tr[7]//td[3]\")\n",
    "    for wgt in wgt_tags:\n",
    "        weight.append(wgt.text)\n",
    "except NoSuchElementException:\n",
    "    pass"
   ]
  },
  {
   "cell_type": "code",
   "execution_count": 141,
   "id": "afb2f9a0",
   "metadata": {},
   "outputs": [],
   "source": [
    "#Scraping data of dimensions\n",
    "try:\n",
    "    dim_tags = driver.find_elements(By.XPATH,\"//div[@class='Spcs-details']//tr[8]//td[3]\")\n",
    "    for dim in dim_tags:\n",
    "        dimensions.append(dim.text)\n",
    "except NoSuchElementException:\n",
    "    pass"
   ]
  },
  {
   "cell_type": "code",
   "execution_count": 143,
   "id": "a47c4fbf",
   "metadata": {},
   "outputs": [],
   "source": [
    "#Scraping data of Graph processor\n",
    "try:\n",
    "    gra_tags = driver.find_elements(By.XPATH,\"//div[@class='Spcs-details']//tr[9]//td[3]\")\n",
    "    for gra in gra_tags:\n",
    "        graph_proc.append(gra.text)\n",
    "except NoSuchElementException:\n",
    "    pass"
   ]
  },
  {
   "cell_type": "code",
   "execution_count": 144,
   "id": "ec27bb57",
   "metadata": {},
   "outputs": [],
   "source": [
    "#Scraping data of price\n",
    "try:\n",
    "    pri_tags = driver.find_elements(By.XPATH,\"//td[@class='smprice']\")\n",
    "    for pri in pri_tags:\n",
    "        price.append(pri.text.replace('₹','Rs '))\n",
    "except NoSuchElementException:\n",
    "    pass"
   ]
  },
  {
   "cell_type": "code",
   "execution_count": 146,
   "id": "19990c8d",
   "metadata": {},
   "outputs": [
    {
     "data": {
      "text/html": [
       "<div>\n",
       "<style scoped>\n",
       "    .dataframe tbody tr th:only-of-type {\n",
       "        vertical-align: middle;\n",
       "    }\n",
       "\n",
       "    .dataframe tbody tr th {\n",
       "        vertical-align: top;\n",
       "    }\n",
       "\n",
       "    .dataframe thead th {\n",
       "        text-align: right;\n",
       "    }\n",
       "</style>\n",
       "<table border=\"1\" class=\"dataframe\">\n",
       "  <thead>\n",
       "    <tr style=\"text-align: right;\">\n",
       "      <th></th>\n",
       "      <th>Laptop Name</th>\n",
       "      <th>Operating system</th>\n",
       "      <th>Display</th>\n",
       "      <th>Processor</th>\n",
       "      <th>Memory</th>\n",
       "      <th>Weight</th>\n",
       "    </tr>\n",
       "  </thead>\n",
       "  <tbody>\n",
       "    <tr>\n",
       "      <th>0</th>\n",
       "      <td>MSI Titan GT77-12UHS</td>\n",
       "      <td>17.3″ (3840 x 2160) screen, 120 Hz refresh rate</td>\n",
       "      <td>Windows 11 Home</td>\n",
       "      <td>64 GB DDR5 RAM &amp; 2 TB SSD</td>\n",
       "      <td>16 GB DDR6 NVIDIA GeForce RTX 3080 Ti Graphics...</td>\n",
       "      <td>397 x 330 x 23 mm dimension &amp; 3.3 kg weight</td>\n",
       "    </tr>\n",
       "    <tr>\n",
       "      <th>1</th>\n",
       "      <td>Lenovo Legion 7</td>\n",
       "      <td>16″ (2560 x 1600) screen, 165 Hz refresh rate</td>\n",
       "      <td>Windows 11 Home</td>\n",
       "      <td>32 GB DDR4 RAM &amp; 1 TB SSD</td>\n",
       "      <td>16 GB DDR6 NVIDIA GeForce RTX 3080 Ti Graphics...</td>\n",
       "      <td>358 x 264 x 19 mm dimension &amp; 2.53 kg weight</td>\n",
       "    </tr>\n",
       "    <tr>\n",
       "      <th>2</th>\n",
       "      <td>Alienware x17 R2</td>\n",
       "      <td>17.3″ (1920 x 1080) screen, 360 Hz refresh rate</td>\n",
       "      <td>Windows 11 Home</td>\n",
       "      <td>32 GB DDR5 RAM &amp; 1 TB SSD</td>\n",
       "      <td>16 GB DDR6 NVIDIA GEFORCE RTX 3080 Ti Graphics...</td>\n",
       "      <td>299 x 359 x 21 mm dimension &amp; 2.96 kg weight</td>\n",
       "    </tr>\n",
       "    <tr>\n",
       "      <th>3</th>\n",
       "      <td>Acer Predator Triton 500 SE PT516-52s</td>\n",
       "      <td>16″ (2560 x 1600) screen</td>\n",
       "      <td>Windows 11</td>\n",
       "      <td>32 GB DDR5 RAM &amp; 2 TB SSD</td>\n",
       "      <td>8 GB DDR6 NVIDIA GeForce RTX 3070 Ti Graphics ...</td>\n",
       "      <td>262 x 359 x 20 mm dimension &amp; 2.4 kg weight</td>\n",
       "    </tr>\n",
       "    <tr>\n",
       "      <th>4</th>\n",
       "      <td>Omen by HP (16-B1371TX)</td>\n",
       "      <td>16.1″ (2560 x 1440) screen</td>\n",
       "      <td>Windows 11 Home</td>\n",
       "      <td>8 GB DDR5 RAM &amp; 1 TB SSD</td>\n",
       "      <td>8 GB GDDR6 NVIDIA GeForce RTX 3070 Graphics card</td>\n",
       "      <td>369 x 248 x 23 mm dimension &amp; 2.32 kg weight</td>\n",
       "    </tr>\n",
       "    <tr>\n",
       "      <th>5</th>\n",
       "      <td>Acer Predator Helios 300 AN515-45</td>\n",
       "      <td>15.6″ (2560 x 1440) screen, 165 Hz refresh rate</td>\n",
       "      <td>Windows 11 Home</td>\n",
       "      <td>16 GB DDR4 RAM &amp; 512 GB SSD</td>\n",
       "      <td>8 GB DDR6 NVIDIA GeForce RTX 3070 Graphics card</td>\n",
       "      <td>363 x 255 x 23.9 mm dimension &amp; 2.4 kg weight</td>\n",
       "    </tr>\n",
       "    <tr>\n",
       "      <th>6</th>\n",
       "      <td>MSI Delta 15 (A5EFK-083IN)</td>\n",
       "      <td>15.6″ (1920 x 1080) screen, 240Hz refresh rate</td>\n",
       "      <td>Windows 11 Home</td>\n",
       "      <td>16 GB DDR4 RAM &amp; 1 TB SSD</td>\n",
       "      <td>10 GB DDR6 AMD Radeon RX 6700M Graphics card</td>\n",
       "      <td>357 x 247 x 19 mm dimension &amp; 1.9 kg weight</td>\n",
       "    </tr>\n",
       "    <tr>\n",
       "      <th>7</th>\n",
       "      <td>Omen by HP (16-c0141AX)</td>\n",
       "      <td>16.1″ (2560 x 1440) screen</td>\n",
       "      <td>Windows 11 Home</td>\n",
       "      <td>16 GB DDR4 RAM &amp; 1 TB NVMe</td>\n",
       "      <td>8 GB GDDR6 AMD Radeon™ RX 6600M Graphics card</td>\n",
       "      <td>36.92 x 24.8 x 2.3 mm dimension &amp; 2.3 kg weight</td>\n",
       "    </tr>\n",
       "    <tr>\n",
       "      <th>8</th>\n",
       "      <td>Lenovo Legion 5i Pro (82RF00MGIN)</td>\n",
       "      <td>16″ (2560 x 1600) screen, 165 Hz refresh rate</td>\n",
       "      <td>Windows 11 Home</td>\n",
       "      <td>16 GB DDR5 RAM &amp; 1 TB SSD</td>\n",
       "      <td>6 GB DDR6 NVIDIA GeForce RTX 3060 Graphics card</td>\n",
       "      <td>360 x 264 x 20 mm dimension &amp; 2.49 kg weight</td>\n",
       "    </tr>\n",
       "    <tr>\n",
       "      <th>9</th>\n",
       "      <td>Alienware m15 R5 Ryzen Edition icc-c780001win</td>\n",
       "      <td>15.6″ (1920 x 1080) screen, 165Hz refresh rate</td>\n",
       "      <td>Windows 11 Home</td>\n",
       "      <td>16 GB DDR4 RAM &amp; 512 GB SSD</td>\n",
       "      <td>6 GB DDR6 NVIDIA GeForce RTX 3060 Graphics card</td>\n",
       "      <td>356.2 x 272.5 x 22.85 mm dimension &amp; 2.69 kg w...</td>\n",
       "    </tr>\n",
       "  </tbody>\n",
       "</table>\n",
       "</div>"
      ],
      "text/plain": [
       "                                     Laptop Name  \\\n",
       "0                           MSI Titan GT77-12UHS   \n",
       "1                                Lenovo Legion 7   \n",
       "2                               Alienware x17 R2   \n",
       "3          Acer Predator Triton 500 SE PT516-52s   \n",
       "4                        Omen by HP (16-B1371TX)   \n",
       "5              Acer Predator Helios 300 AN515-45   \n",
       "6                     MSI Delta 15 (A5EFK-083IN)   \n",
       "7                        Omen by HP (16-c0141AX)   \n",
       "8              Lenovo Legion 5i Pro (82RF00MGIN)   \n",
       "9  Alienware m15 R5 Ryzen Edition icc-c780001win   \n",
       "\n",
       "                                  Operating system          Display  \\\n",
       "0  17.3″ (3840 x 2160) screen, 120 Hz refresh rate  Windows 11 Home   \n",
       "1    16″ (2560 x 1600) screen, 165 Hz refresh rate  Windows 11 Home   \n",
       "2  17.3″ (1920 x 1080) screen, 360 Hz refresh rate  Windows 11 Home   \n",
       "3                         16″ (2560 x 1600) screen       Windows 11   \n",
       "4                       16.1″ (2560 x 1440) screen  Windows 11 Home   \n",
       "5  15.6″ (2560 x 1440) screen, 165 Hz refresh rate  Windows 11 Home   \n",
       "6   15.6″ (1920 x 1080) screen, 240Hz refresh rate  Windows 11 Home   \n",
       "7                       16.1″ (2560 x 1440) screen  Windows 11 Home   \n",
       "8    16″ (2560 x 1600) screen, 165 Hz refresh rate  Windows 11 Home   \n",
       "9   15.6″ (1920 x 1080) screen, 165Hz refresh rate  Windows 11 Home   \n",
       "\n",
       "                     Processor  \\\n",
       "0    64 GB DDR5 RAM & 2 TB SSD   \n",
       "1    32 GB DDR4 RAM & 1 TB SSD   \n",
       "2    32 GB DDR5 RAM & 1 TB SSD   \n",
       "3    32 GB DDR5 RAM & 2 TB SSD   \n",
       "4     8 GB DDR5 RAM & 1 TB SSD   \n",
       "5  16 GB DDR4 RAM & 512 GB SSD   \n",
       "6    16 GB DDR4 RAM & 1 TB SSD   \n",
       "7   16 GB DDR4 RAM & 1 TB NVMe   \n",
       "8    16 GB DDR5 RAM & 1 TB SSD   \n",
       "9  16 GB DDR4 RAM & 512 GB SSD   \n",
       "\n",
       "                                              Memory  \\\n",
       "0  16 GB DDR6 NVIDIA GeForce RTX 3080 Ti Graphics...   \n",
       "1  16 GB DDR6 NVIDIA GeForce RTX 3080 Ti Graphics...   \n",
       "2  16 GB DDR6 NVIDIA GEFORCE RTX 3080 Ti Graphics...   \n",
       "3  8 GB DDR6 NVIDIA GeForce RTX 3070 Ti Graphics ...   \n",
       "4   8 GB GDDR6 NVIDIA GeForce RTX 3070 Graphics card   \n",
       "5    8 GB DDR6 NVIDIA GeForce RTX 3070 Graphics card   \n",
       "6       10 GB DDR6 AMD Radeon RX 6700M Graphics card   \n",
       "7      8 GB GDDR6 AMD Radeon™ RX 6600M Graphics card   \n",
       "8    6 GB DDR6 NVIDIA GeForce RTX 3060 Graphics card   \n",
       "9    6 GB DDR6 NVIDIA GeForce RTX 3060 Graphics card   \n",
       "\n",
       "                                              Weight  \n",
       "0        397 x 330 x 23 mm dimension & 3.3 kg weight  \n",
       "1       358 x 264 x 19 mm dimension & 2.53 kg weight  \n",
       "2       299 x 359 x 21 mm dimension & 2.96 kg weight  \n",
       "3        262 x 359 x 20 mm dimension & 2.4 kg weight  \n",
       "4       369 x 248 x 23 mm dimension & 2.32 kg weight  \n",
       "5      363 x 255 x 23.9 mm dimension & 2.4 kg weight  \n",
       "6        357 x 247 x 19 mm dimension & 1.9 kg weight  \n",
       "7    36.92 x 24.8 x 2.3 mm dimension & 2.3 kg weight  \n",
       "8       360 x 264 x 20 mm dimension & 2.49 kg weight  \n",
       "9  356.2 x 272.5 x 22.85 mm dimension & 2.69 kg w...  "
      ]
     },
     "execution_count": 146,
     "metadata": {},
     "output_type": "execute_result"
    }
   ],
   "source": [
    "#Printing data frame\n",
    "Gaming_Laptop"
   ]
  },
  {
   "cell_type": "code",
   "execution_count": 150,
   "id": "a510ee5c",
   "metadata": {},
   "outputs": [],
   "source": [
    "# Write a python program to scrape the details for all billionaires from www.forbes.com. Details to be scrapped: “Rank”, “Name”, “Net worth”, “Age”, “Citizenship”, “Source”, “Industry”. "
   ]
  },
  {
   "cell_type": "code",
   "execution_count": 172,
   "id": "00cf679a",
   "metadata": {},
   "outputs": [],
   "source": [
    "driver=webdriver.Chrome(\"chromedriver.exe\") \n",
    "time.sleep(2)"
   ]
  },
  {
   "cell_type": "code",
   "execution_count": 174,
   "id": "92a6c35c",
   "metadata": {},
   "outputs": [],
   "source": [
    "# opening web page\n",
    "driver.get(\"https://www.forbes.com/billionaires/\")\n",
    "driver.maximize_window()\n",
    "time.sleep(2)"
   ]
  },
  {
   "cell_type": "code",
   "execution_count": 175,
   "id": "fa856678",
   "metadata": {},
   "outputs": [],
   "source": [
    "# Create Empty list\n",
    "rank = []\n",
    "name = []\n",
    "net_worth = []\n",
    "age = []\n",
    "citzn = []\n",
    "source = []\n",
    "industry = []"
   ]
  },
  {
   "cell_type": "code",
   "execution_count": 177,
   "id": "e6137da3",
   "metadata": {},
   "outputs": [],
   "source": [
    "#Fetching Rank\n",
    "rank_tag = driver.find_elements(By.XPATH,\"//div[@class='rank']\")\n",
    "for r in rank_tag:\n",
    "    try:\n",
    "        rank.append(r.text)\n",
    "    except NoSuchElementException:\n",
    "        rank.append(\"-\")"
   ]
  },
  {
   "cell_type": "code",
   "execution_count": 178,
   "id": "bce316c9",
   "metadata": {},
   "outputs": [],
   "source": [
    "#Fetching Name\n",
    "name_tag = driver.find_elements(By.XPATH,\"//div[@class='personName']\")\n",
    "for n in name_tag:\n",
    "    try:\n",
    "        name.append(n.text)\n",
    "    except NoSuchElementException:\n",
    "        name.append(\"-\")"
   ]
  },
  {
   "cell_type": "code",
   "execution_count": 179,
   "id": "9827ba19",
   "metadata": {},
   "outputs": [],
   "source": [
    "#Fetching Net Worth\n",
    "netwrth_tag = driver.find_elements(By.XPATH,\"//div[@class='netWorth']\")\n",
    "for nt in netwrth_tag:\n",
    "    try:\n",
    "        net_worth.append(nt.text)\n",
    "    except NoSuchElementException:\n",
    "        net_worth.append(\"-\")"
   ]
  },
  {
   "cell_type": "code",
   "execution_count": 180,
   "id": "6dfa38a2",
   "metadata": {},
   "outputs": [],
   "source": [
    "#Fetching Age\n",
    "age_tag = driver.find_elements(By.XPATH,\"//div[@class='age']\")\n",
    "for a in age_tag:\n",
    "    try:\n",
    "        age.append(a.text)\n",
    "    except NoSuchElementException:\n",
    "        age.append(\"-\")"
   ]
  },
  {
   "cell_type": "code",
   "execution_count": 181,
   "id": "a6bf912d",
   "metadata": {},
   "outputs": [],
   "source": [
    "#Fetching Citizenship\n",
    "cit_tag = driver.find_elements(By.XPATH,\"//div[@class='countryOfCitizenship']\")\n",
    "for c in cit_tag:\n",
    "    try:\n",
    "        citzn.append(c.text)\n",
    "    except NoSuchElementException:\n",
    "        citzn.append(\"-\")"
   ]
  },
  {
   "cell_type": "code",
   "execution_count": 182,
   "id": "c00a2f76",
   "metadata": {},
   "outputs": [],
   "source": [
    "#Fetching Source\n",
    "src_tag = driver.find_elements(By.XPATH,\"//span[@class='source-text']\")\n",
    "for s in src_tag:\n",
    "    try:\n",
    "        source.append(s.text)\n",
    "    except NoSuchElementException:\n",
    "        source.append(\"-\")"
   ]
  },
  {
   "cell_type": "code",
   "execution_count": 183,
   "id": "af08caaf",
   "metadata": {},
   "outputs": [],
   "source": [
    "#Fetching Industry\n",
    "ind_tag = driver.find_elements(By.XPATH,\"//div[@class='category']\")\n",
    "for ind in ind_tag:\n",
    "        try:\n",
    "            industry.append(ind.text)\n",
    "        except NoSuchElementException:\n",
    "            industry.append(\"-\")"
   ]
  },
  {
   "cell_type": "code",
   "execution_count": 184,
   "id": "ff764bc8",
   "metadata": {},
   "outputs": [
    {
     "data": {
      "text/plain": [
       "(200, 200, 200, 200, 200, 200, 200)"
      ]
     },
     "execution_count": 184,
     "metadata": {},
     "output_type": "execute_result"
    }
   ],
   "source": [
    "# Length of all the coloumns\n",
    "len(rank),len(name),len(net_worth),len(age),len(citzn),len(source),len(industry)"
   ]
  },
  {
   "cell_type": "code",
   "execution_count": 185,
   "id": "a0e115b7",
   "metadata": {},
   "outputs": [
    {
     "data": {
      "text/html": [
       "<div>\n",
       "<style scoped>\n",
       "    .dataframe tbody tr th:only-of-type {\n",
       "        vertical-align: middle;\n",
       "    }\n",
       "\n",
       "    .dataframe tbody tr th {\n",
       "        vertical-align: top;\n",
       "    }\n",
       "\n",
       "    .dataframe thead th {\n",
       "        text-align: right;\n",
       "    }\n",
       "</style>\n",
       "<table border=\"1\" class=\"dataframe\">\n",
       "  <thead>\n",
       "    <tr style=\"text-align: right;\">\n",
       "      <th></th>\n",
       "      <th>Rank</th>\n",
       "      <th>Name</th>\n",
       "      <th>Net Worth</th>\n",
       "      <th>Age</th>\n",
       "      <th>Citizenship/Country</th>\n",
       "      <th>Source</th>\n",
       "      <th>Industry</th>\n",
       "    </tr>\n",
       "  </thead>\n",
       "  <tbody>\n",
       "    <tr>\n",
       "      <th>0</th>\n",
       "      <td>1.</td>\n",
       "      <td>Elon Musk</td>\n",
       "      <td>$219 B</td>\n",
       "      <td></td>\n",
       "      <td>United States</td>\n",
       "      <td>Tesla, SpaceX</td>\n",
       "      <td>Automotive</td>\n",
       "    </tr>\n",
       "    <tr>\n",
       "      <th>1</th>\n",
       "      <td>2.</td>\n",
       "      <td>Jeff Bezos</td>\n",
       "      <td>$171 B</td>\n",
       "      <td></td>\n",
       "      <td>United States</td>\n",
       "      <td>Amazon</td>\n",
       "      <td>Technology</td>\n",
       "    </tr>\n",
       "    <tr>\n",
       "      <th>2</th>\n",
       "      <td>3.</td>\n",
       "      <td>Bernard Arnault &amp; family</td>\n",
       "      <td>$158 B</td>\n",
       "      <td></td>\n",
       "      <td>France</td>\n",
       "      <td>LVMH</td>\n",
       "      <td>Fashion &amp; Retail</td>\n",
       "    </tr>\n",
       "    <tr>\n",
       "      <th>3</th>\n",
       "      <td>4.</td>\n",
       "      <td>Bill Gates</td>\n",
       "      <td>$129 B</td>\n",
       "      <td></td>\n",
       "      <td>United States</td>\n",
       "      <td>Microsoft</td>\n",
       "      <td>Technology</td>\n",
       "    </tr>\n",
       "    <tr>\n",
       "      <th>4</th>\n",
       "      <td>5.</td>\n",
       "      <td>Warren Buffett</td>\n",
       "      <td>$118 B</td>\n",
       "      <td></td>\n",
       "      <td>United States</td>\n",
       "      <td>Berkshire Hathaway</td>\n",
       "      <td>Finance &amp; Investments</td>\n",
       "    </tr>\n",
       "    <tr>\n",
       "      <th>...</th>\n",
       "      <td>...</td>\n",
       "      <td>...</td>\n",
       "      <td>...</td>\n",
       "      <td>...</td>\n",
       "      <td>...</td>\n",
       "      <td>...</td>\n",
       "      <td>...</td>\n",
       "    </tr>\n",
       "    <tr>\n",
       "      <th>195</th>\n",
       "      <td>192.</td>\n",
       "      <td>Marcel Herrmann Telles</td>\n",
       "      <td>$10.3 B</td>\n",
       "      <td></td>\n",
       "      <td>Brazil</td>\n",
       "      <td>beer</td>\n",
       "      <td>Food &amp; Beverage</td>\n",
       "    </tr>\n",
       "    <tr>\n",
       "      <th>196</th>\n",
       "      <td>197.</td>\n",
       "      <td>Leon Black</td>\n",
       "      <td>$10 B</td>\n",
       "      <td></td>\n",
       "      <td>United States</td>\n",
       "      <td>private equity</td>\n",
       "      <td>Finance &amp; Investments</td>\n",
       "    </tr>\n",
       "    <tr>\n",
       "      <th>197</th>\n",
       "      <td>197.</td>\n",
       "      <td>Joe Gebbia</td>\n",
       "      <td>$10 B</td>\n",
       "      <td></td>\n",
       "      <td>United States</td>\n",
       "      <td>Airbnb</td>\n",
       "      <td>Technology</td>\n",
       "    </tr>\n",
       "    <tr>\n",
       "      <th>198</th>\n",
       "      <td>197.</td>\n",
       "      <td>David Geffen</td>\n",
       "      <td>$10 B</td>\n",
       "      <td></td>\n",
       "      <td>United States</td>\n",
       "      <td>movies, record labels</td>\n",
       "      <td>Media &amp; Entertainment</td>\n",
       "    </tr>\n",
       "    <tr>\n",
       "      <th>199</th>\n",
       "      <td>197.</td>\n",
       "      <td>Yu Renrong</td>\n",
       "      <td>$10 B</td>\n",
       "      <td></td>\n",
       "      <td>China</td>\n",
       "      <td>semiconductors</td>\n",
       "      <td>Manufacturing</td>\n",
       "    </tr>\n",
       "  </tbody>\n",
       "</table>\n",
       "<p>200 rows × 7 columns</p>\n",
       "</div>"
      ],
      "text/plain": [
       "     Rank                      Name Net Worth Age Citizenship/Country  \\\n",
       "0      1.                 Elon Musk    $219 B           United States   \n",
       "1      2.                Jeff Bezos    $171 B           United States   \n",
       "2      3.  Bernard Arnault & family    $158 B                  France   \n",
       "3      4.                Bill Gates    $129 B           United States   \n",
       "4      5.            Warren Buffett    $118 B           United States   \n",
       "..    ...                       ...       ...  ..                 ...   \n",
       "195  192.    Marcel Herrmann Telles   $10.3 B                  Brazil   \n",
       "196  197.                Leon Black     $10 B           United States   \n",
       "197  197.                Joe Gebbia     $10 B           United States   \n",
       "198  197.              David Geffen     $10 B           United States   \n",
       "199  197.                Yu Renrong     $10 B                   China   \n",
       "\n",
       "                    Source               Industry  \n",
       "0            Tesla, SpaceX             Automotive  \n",
       "1                   Amazon             Technology  \n",
       "2                     LVMH       Fashion & Retail  \n",
       "3                Microsoft             Technology  \n",
       "4       Berkshire Hathaway  Finance & Investments  \n",
       "..                     ...                    ...  \n",
       "195                   beer        Food & Beverage  \n",
       "196         private equity  Finance & Investments  \n",
       "197                 Airbnb             Technology  \n",
       "198  movies, record labels  Media & Entertainment  \n",
       "199         semiconductors          Manufacturing  \n",
       "\n",
       "[200 rows x 7 columns]"
      ]
     },
     "execution_count": 185,
     "metadata": {},
     "output_type": "execute_result"
    }
   ],
   "source": [
    "#create Dataframe\n",
    "Billionaires =pd.DataFrame({'Rank':rank,'Name':name,'Net Worth':net_worth,'Age': age,'Citizenship/Country':citzn,'Source':source,'Industry':industry})\n",
    "Billionaires"
   ]
  },
  {
   "cell_type": "code",
   "execution_count": 186,
   "id": "706aed65",
   "metadata": {},
   "outputs": [],
   "source": [
    "# Write a program to extract at least 500 Comments, Comment upvote and time when comment was posted from yt video\n"
   ]
  },
  {
   "cell_type": "code",
   "execution_count": 187,
   "id": "cacc5106",
   "metadata": {},
   "outputs": [],
   "source": [
    "driver=webdriver.Chrome(\"chromedriver.exe\") \n",
    "time.sleep(2)"
   ]
  },
  {
   "cell_type": "code",
   "execution_count": 188,
   "id": "babe0587",
   "metadata": {},
   "outputs": [],
   "source": [
    "driver.get(\"https://www.youtube.com/watch?v=USccSZnS8MQ\")\n",
    "driver.maximize_window()\n",
    "time.sleep(2)"
   ]
  },
  {
   "cell_type": "code",
   "execution_count": 190,
   "id": "410ad6a1",
   "metadata": {},
   "outputs": [],
   "source": [
    "i=0\n",
    "while(i<100):\n",
    "    driver.execute_script(\"window.scrollBy(0,500)\") # scroll down to get more comments\n",
    "    i+=1\n",
    "while(i<402):\n",
    "    driver.execute_script(\"window.scrollBy(0,5000)\") # scroll down to get more comments\n",
    "    i+=1"
   ]
  },
  {
   "cell_type": "code",
   "execution_count": 191,
   "id": "4e0521b1",
   "metadata": {},
   "outputs": [],
   "source": [
    "comment = []\n",
    "upvote = []\n",
    "comment_time = []\n"
   ]
  },
  {
   "cell_type": "code",
   "execution_count": 192,
   "id": "f21ab811",
   "metadata": {},
   "outputs": [],
   "source": [
    "comment_tag=(driver.find_elements(By.XPATH,'//yt-formatted-string[@id=\"content-text\"]'))\n",
    "for i in comment_tag:             \n",
    "    try:\n",
    "        comment.append(i.text)\n",
    "    except NoSuchElementException:\n",
    "        comment.append(\"-\")"
   ]
  },
  {
   "cell_type": "code",
   "execution_count": 193,
   "id": "e8094232",
   "metadata": {},
   "outputs": [],
   "source": [
    "upvote_tag=(driver.find_elements(By.XPATH,\"//*[@id='vote-count-middle']\"))\n",
    "for i in upvote_tag:             \n",
    "    try:\n",
    "        upvote.append(i.text)\n",
    "    except NoSuchElementException:\n",
    "        upvote.append(\"-\")"
   ]
  },
  {
   "cell_type": "code",
   "execution_count": 194,
   "id": "a80b658f",
   "metadata": {},
   "outputs": [],
   "source": [
    "comment_time_tag=(driver.find_elements(By.XPATH,\"//*[@id='header-author']/yt-formatted-string/a\"))\n",
    "for i in comment_time_tag:             \n",
    "    try:\n",
    "        comment_time.append(i.text)\n",
    "    except NoSuchElementException:\n",
    "        comment_time.append(\"-\")"
   ]
  },
  {
   "cell_type": "code",
   "execution_count": 195,
   "id": "ce3edc96",
   "metadata": {},
   "outputs": [
    {
     "data": {
      "text/html": [
       "<div>\n",
       "<style scoped>\n",
       "    .dataframe tbody tr th:only-of-type {\n",
       "        vertical-align: middle;\n",
       "    }\n",
       "\n",
       "    .dataframe tbody tr th {\n",
       "        vertical-align: top;\n",
       "    }\n",
       "\n",
       "    .dataframe thead th {\n",
       "        text-align: right;\n",
       "    }\n",
       "</style>\n",
       "<table border=\"1\" class=\"dataframe\">\n",
       "  <thead>\n",
       "    <tr style=\"text-align: right;\">\n",
       "      <th></th>\n",
       "      <th>Comment</th>\n",
       "      <th>Upvote</th>\n",
       "      <th>Comment_ Time</th>\n",
       "    </tr>\n",
       "  </thead>\n",
       "  <tbody>\n",
       "    <tr>\n",
       "      <th>0</th>\n",
       "      <td>Lose yourself in the Magic of “Love” with Sidh...</td>\n",
       "      <td>36K</td>\n",
       "      <td>2 years ago</td>\n",
       "    </tr>\n",
       "    <tr>\n",
       "      <th>1</th>\n",
       "      <td>Its 2022 but still favorite</td>\n",
       "      <td>1.4K</td>\n",
       "      <td>11 months ago</td>\n",
       "    </tr>\n",
       "    <tr>\n",
       "      <th>2</th>\n",
       "      <td>A message to the future generations..Don’t let...</td>\n",
       "      <td>65</td>\n",
       "      <td>1 month ago</td>\n",
       "    </tr>\n",
       "    <tr>\n",
       "      <th>3</th>\n",
       "      <td>It's 2023 still the magic of this song never b...</td>\n",
       "      <td>363</td>\n",
       "      <td>1 month ago</td>\n",
       "    </tr>\n",
       "    <tr>\n",
       "      <th>4</th>\n",
       "      <td>This song never gets old. No matter how much I...</td>\n",
       "      <td>166</td>\n",
       "      <td>1 month ago</td>\n",
       "    </tr>\n",
       "    <tr>\n",
       "      <th>...</th>\n",
       "      <td>...</td>\n",
       "      <td>...</td>\n",
       "      <td>...</td>\n",
       "    </tr>\n",
       "    <tr>\n",
       "      <th>95</th>\n",
       "      <td>WHAT A FRESH VOICE ️</td>\n",
       "      <td>4</td>\n",
       "      <td>5 months ago</td>\n",
       "    </tr>\n",
       "    <tr>\n",
       "      <th>96</th>\n",
       "      <td>I love this song ️</td>\n",
       "      <td>1</td>\n",
       "      <td>2 months ago</td>\n",
       "    </tr>\n",
       "    <tr>\n",
       "      <th>97</th>\n",
       "      <td>Love this song ️️</td>\n",
       "      <td></td>\n",
       "      <td>3 weeks ago</td>\n",
       "    </tr>\n",
       "    <tr>\n",
       "      <th>98</th>\n",
       "      <td>This song is very close to my ambitious heart ️</td>\n",
       "      <td>7</td>\n",
       "      <td>5 months ago</td>\n",
       "    </tr>\n",
       "    <tr>\n",
       "      <th>99</th>\n",
       "      <td>Listening this song after so many time.. just ...</td>\n",
       "      <td></td>\n",
       "      <td>1 month ago</td>\n",
       "    </tr>\n",
       "  </tbody>\n",
       "</table>\n",
       "<p>100 rows × 3 columns</p>\n",
       "</div>"
      ],
      "text/plain": [
       "                                              Comment Upvote  Comment_ Time\n",
       "0   Lose yourself in the Magic of “Love” with Sidh...    36K    2 years ago\n",
       "1                         Its 2022 but still favorite   1.4K  11 months ago\n",
       "2   A message to the future generations..Don’t let...     65    1 month ago\n",
       "3   It's 2023 still the magic of this song never b...    363    1 month ago\n",
       "4   This song never gets old. No matter how much I...    166    1 month ago\n",
       "..                                                ...    ...            ...\n",
       "95                               WHAT A FRESH VOICE ️      4   5 months ago\n",
       "96                                 I love this song ️      1   2 months ago\n",
       "97                                  Love this song ️️           3 weeks ago\n",
       "98    This song is very close to my ambitious heart ️      7   5 months ago\n",
       "99  Listening this song after so many time.. just ...           1 month ago\n",
       "\n",
       "[100 rows x 3 columns]"
      ]
     },
     "execution_count": 195,
     "metadata": {},
     "output_type": "execute_result"
    }
   ],
   "source": [
    "video=pd.DataFrame({\"Comment\":comment,\"Upvote\":upvote,\"Comment_ Time\":comment_time})\n",
    "video"
   ]
  },
  {
   "cell_type": "code",
   "execution_count": null,
   "id": "5a79d669",
   "metadata": {},
   "outputs": [],
   "source": []
  }
 ],
 "metadata": {
  "kernelspec": {
   "display_name": "Python 3 (ipykernel)",
   "language": "python",
   "name": "python3"
  },
  "language_info": {
   "codemirror_mode": {
    "name": "ipython",
    "version": 3
   },
   "file_extension": ".py",
   "mimetype": "text/x-python",
   "name": "python",
   "nbconvert_exporter": "python",
   "pygments_lexer": "ipython3",
   "version": "3.9.12"
  }
 },
 "nbformat": 4,
 "nbformat_minor": 5
}
