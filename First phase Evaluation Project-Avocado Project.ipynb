{
 "cells": [
  {
   "cell_type": "code",
   "execution_count": 1,
   "id": "7d4b8da1",
   "metadata": {},
   "outputs": [],
   "source": [
    "import pandas as pd\n",
    "import matplotlib.pyplot as plt\n",
    "import pickle\n",
    "%matplotlib inline\n",
    "import numpy as np\n",
    "from sklearn.tree import DecisionTreeClassifier\n",
    "\n",
    "from sklearn.preprocessing import StandardScaler\n",
    "from sklearn.neighbors import KNeighborsClassifier\n",
    "from sklearn.model_selection import train_test_split,GridSearchCV\n",
    "from statsmodels.stats.outliers_influence import variance_inflation_factor\n",
    "from sklearn.metrics import accuracy_score, confusion_matrix,roc_curve,roc_auc_score\n",
    "from sklearn.metrics import classification_report\n",
    "import seaborn as sns\n",
    "import pickle\n",
    "import warnings\n",
    "warnings.filterwarnings('ignore')"
   ]
  },
  {
   "cell_type": "code",
   "execution_count": 2,
   "id": "89d8ae76",
   "metadata": {},
   "outputs": [
    {
     "data": {
      "text/html": [
       "<div>\n",
       "<style scoped>\n",
       "    .dataframe tbody tr th:only-of-type {\n",
       "        vertical-align: middle;\n",
       "    }\n",
       "\n",
       "    .dataframe tbody tr th {\n",
       "        vertical-align: top;\n",
       "    }\n",
       "\n",
       "    .dataframe thead th {\n",
       "        text-align: right;\n",
       "    }\n",
       "</style>\n",
       "<table border=\"1\" class=\"dataframe\">\n",
       "  <thead>\n",
       "    <tr style=\"text-align: right;\">\n",
       "      <th></th>\n",
       "      <th>Unnamed: 0</th>\n",
       "      <th>Date</th>\n",
       "      <th>AveragePrice</th>\n",
       "      <th>Total Volume</th>\n",
       "      <th>4046</th>\n",
       "      <th>4225</th>\n",
       "      <th>4770</th>\n",
       "      <th>Total Bags</th>\n",
       "      <th>Small Bags</th>\n",
       "      <th>Large Bags</th>\n",
       "      <th>XLarge Bags</th>\n",
       "      <th>type</th>\n",
       "      <th>year</th>\n",
       "      <th>region</th>\n",
       "    </tr>\n",
       "  </thead>\n",
       "  <tbody>\n",
       "    <tr>\n",
       "      <th>0</th>\n",
       "      <td>0</td>\n",
       "      <td>2015-12-27</td>\n",
       "      <td>1.33</td>\n",
       "      <td>64236.62</td>\n",
       "      <td>1036.74</td>\n",
       "      <td>54454.85</td>\n",
       "      <td>48.16</td>\n",
       "      <td>8696.87</td>\n",
       "      <td>8603.62</td>\n",
       "      <td>93.25</td>\n",
       "      <td>0.0</td>\n",
       "      <td>conventional</td>\n",
       "      <td>2015</td>\n",
       "      <td>Albany</td>\n",
       "    </tr>\n",
       "    <tr>\n",
       "      <th>1</th>\n",
       "      <td>1</td>\n",
       "      <td>2015-12-20</td>\n",
       "      <td>1.35</td>\n",
       "      <td>54876.98</td>\n",
       "      <td>674.28</td>\n",
       "      <td>44638.81</td>\n",
       "      <td>58.33</td>\n",
       "      <td>9505.56</td>\n",
       "      <td>9408.07</td>\n",
       "      <td>97.49</td>\n",
       "      <td>0.0</td>\n",
       "      <td>conventional</td>\n",
       "      <td>2015</td>\n",
       "      <td>Albany</td>\n",
       "    </tr>\n",
       "    <tr>\n",
       "      <th>2</th>\n",
       "      <td>2</td>\n",
       "      <td>2015-12-13</td>\n",
       "      <td>0.93</td>\n",
       "      <td>118220.22</td>\n",
       "      <td>794.70</td>\n",
       "      <td>109149.67</td>\n",
       "      <td>130.50</td>\n",
       "      <td>8145.35</td>\n",
       "      <td>8042.21</td>\n",
       "      <td>103.14</td>\n",
       "      <td>0.0</td>\n",
       "      <td>conventional</td>\n",
       "      <td>2015</td>\n",
       "      <td>Albany</td>\n",
       "    </tr>\n",
       "    <tr>\n",
       "      <th>3</th>\n",
       "      <td>3</td>\n",
       "      <td>2015-12-06</td>\n",
       "      <td>1.08</td>\n",
       "      <td>78992.15</td>\n",
       "      <td>1132.00</td>\n",
       "      <td>71976.41</td>\n",
       "      <td>72.58</td>\n",
       "      <td>5811.16</td>\n",
       "      <td>5677.40</td>\n",
       "      <td>133.76</td>\n",
       "      <td>0.0</td>\n",
       "      <td>conventional</td>\n",
       "      <td>2015</td>\n",
       "      <td>Albany</td>\n",
       "    </tr>\n",
       "    <tr>\n",
       "      <th>4</th>\n",
       "      <td>4</td>\n",
       "      <td>2015-11-29</td>\n",
       "      <td>1.28</td>\n",
       "      <td>51039.60</td>\n",
       "      <td>941.48</td>\n",
       "      <td>43838.39</td>\n",
       "      <td>75.78</td>\n",
       "      <td>6183.95</td>\n",
       "      <td>5986.26</td>\n",
       "      <td>197.69</td>\n",
       "      <td>0.0</td>\n",
       "      <td>conventional</td>\n",
       "      <td>2015</td>\n",
       "      <td>Albany</td>\n",
       "    </tr>\n",
       "    <tr>\n",
       "      <th>...</th>\n",
       "      <td>...</td>\n",
       "      <td>...</td>\n",
       "      <td>...</td>\n",
       "      <td>...</td>\n",
       "      <td>...</td>\n",
       "      <td>...</td>\n",
       "      <td>...</td>\n",
       "      <td>...</td>\n",
       "      <td>...</td>\n",
       "      <td>...</td>\n",
       "      <td>...</td>\n",
       "      <td>...</td>\n",
       "      <td>...</td>\n",
       "      <td>...</td>\n",
       "    </tr>\n",
       "    <tr>\n",
       "      <th>18244</th>\n",
       "      <td>7</td>\n",
       "      <td>2018-02-04</td>\n",
       "      <td>1.63</td>\n",
       "      <td>17074.83</td>\n",
       "      <td>2046.96</td>\n",
       "      <td>1529.20</td>\n",
       "      <td>0.00</td>\n",
       "      <td>13498.67</td>\n",
       "      <td>13066.82</td>\n",
       "      <td>431.85</td>\n",
       "      <td>0.0</td>\n",
       "      <td>organic</td>\n",
       "      <td>2018</td>\n",
       "      <td>WestTexNewMexico</td>\n",
       "    </tr>\n",
       "    <tr>\n",
       "      <th>18245</th>\n",
       "      <td>8</td>\n",
       "      <td>2018-01-28</td>\n",
       "      <td>1.71</td>\n",
       "      <td>13888.04</td>\n",
       "      <td>1191.70</td>\n",
       "      <td>3431.50</td>\n",
       "      <td>0.00</td>\n",
       "      <td>9264.84</td>\n",
       "      <td>8940.04</td>\n",
       "      <td>324.80</td>\n",
       "      <td>0.0</td>\n",
       "      <td>organic</td>\n",
       "      <td>2018</td>\n",
       "      <td>WestTexNewMexico</td>\n",
       "    </tr>\n",
       "    <tr>\n",
       "      <th>18246</th>\n",
       "      <td>9</td>\n",
       "      <td>2018-01-21</td>\n",
       "      <td>1.87</td>\n",
       "      <td>13766.76</td>\n",
       "      <td>1191.92</td>\n",
       "      <td>2452.79</td>\n",
       "      <td>727.94</td>\n",
       "      <td>9394.11</td>\n",
       "      <td>9351.80</td>\n",
       "      <td>42.31</td>\n",
       "      <td>0.0</td>\n",
       "      <td>organic</td>\n",
       "      <td>2018</td>\n",
       "      <td>WestTexNewMexico</td>\n",
       "    </tr>\n",
       "    <tr>\n",
       "      <th>18247</th>\n",
       "      <td>10</td>\n",
       "      <td>2018-01-14</td>\n",
       "      <td>1.93</td>\n",
       "      <td>16205.22</td>\n",
       "      <td>1527.63</td>\n",
       "      <td>2981.04</td>\n",
       "      <td>727.01</td>\n",
       "      <td>10969.54</td>\n",
       "      <td>10919.54</td>\n",
       "      <td>50.00</td>\n",
       "      <td>0.0</td>\n",
       "      <td>organic</td>\n",
       "      <td>2018</td>\n",
       "      <td>WestTexNewMexico</td>\n",
       "    </tr>\n",
       "    <tr>\n",
       "      <th>18248</th>\n",
       "      <td>11</td>\n",
       "      <td>2018-01-07</td>\n",
       "      <td>1.62</td>\n",
       "      <td>17489.58</td>\n",
       "      <td>2894.77</td>\n",
       "      <td>2356.13</td>\n",
       "      <td>224.53</td>\n",
       "      <td>12014.15</td>\n",
       "      <td>11988.14</td>\n",
       "      <td>26.01</td>\n",
       "      <td>0.0</td>\n",
       "      <td>organic</td>\n",
       "      <td>2018</td>\n",
       "      <td>WestTexNewMexico</td>\n",
       "    </tr>\n",
       "  </tbody>\n",
       "</table>\n",
       "<p>18249 rows × 14 columns</p>\n",
       "</div>"
      ],
      "text/plain": [
       "       Unnamed: 0        Date  AveragePrice  Total Volume     4046       4225  \\\n",
       "0               0  2015-12-27          1.33      64236.62  1036.74   54454.85   \n",
       "1               1  2015-12-20          1.35      54876.98   674.28   44638.81   \n",
       "2               2  2015-12-13          0.93     118220.22   794.70  109149.67   \n",
       "3               3  2015-12-06          1.08      78992.15  1132.00   71976.41   \n",
       "4               4  2015-11-29          1.28      51039.60   941.48   43838.39   \n",
       "...           ...         ...           ...           ...      ...        ...   \n",
       "18244           7  2018-02-04          1.63      17074.83  2046.96    1529.20   \n",
       "18245           8  2018-01-28          1.71      13888.04  1191.70    3431.50   \n",
       "18246           9  2018-01-21          1.87      13766.76  1191.92    2452.79   \n",
       "18247          10  2018-01-14          1.93      16205.22  1527.63    2981.04   \n",
       "18248          11  2018-01-07          1.62      17489.58  2894.77    2356.13   \n",
       "\n",
       "         4770  Total Bags  Small Bags  Large Bags  XLarge Bags          type  \\\n",
       "0       48.16     8696.87     8603.62       93.25          0.0  conventional   \n",
       "1       58.33     9505.56     9408.07       97.49          0.0  conventional   \n",
       "2      130.50     8145.35     8042.21      103.14          0.0  conventional   \n",
       "3       72.58     5811.16     5677.40      133.76          0.0  conventional   \n",
       "4       75.78     6183.95     5986.26      197.69          0.0  conventional   \n",
       "...       ...         ...         ...         ...          ...           ...   \n",
       "18244    0.00    13498.67    13066.82      431.85          0.0       organic   \n",
       "18245    0.00     9264.84     8940.04      324.80          0.0       organic   \n",
       "18246  727.94     9394.11     9351.80       42.31          0.0       organic   \n",
       "18247  727.01    10969.54    10919.54       50.00          0.0       organic   \n",
       "18248  224.53    12014.15    11988.14       26.01          0.0       organic   \n",
       "\n",
       "       year            region  \n",
       "0      2015            Albany  \n",
       "1      2015            Albany  \n",
       "2      2015            Albany  \n",
       "3      2015            Albany  \n",
       "4      2015            Albany  \n",
       "...     ...               ...  \n",
       "18244  2018  WestTexNewMexico  \n",
       "18245  2018  WestTexNewMexico  \n",
       "18246  2018  WestTexNewMexico  \n",
       "18247  2018  WestTexNewMexico  \n",
       "18248  2018  WestTexNewMexico  \n",
       "\n",
       "[18249 rows x 14 columns]"
      ]
     },
     "execution_count": 2,
     "metadata": {},
     "output_type": "execute_result"
    }
   ],
   "source": [
    "df=pd.read_csv(\"https://raw.githubusercontent.com/insaid2018/Term-2/master/Projects/avocado.csv\")\n",
    "df"
   ]
  },
  {
   "cell_type": "code",
   "execution_count": 4,
   "id": "59223c35",
   "metadata": {},
   "outputs": [
    {
     "data": {
      "text/html": [
       "<div>\n",
       "<style scoped>\n",
       "    .dataframe tbody tr th:only-of-type {\n",
       "        vertical-align: middle;\n",
       "    }\n",
       "\n",
       "    .dataframe tbody tr th {\n",
       "        vertical-align: top;\n",
       "    }\n",
       "\n",
       "    .dataframe thead th {\n",
       "        text-align: right;\n",
       "    }\n",
       "</style>\n",
       "<table border=\"1\" class=\"dataframe\">\n",
       "  <thead>\n",
       "    <tr style=\"text-align: right;\">\n",
       "      <th></th>\n",
       "      <th>Unnamed: 0</th>\n",
       "      <th>Date</th>\n",
       "      <th>AveragePrice</th>\n",
       "      <th>Total Volume</th>\n",
       "      <th>4046</th>\n",
       "      <th>4225</th>\n",
       "      <th>4770</th>\n",
       "      <th>Total Bags</th>\n",
       "      <th>Small Bags</th>\n",
       "      <th>Large Bags</th>\n",
       "      <th>XLarge Bags</th>\n",
       "      <th>type</th>\n",
       "      <th>year</th>\n",
       "      <th>region</th>\n",
       "    </tr>\n",
       "  </thead>\n",
       "  <tbody>\n",
       "    <tr>\n",
       "      <th>0</th>\n",
       "      <td>0</td>\n",
       "      <td>2015-12-27</td>\n",
       "      <td>1.33</td>\n",
       "      <td>64236.62</td>\n",
       "      <td>1036.74</td>\n",
       "      <td>54454.85</td>\n",
       "      <td>48.16</td>\n",
       "      <td>8696.87</td>\n",
       "      <td>8603.62</td>\n",
       "      <td>93.25</td>\n",
       "      <td>0.0</td>\n",
       "      <td>conventional</td>\n",
       "      <td>2015</td>\n",
       "      <td>Albany</td>\n",
       "    </tr>\n",
       "    <tr>\n",
       "      <th>1</th>\n",
       "      <td>1</td>\n",
       "      <td>2015-12-20</td>\n",
       "      <td>1.35</td>\n",
       "      <td>54876.98</td>\n",
       "      <td>674.28</td>\n",
       "      <td>44638.81</td>\n",
       "      <td>58.33</td>\n",
       "      <td>9505.56</td>\n",
       "      <td>9408.07</td>\n",
       "      <td>97.49</td>\n",
       "      <td>0.0</td>\n",
       "      <td>conventional</td>\n",
       "      <td>2015</td>\n",
       "      <td>Albany</td>\n",
       "    </tr>\n",
       "    <tr>\n",
       "      <th>2</th>\n",
       "      <td>2</td>\n",
       "      <td>2015-12-13</td>\n",
       "      <td>0.93</td>\n",
       "      <td>118220.22</td>\n",
       "      <td>794.70</td>\n",
       "      <td>109149.67</td>\n",
       "      <td>130.50</td>\n",
       "      <td>8145.35</td>\n",
       "      <td>8042.21</td>\n",
       "      <td>103.14</td>\n",
       "      <td>0.0</td>\n",
       "      <td>conventional</td>\n",
       "      <td>2015</td>\n",
       "      <td>Albany</td>\n",
       "    </tr>\n",
       "    <tr>\n",
       "      <th>3</th>\n",
       "      <td>3</td>\n",
       "      <td>2015-12-06</td>\n",
       "      <td>1.08</td>\n",
       "      <td>78992.15</td>\n",
       "      <td>1132.00</td>\n",
       "      <td>71976.41</td>\n",
       "      <td>72.58</td>\n",
       "      <td>5811.16</td>\n",
       "      <td>5677.40</td>\n",
       "      <td>133.76</td>\n",
       "      <td>0.0</td>\n",
       "      <td>conventional</td>\n",
       "      <td>2015</td>\n",
       "      <td>Albany</td>\n",
       "    </tr>\n",
       "    <tr>\n",
       "      <th>4</th>\n",
       "      <td>4</td>\n",
       "      <td>2015-11-29</td>\n",
       "      <td>1.28</td>\n",
       "      <td>51039.60</td>\n",
       "      <td>941.48</td>\n",
       "      <td>43838.39</td>\n",
       "      <td>75.78</td>\n",
       "      <td>6183.95</td>\n",
       "      <td>5986.26</td>\n",
       "      <td>197.69</td>\n",
       "      <td>0.0</td>\n",
       "      <td>conventional</td>\n",
       "      <td>2015</td>\n",
       "      <td>Albany</td>\n",
       "    </tr>\n",
       "  </tbody>\n",
       "</table>\n",
       "</div>"
      ],
      "text/plain": [
       "   Unnamed: 0        Date  AveragePrice  Total Volume     4046       4225  \\\n",
       "0           0  2015-12-27          1.33      64236.62  1036.74   54454.85   \n",
       "1           1  2015-12-20          1.35      54876.98   674.28   44638.81   \n",
       "2           2  2015-12-13          0.93     118220.22   794.70  109149.67   \n",
       "3           3  2015-12-06          1.08      78992.15  1132.00   71976.41   \n",
       "4           4  2015-11-29          1.28      51039.60   941.48   43838.39   \n",
       "\n",
       "     4770  Total Bags  Small Bags  Large Bags  XLarge Bags          type  \\\n",
       "0   48.16     8696.87     8603.62       93.25          0.0  conventional   \n",
       "1   58.33     9505.56     9408.07       97.49          0.0  conventional   \n",
       "2  130.50     8145.35     8042.21      103.14          0.0  conventional   \n",
       "3   72.58     5811.16     5677.40      133.76          0.0  conventional   \n",
       "4   75.78     6183.95     5986.26      197.69          0.0  conventional   \n",
       "\n",
       "   year  region  \n",
       "0  2015  Albany  \n",
       "1  2015  Albany  \n",
       "2  2015  Albany  \n",
       "3  2015  Albany  \n",
       "4  2015  Albany  "
      ]
     },
     "execution_count": 4,
     "metadata": {},
     "output_type": "execute_result"
    }
   ],
   "source": [
    "df.head()"
   ]
  },
  {
   "cell_type": "code",
   "execution_count": 5,
   "id": "2fbdbcd9",
   "metadata": {},
   "outputs": [
    {
     "data": {
      "text/plain": [
       "(18249, 14)"
      ]
     },
     "execution_count": 5,
     "metadata": {},
     "output_type": "execute_result"
    }
   ],
   "source": [
    "df.shape"
   ]
  },
  {
   "cell_type": "code",
   "execution_count": 6,
   "id": "360fa76e",
   "metadata": {},
   "outputs": [
    {
     "data": {
      "text/plain": [
       "Unnamed: 0        int64\n",
       "Date             object\n",
       "AveragePrice    float64\n",
       "Total Volume    float64\n",
       "4046            float64\n",
       "4225            float64\n",
       "4770            float64\n",
       "Total Bags      float64\n",
       "Small Bags      float64\n",
       "Large Bags      float64\n",
       "XLarge Bags     float64\n",
       "type             object\n",
       "year              int64\n",
       "region           object\n",
       "dtype: object"
      ]
     },
     "execution_count": 6,
     "metadata": {},
     "output_type": "execute_result"
    }
   ],
   "source": [
    "df.dtypes"
   ]
  },
  {
   "cell_type": "markdown",
   "id": "bf54f9b8",
   "metadata": {},
   "source": [
    "this will give index,datatype and memory usage"
   ]
  },
  {
   "cell_type": "code",
   "execution_count": 7,
   "id": "4a045643",
   "metadata": {},
   "outputs": [
    {
     "name": "stdout",
     "output_type": "stream",
     "text": [
      "<class 'pandas.core.frame.DataFrame'>\n",
      "RangeIndex: 18249 entries, 0 to 18248\n",
      "Data columns (total 14 columns):\n",
      " #   Column        Non-Null Count  Dtype  \n",
      "---  ------        --------------  -----  \n",
      " 0   Unnamed: 0    18249 non-null  int64  \n",
      " 1   Date          18249 non-null  object \n",
      " 2   AveragePrice  18249 non-null  float64\n",
      " 3   Total Volume  18249 non-null  float64\n",
      " 4   4046          18249 non-null  float64\n",
      " 5   4225          18249 non-null  float64\n",
      " 6   4770          18249 non-null  float64\n",
      " 7   Total Bags    18249 non-null  float64\n",
      " 8   Small Bags    18249 non-null  float64\n",
      " 9   Large Bags    18249 non-null  float64\n",
      " 10  XLarge Bags   18249 non-null  float64\n",
      " 11  type          18249 non-null  object \n",
      " 12  year          18249 non-null  int64  \n",
      " 13  region        18249 non-null  object \n",
      "dtypes: float64(9), int64(2), object(3)\n",
      "memory usage: 1.9+ MB\n"
     ]
    }
   ],
   "source": [
    "df.info()"
   ]
  },
  {
   "cell_type": "markdown",
   "id": "6542508f",
   "metadata": {},
   "source": [
    "this shows no missing data present"
   ]
  },
  {
   "cell_type": "code",
   "execution_count": 8,
   "id": "fbf26130",
   "metadata": {},
   "outputs": [
    {
     "data": {
      "text/html": [
       "<div>\n",
       "<style scoped>\n",
       "    .dataframe tbody tr th:only-of-type {\n",
       "        vertical-align: middle;\n",
       "    }\n",
       "\n",
       "    .dataframe tbody tr th {\n",
       "        vertical-align: top;\n",
       "    }\n",
       "\n",
       "    .dataframe thead th {\n",
       "        text-align: right;\n",
       "    }\n",
       "</style>\n",
       "<table border=\"1\" class=\"dataframe\">\n",
       "  <thead>\n",
       "    <tr style=\"text-align: right;\">\n",
       "      <th></th>\n",
       "      <th>Unnamed: 0</th>\n",
       "      <th>AveragePrice</th>\n",
       "      <th>Total Volume</th>\n",
       "      <th>4046</th>\n",
       "      <th>4225</th>\n",
       "      <th>4770</th>\n",
       "      <th>Total Bags</th>\n",
       "      <th>Small Bags</th>\n",
       "      <th>Large Bags</th>\n",
       "      <th>XLarge Bags</th>\n",
       "      <th>year</th>\n",
       "    </tr>\n",
       "  </thead>\n",
       "  <tbody>\n",
       "    <tr>\n",
       "      <th>count</th>\n",
       "      <td>18249.000000</td>\n",
       "      <td>18249.000000</td>\n",
       "      <td>1.824900e+04</td>\n",
       "      <td>1.824900e+04</td>\n",
       "      <td>1.824900e+04</td>\n",
       "      <td>1.824900e+04</td>\n",
       "      <td>1.824900e+04</td>\n",
       "      <td>1.824900e+04</td>\n",
       "      <td>1.824900e+04</td>\n",
       "      <td>18249.000000</td>\n",
       "      <td>18249.000000</td>\n",
       "    </tr>\n",
       "    <tr>\n",
       "      <th>mean</th>\n",
       "      <td>24.232232</td>\n",
       "      <td>1.405978</td>\n",
       "      <td>8.506440e+05</td>\n",
       "      <td>2.930084e+05</td>\n",
       "      <td>2.951546e+05</td>\n",
       "      <td>2.283974e+04</td>\n",
       "      <td>2.396392e+05</td>\n",
       "      <td>1.821947e+05</td>\n",
       "      <td>5.433809e+04</td>\n",
       "      <td>3106.426507</td>\n",
       "      <td>2016.147899</td>\n",
       "    </tr>\n",
       "    <tr>\n",
       "      <th>std</th>\n",
       "      <td>15.481045</td>\n",
       "      <td>0.402677</td>\n",
       "      <td>3.453545e+06</td>\n",
       "      <td>1.264989e+06</td>\n",
       "      <td>1.204120e+06</td>\n",
       "      <td>1.074641e+05</td>\n",
       "      <td>9.862424e+05</td>\n",
       "      <td>7.461785e+05</td>\n",
       "      <td>2.439660e+05</td>\n",
       "      <td>17692.894652</td>\n",
       "      <td>0.939938</td>\n",
       "    </tr>\n",
       "    <tr>\n",
       "      <th>min</th>\n",
       "      <td>0.000000</td>\n",
       "      <td>0.440000</td>\n",
       "      <td>8.456000e+01</td>\n",
       "      <td>0.000000e+00</td>\n",
       "      <td>0.000000e+00</td>\n",
       "      <td>0.000000e+00</td>\n",
       "      <td>0.000000e+00</td>\n",
       "      <td>0.000000e+00</td>\n",
       "      <td>0.000000e+00</td>\n",
       "      <td>0.000000</td>\n",
       "      <td>2015.000000</td>\n",
       "    </tr>\n",
       "    <tr>\n",
       "      <th>25%</th>\n",
       "      <td>10.000000</td>\n",
       "      <td>1.100000</td>\n",
       "      <td>1.083858e+04</td>\n",
       "      <td>8.540700e+02</td>\n",
       "      <td>3.008780e+03</td>\n",
       "      <td>0.000000e+00</td>\n",
       "      <td>5.088640e+03</td>\n",
       "      <td>2.849420e+03</td>\n",
       "      <td>1.274700e+02</td>\n",
       "      <td>0.000000</td>\n",
       "      <td>2015.000000</td>\n",
       "    </tr>\n",
       "    <tr>\n",
       "      <th>50%</th>\n",
       "      <td>24.000000</td>\n",
       "      <td>1.370000</td>\n",
       "      <td>1.073768e+05</td>\n",
       "      <td>8.645300e+03</td>\n",
       "      <td>2.906102e+04</td>\n",
       "      <td>1.849900e+02</td>\n",
       "      <td>3.974383e+04</td>\n",
       "      <td>2.636282e+04</td>\n",
       "      <td>2.647710e+03</td>\n",
       "      <td>0.000000</td>\n",
       "      <td>2016.000000</td>\n",
       "    </tr>\n",
       "    <tr>\n",
       "      <th>75%</th>\n",
       "      <td>38.000000</td>\n",
       "      <td>1.660000</td>\n",
       "      <td>4.329623e+05</td>\n",
       "      <td>1.110202e+05</td>\n",
       "      <td>1.502069e+05</td>\n",
       "      <td>6.243420e+03</td>\n",
       "      <td>1.107834e+05</td>\n",
       "      <td>8.333767e+04</td>\n",
       "      <td>2.202925e+04</td>\n",
       "      <td>132.500000</td>\n",
       "      <td>2017.000000</td>\n",
       "    </tr>\n",
       "    <tr>\n",
       "      <th>max</th>\n",
       "      <td>52.000000</td>\n",
       "      <td>3.250000</td>\n",
       "      <td>6.250565e+07</td>\n",
       "      <td>2.274362e+07</td>\n",
       "      <td>2.047057e+07</td>\n",
       "      <td>2.546439e+06</td>\n",
       "      <td>1.937313e+07</td>\n",
       "      <td>1.338459e+07</td>\n",
       "      <td>5.719097e+06</td>\n",
       "      <td>551693.650000</td>\n",
       "      <td>2018.000000</td>\n",
       "    </tr>\n",
       "  </tbody>\n",
       "</table>\n",
       "</div>"
      ],
      "text/plain": [
       "         Unnamed: 0  AveragePrice  Total Volume          4046          4225  \\\n",
       "count  18249.000000  18249.000000  1.824900e+04  1.824900e+04  1.824900e+04   \n",
       "mean      24.232232      1.405978  8.506440e+05  2.930084e+05  2.951546e+05   \n",
       "std       15.481045      0.402677  3.453545e+06  1.264989e+06  1.204120e+06   \n",
       "min        0.000000      0.440000  8.456000e+01  0.000000e+00  0.000000e+00   \n",
       "25%       10.000000      1.100000  1.083858e+04  8.540700e+02  3.008780e+03   \n",
       "50%       24.000000      1.370000  1.073768e+05  8.645300e+03  2.906102e+04   \n",
       "75%       38.000000      1.660000  4.329623e+05  1.110202e+05  1.502069e+05   \n",
       "max       52.000000      3.250000  6.250565e+07  2.274362e+07  2.047057e+07   \n",
       "\n",
       "               4770    Total Bags    Small Bags    Large Bags    XLarge Bags  \\\n",
       "count  1.824900e+04  1.824900e+04  1.824900e+04  1.824900e+04   18249.000000   \n",
       "mean   2.283974e+04  2.396392e+05  1.821947e+05  5.433809e+04    3106.426507   \n",
       "std    1.074641e+05  9.862424e+05  7.461785e+05  2.439660e+05   17692.894652   \n",
       "min    0.000000e+00  0.000000e+00  0.000000e+00  0.000000e+00       0.000000   \n",
       "25%    0.000000e+00  5.088640e+03  2.849420e+03  1.274700e+02       0.000000   \n",
       "50%    1.849900e+02  3.974383e+04  2.636282e+04  2.647710e+03       0.000000   \n",
       "75%    6.243420e+03  1.107834e+05  8.333767e+04  2.202925e+04     132.500000   \n",
       "max    2.546439e+06  1.937313e+07  1.338459e+07  5.719097e+06  551693.650000   \n",
       "\n",
       "               year  \n",
       "count  18249.000000  \n",
       "mean    2016.147899  \n",
       "std        0.939938  \n",
       "min     2015.000000  \n",
       "25%     2015.000000  \n",
       "50%     2016.000000  \n",
       "75%     2017.000000  \n",
       "max     2018.000000  "
      ]
     },
     "execution_count": 8,
     "metadata": {},
     "output_type": "execute_result"
    }
   ],
   "source": [
    "df.describe()"
   ]
  },
  {
   "cell_type": "markdown",
   "id": "40be185b",
   "metadata": {},
   "source": [
    "This shows us null count for each column\n",
    "\n",
    "This shows us no missing values exist in dataset, which is great!"
   ]
  },
  {
   "cell_type": "code",
   "execution_count": 9,
   "id": "2a901fd7",
   "metadata": {},
   "outputs": [
    {
     "data": {
      "text/plain": [
       "Unnamed: 0      0\n",
       "Date            0\n",
       "AveragePrice    0\n",
       "Total Volume    0\n",
       "4046            0\n",
       "4225            0\n",
       "4770            0\n",
       "Total Bags      0\n",
       "Small Bags      0\n",
       "Large Bags      0\n",
       "XLarge Bags     0\n",
       "type            0\n",
       "year            0\n",
       "region          0\n",
       "dtype: int64"
      ]
     },
     "execution_count": 9,
     "metadata": {},
     "output_type": "execute_result"
    }
   ],
   "source": [
    "df.isnull().sum()"
   ]
  },
  {
   "cell_type": "markdown",
   "id": "e76ef64e",
   "metadata": {},
   "source": [
    "Changing the columns that had the numbers which indicates the Hass Size of the Avocado"
   ]
  },
  {
   "cell_type": "code",
   "execution_count": 10,
   "id": "4c39b61e",
   "metadata": {},
   "outputs": [],
   "source": [
    "df.rename(columns={'4046': 'Small/Medium Hass Size'}, inplace = True)\n",
    "df.rename(columns={'4225': 'Large Hass Size'}, inplace = True)\n",
    "df.rename(columns={'4770': 'XLarge Hass Size'}, inplace = True)"
   ]
  },
  {
   "cell_type": "code",
   "execution_count": 11,
   "id": "45182c89",
   "metadata": {},
   "outputs": [
    {
     "name": "stdout",
     "output_type": "stream",
     "text": [
      "<class 'pandas.core.frame.DataFrame'>\n",
      "RangeIndex: 18249 entries, 0 to 18248\n",
      "Data columns (total 14 columns):\n",
      " #   Column                  Non-Null Count  Dtype  \n",
      "---  ------                  --------------  -----  \n",
      " 0   Unnamed: 0              18249 non-null  int64  \n",
      " 1   Date                    18249 non-null  object \n",
      " 2   AveragePrice            18249 non-null  float64\n",
      " 3   Total Volume            18249 non-null  float64\n",
      " 4   Small/Medium Hass Size  18249 non-null  float64\n",
      " 5   Large Hass Size         18249 non-null  float64\n",
      " 6   XLarge Hass Size        18249 non-null  float64\n",
      " 7   Total Bags              18249 non-null  float64\n",
      " 8   Small Bags              18249 non-null  float64\n",
      " 9   Large Bags              18249 non-null  float64\n",
      " 10  XLarge Bags             18249 non-null  float64\n",
      " 11  type                    18249 non-null  object \n",
      " 12  year                    18249 non-null  int64  \n",
      " 13  region                  18249 non-null  object \n",
      "dtypes: float64(9), int64(2), object(3)\n",
      "memory usage: 1.9+ MB\n"
     ]
    }
   ],
   "source": [
    "df.info()"
   ]
  },
  {
   "cell_type": "code",
   "execution_count": 12,
   "id": "3975b665",
   "metadata": {},
   "outputs": [
    {
     "data": {
      "text/html": [
       "<div>\n",
       "<style scoped>\n",
       "    .dataframe tbody tr th:only-of-type {\n",
       "        vertical-align: middle;\n",
       "    }\n",
       "\n",
       "    .dataframe tbody tr th {\n",
       "        vertical-align: top;\n",
       "    }\n",
       "\n",
       "    .dataframe thead th {\n",
       "        text-align: right;\n",
       "    }\n",
       "</style>\n",
       "<table border=\"1\" class=\"dataframe\">\n",
       "  <thead>\n",
       "    <tr style=\"text-align: right;\">\n",
       "      <th></th>\n",
       "      <th>Unnamed: 0</th>\n",
       "      <th>Date</th>\n",
       "      <th>AveragePrice</th>\n",
       "      <th>Total Volume</th>\n",
       "      <th>Small/Medium Hass Size</th>\n",
       "      <th>Large Hass Size</th>\n",
       "      <th>XLarge Hass Size</th>\n",
       "      <th>Total Bags</th>\n",
       "      <th>Small Bags</th>\n",
       "      <th>Large Bags</th>\n",
       "      <th>XLarge Bags</th>\n",
       "      <th>type</th>\n",
       "      <th>year</th>\n",
       "      <th>region</th>\n",
       "    </tr>\n",
       "  </thead>\n",
       "  <tbody>\n",
       "    <tr>\n",
       "      <th>0</th>\n",
       "      <td>0</td>\n",
       "      <td>2015-12-27</td>\n",
       "      <td>1.33</td>\n",
       "      <td>64236.62</td>\n",
       "      <td>1036.74</td>\n",
       "      <td>54454.85</td>\n",
       "      <td>48.16</td>\n",
       "      <td>8696.87</td>\n",
       "      <td>8603.62</td>\n",
       "      <td>93.25</td>\n",
       "      <td>0.00</td>\n",
       "      <td>conventional</td>\n",
       "      <td>2015</td>\n",
       "      <td>Albany</td>\n",
       "    </tr>\n",
       "    <tr>\n",
       "      <th>1</th>\n",
       "      <td>1</td>\n",
       "      <td>2015-12-20</td>\n",
       "      <td>1.35</td>\n",
       "      <td>54876.98</td>\n",
       "      <td>674.28</td>\n",
       "      <td>44638.81</td>\n",
       "      <td>58.33</td>\n",
       "      <td>9505.56</td>\n",
       "      <td>9408.07</td>\n",
       "      <td>97.49</td>\n",
       "      <td>0.00</td>\n",
       "      <td>conventional</td>\n",
       "      <td>2015</td>\n",
       "      <td>Albany</td>\n",
       "    </tr>\n",
       "    <tr>\n",
       "      <th>2</th>\n",
       "      <td>2</td>\n",
       "      <td>2015-12-13</td>\n",
       "      <td>0.93</td>\n",
       "      <td>118220.22</td>\n",
       "      <td>794.70</td>\n",
       "      <td>109149.67</td>\n",
       "      <td>130.50</td>\n",
       "      <td>8145.35</td>\n",
       "      <td>8042.21</td>\n",
       "      <td>103.14</td>\n",
       "      <td>0.00</td>\n",
       "      <td>conventional</td>\n",
       "      <td>2015</td>\n",
       "      <td>Albany</td>\n",
       "    </tr>\n",
       "    <tr>\n",
       "      <th>3</th>\n",
       "      <td>3</td>\n",
       "      <td>2015-12-06</td>\n",
       "      <td>1.08</td>\n",
       "      <td>78992.15</td>\n",
       "      <td>1132.00</td>\n",
       "      <td>71976.41</td>\n",
       "      <td>72.58</td>\n",
       "      <td>5811.16</td>\n",
       "      <td>5677.40</td>\n",
       "      <td>133.76</td>\n",
       "      <td>0.00</td>\n",
       "      <td>conventional</td>\n",
       "      <td>2015</td>\n",
       "      <td>Albany</td>\n",
       "    </tr>\n",
       "    <tr>\n",
       "      <th>4</th>\n",
       "      <td>4</td>\n",
       "      <td>2015-11-29</td>\n",
       "      <td>1.28</td>\n",
       "      <td>51039.60</td>\n",
       "      <td>941.48</td>\n",
       "      <td>43838.39</td>\n",
       "      <td>75.78</td>\n",
       "      <td>6183.95</td>\n",
       "      <td>5986.26</td>\n",
       "      <td>197.69</td>\n",
       "      <td>0.00</td>\n",
       "      <td>conventional</td>\n",
       "      <td>2015</td>\n",
       "      <td>Albany</td>\n",
       "    </tr>\n",
       "    <tr>\n",
       "      <th>5</th>\n",
       "      <td>5</td>\n",
       "      <td>2015-11-22</td>\n",
       "      <td>1.26</td>\n",
       "      <td>55979.78</td>\n",
       "      <td>1184.27</td>\n",
       "      <td>48067.99</td>\n",
       "      <td>43.61</td>\n",
       "      <td>6683.91</td>\n",
       "      <td>6556.47</td>\n",
       "      <td>127.44</td>\n",
       "      <td>0.00</td>\n",
       "      <td>conventional</td>\n",
       "      <td>2015</td>\n",
       "      <td>Albany</td>\n",
       "    </tr>\n",
       "    <tr>\n",
       "      <th>6</th>\n",
       "      <td>6</td>\n",
       "      <td>2015-11-15</td>\n",
       "      <td>0.99</td>\n",
       "      <td>83453.76</td>\n",
       "      <td>1368.92</td>\n",
       "      <td>73672.72</td>\n",
       "      <td>93.26</td>\n",
       "      <td>8318.86</td>\n",
       "      <td>8196.81</td>\n",
       "      <td>122.05</td>\n",
       "      <td>0.00</td>\n",
       "      <td>conventional</td>\n",
       "      <td>2015</td>\n",
       "      <td>Albany</td>\n",
       "    </tr>\n",
       "    <tr>\n",
       "      <th>7</th>\n",
       "      <td>7</td>\n",
       "      <td>2015-11-08</td>\n",
       "      <td>0.98</td>\n",
       "      <td>109428.33</td>\n",
       "      <td>703.75</td>\n",
       "      <td>101815.36</td>\n",
       "      <td>80.00</td>\n",
       "      <td>6829.22</td>\n",
       "      <td>6266.85</td>\n",
       "      <td>562.37</td>\n",
       "      <td>0.00</td>\n",
       "      <td>conventional</td>\n",
       "      <td>2015</td>\n",
       "      <td>Albany</td>\n",
       "    </tr>\n",
       "    <tr>\n",
       "      <th>8</th>\n",
       "      <td>8</td>\n",
       "      <td>2015-11-01</td>\n",
       "      <td>1.02</td>\n",
       "      <td>99811.42</td>\n",
       "      <td>1022.15</td>\n",
       "      <td>87315.57</td>\n",
       "      <td>85.34</td>\n",
       "      <td>11388.36</td>\n",
       "      <td>11104.53</td>\n",
       "      <td>283.83</td>\n",
       "      <td>0.00</td>\n",
       "      <td>conventional</td>\n",
       "      <td>2015</td>\n",
       "      <td>Albany</td>\n",
       "    </tr>\n",
       "    <tr>\n",
       "      <th>9</th>\n",
       "      <td>9</td>\n",
       "      <td>2015-10-25</td>\n",
       "      <td>1.07</td>\n",
       "      <td>74338.76</td>\n",
       "      <td>842.40</td>\n",
       "      <td>64757.44</td>\n",
       "      <td>113.00</td>\n",
       "      <td>8625.92</td>\n",
       "      <td>8061.47</td>\n",
       "      <td>564.45</td>\n",
       "      <td>0.00</td>\n",
       "      <td>conventional</td>\n",
       "      <td>2015</td>\n",
       "      <td>Albany</td>\n",
       "    </tr>\n",
       "    <tr>\n",
       "      <th>10</th>\n",
       "      <td>10</td>\n",
       "      <td>2015-10-18</td>\n",
       "      <td>1.12</td>\n",
       "      <td>84843.44</td>\n",
       "      <td>924.86</td>\n",
       "      <td>75595.85</td>\n",
       "      <td>117.07</td>\n",
       "      <td>8205.66</td>\n",
       "      <td>7877.86</td>\n",
       "      <td>327.80</td>\n",
       "      <td>0.00</td>\n",
       "      <td>conventional</td>\n",
       "      <td>2015</td>\n",
       "      <td>Albany</td>\n",
       "    </tr>\n",
       "    <tr>\n",
       "      <th>11</th>\n",
       "      <td>11</td>\n",
       "      <td>2015-10-11</td>\n",
       "      <td>1.28</td>\n",
       "      <td>64489.17</td>\n",
       "      <td>1582.03</td>\n",
       "      <td>52677.92</td>\n",
       "      <td>105.32</td>\n",
       "      <td>10123.90</td>\n",
       "      <td>9866.27</td>\n",
       "      <td>257.63</td>\n",
       "      <td>0.00</td>\n",
       "      <td>conventional</td>\n",
       "      <td>2015</td>\n",
       "      <td>Albany</td>\n",
       "    </tr>\n",
       "    <tr>\n",
       "      <th>12</th>\n",
       "      <td>12</td>\n",
       "      <td>2015-10-04</td>\n",
       "      <td>1.31</td>\n",
       "      <td>61007.10</td>\n",
       "      <td>2268.32</td>\n",
       "      <td>49880.67</td>\n",
       "      <td>101.36</td>\n",
       "      <td>8756.75</td>\n",
       "      <td>8379.98</td>\n",
       "      <td>376.77</td>\n",
       "      <td>0.00</td>\n",
       "      <td>conventional</td>\n",
       "      <td>2015</td>\n",
       "      <td>Albany</td>\n",
       "    </tr>\n",
       "    <tr>\n",
       "      <th>13</th>\n",
       "      <td>13</td>\n",
       "      <td>2015-09-27</td>\n",
       "      <td>0.99</td>\n",
       "      <td>106803.39</td>\n",
       "      <td>1204.88</td>\n",
       "      <td>99409.21</td>\n",
       "      <td>154.84</td>\n",
       "      <td>6034.46</td>\n",
       "      <td>5888.87</td>\n",
       "      <td>145.59</td>\n",
       "      <td>0.00</td>\n",
       "      <td>conventional</td>\n",
       "      <td>2015</td>\n",
       "      <td>Albany</td>\n",
       "    </tr>\n",
       "    <tr>\n",
       "      <th>14</th>\n",
       "      <td>14</td>\n",
       "      <td>2015-09-20</td>\n",
       "      <td>1.33</td>\n",
       "      <td>69759.01</td>\n",
       "      <td>1028.03</td>\n",
       "      <td>59313.12</td>\n",
       "      <td>150.50</td>\n",
       "      <td>9267.36</td>\n",
       "      <td>8489.10</td>\n",
       "      <td>778.26</td>\n",
       "      <td>0.00</td>\n",
       "      <td>conventional</td>\n",
       "      <td>2015</td>\n",
       "      <td>Albany</td>\n",
       "    </tr>\n",
       "    <tr>\n",
       "      <th>15</th>\n",
       "      <td>15</td>\n",
       "      <td>2015-09-13</td>\n",
       "      <td>1.28</td>\n",
       "      <td>76111.27</td>\n",
       "      <td>985.73</td>\n",
       "      <td>65696.86</td>\n",
       "      <td>142.00</td>\n",
       "      <td>9286.68</td>\n",
       "      <td>8665.19</td>\n",
       "      <td>621.49</td>\n",
       "      <td>0.00</td>\n",
       "      <td>conventional</td>\n",
       "      <td>2015</td>\n",
       "      <td>Albany</td>\n",
       "    </tr>\n",
       "    <tr>\n",
       "      <th>16</th>\n",
       "      <td>16</td>\n",
       "      <td>2015-09-06</td>\n",
       "      <td>1.11</td>\n",
       "      <td>99172.96</td>\n",
       "      <td>879.45</td>\n",
       "      <td>90062.62</td>\n",
       "      <td>240.79</td>\n",
       "      <td>7990.10</td>\n",
       "      <td>7762.87</td>\n",
       "      <td>227.23</td>\n",
       "      <td>0.00</td>\n",
       "      <td>conventional</td>\n",
       "      <td>2015</td>\n",
       "      <td>Albany</td>\n",
       "    </tr>\n",
       "    <tr>\n",
       "      <th>17</th>\n",
       "      <td>17</td>\n",
       "      <td>2015-08-30</td>\n",
       "      <td>1.07</td>\n",
       "      <td>105693.84</td>\n",
       "      <td>689.01</td>\n",
       "      <td>94362.67</td>\n",
       "      <td>335.43</td>\n",
       "      <td>10306.73</td>\n",
       "      <td>10218.93</td>\n",
       "      <td>87.80</td>\n",
       "      <td>0.00</td>\n",
       "      <td>conventional</td>\n",
       "      <td>2015</td>\n",
       "      <td>Albany</td>\n",
       "    </tr>\n",
       "    <tr>\n",
       "      <th>18</th>\n",
       "      <td>18</td>\n",
       "      <td>2015-08-23</td>\n",
       "      <td>1.34</td>\n",
       "      <td>79992.09</td>\n",
       "      <td>733.16</td>\n",
       "      <td>67933.79</td>\n",
       "      <td>444.78</td>\n",
       "      <td>10880.36</td>\n",
       "      <td>10745.79</td>\n",
       "      <td>134.57</td>\n",
       "      <td>0.00</td>\n",
       "      <td>conventional</td>\n",
       "      <td>2015</td>\n",
       "      <td>Albany</td>\n",
       "    </tr>\n",
       "    <tr>\n",
       "      <th>19</th>\n",
       "      <td>19</td>\n",
       "      <td>2015-08-16</td>\n",
       "      <td>1.33</td>\n",
       "      <td>80043.78</td>\n",
       "      <td>539.65</td>\n",
       "      <td>68666.01</td>\n",
       "      <td>394.90</td>\n",
       "      <td>10443.22</td>\n",
       "      <td>10297.68</td>\n",
       "      <td>145.54</td>\n",
       "      <td>0.00</td>\n",
       "      <td>conventional</td>\n",
       "      <td>2015</td>\n",
       "      <td>Albany</td>\n",
       "    </tr>\n",
       "    <tr>\n",
       "      <th>20</th>\n",
       "      <td>20</td>\n",
       "      <td>2015-08-09</td>\n",
       "      <td>1.12</td>\n",
       "      <td>111140.93</td>\n",
       "      <td>584.63</td>\n",
       "      <td>100961.46</td>\n",
       "      <td>368.95</td>\n",
       "      <td>9225.89</td>\n",
       "      <td>9116.34</td>\n",
       "      <td>109.55</td>\n",
       "      <td>0.00</td>\n",
       "      <td>conventional</td>\n",
       "      <td>2015</td>\n",
       "      <td>Albany</td>\n",
       "    </tr>\n",
       "    <tr>\n",
       "      <th>21</th>\n",
       "      <td>21</td>\n",
       "      <td>2015-08-02</td>\n",
       "      <td>1.45</td>\n",
       "      <td>75133.10</td>\n",
       "      <td>509.94</td>\n",
       "      <td>62035.06</td>\n",
       "      <td>741.08</td>\n",
       "      <td>11847.02</td>\n",
       "      <td>11768.52</td>\n",
       "      <td>78.50</td>\n",
       "      <td>0.00</td>\n",
       "      <td>conventional</td>\n",
       "      <td>2015</td>\n",
       "      <td>Albany</td>\n",
       "    </tr>\n",
       "    <tr>\n",
       "      <th>22</th>\n",
       "      <td>22</td>\n",
       "      <td>2015-07-26</td>\n",
       "      <td>1.11</td>\n",
       "      <td>106757.10</td>\n",
       "      <td>648.75</td>\n",
       "      <td>91949.05</td>\n",
       "      <td>966.61</td>\n",
       "      <td>13192.69</td>\n",
       "      <td>13061.53</td>\n",
       "      <td>131.16</td>\n",
       "      <td>0.00</td>\n",
       "      <td>conventional</td>\n",
       "      <td>2015</td>\n",
       "      <td>Albany</td>\n",
       "    </tr>\n",
       "    <tr>\n",
       "      <th>23</th>\n",
       "      <td>23</td>\n",
       "      <td>2015-07-19</td>\n",
       "      <td>1.26</td>\n",
       "      <td>96617.00</td>\n",
       "      <td>1042.10</td>\n",
       "      <td>82049.40</td>\n",
       "      <td>2238.02</td>\n",
       "      <td>11287.48</td>\n",
       "      <td>11103.49</td>\n",
       "      <td>183.99</td>\n",
       "      <td>0.00</td>\n",
       "      <td>conventional</td>\n",
       "      <td>2015</td>\n",
       "      <td>Albany</td>\n",
       "    </tr>\n",
       "    <tr>\n",
       "      <th>24</th>\n",
       "      <td>24</td>\n",
       "      <td>2015-07-12</td>\n",
       "      <td>1.05</td>\n",
       "      <td>124055.31</td>\n",
       "      <td>672.25</td>\n",
       "      <td>94693.52</td>\n",
       "      <td>4257.64</td>\n",
       "      <td>24431.90</td>\n",
       "      <td>24290.08</td>\n",
       "      <td>108.49</td>\n",
       "      <td>33.33</td>\n",
       "      <td>conventional</td>\n",
       "      <td>2015</td>\n",
       "      <td>Albany</td>\n",
       "    </tr>\n",
       "    <tr>\n",
       "      <th>25</th>\n",
       "      <td>25</td>\n",
       "      <td>2015-07-05</td>\n",
       "      <td>1.35</td>\n",
       "      <td>109252.12</td>\n",
       "      <td>869.45</td>\n",
       "      <td>72600.55</td>\n",
       "      <td>5883.16</td>\n",
       "      <td>29898.96</td>\n",
       "      <td>29663.19</td>\n",
       "      <td>235.77</td>\n",
       "      <td>0.00</td>\n",
       "      <td>conventional</td>\n",
       "      <td>2015</td>\n",
       "      <td>Albany</td>\n",
       "    </tr>\n",
       "    <tr>\n",
       "      <th>26</th>\n",
       "      <td>26</td>\n",
       "      <td>2015-06-28</td>\n",
       "      <td>1.37</td>\n",
       "      <td>89534.81</td>\n",
       "      <td>664.23</td>\n",
       "      <td>57545.79</td>\n",
       "      <td>4662.71</td>\n",
       "      <td>26662.08</td>\n",
       "      <td>26311.76</td>\n",
       "      <td>350.32</td>\n",
       "      <td>0.00</td>\n",
       "      <td>conventional</td>\n",
       "      <td>2015</td>\n",
       "      <td>Albany</td>\n",
       "    </tr>\n",
       "    <tr>\n",
       "      <th>27</th>\n",
       "      <td>27</td>\n",
       "      <td>2015-06-21</td>\n",
       "      <td>1.27</td>\n",
       "      <td>104849.39</td>\n",
       "      <td>804.01</td>\n",
       "      <td>76688.55</td>\n",
       "      <td>5481.18</td>\n",
       "      <td>21875.65</td>\n",
       "      <td>21662.00</td>\n",
       "      <td>213.65</td>\n",
       "      <td>0.00</td>\n",
       "      <td>conventional</td>\n",
       "      <td>2015</td>\n",
       "      <td>Albany</td>\n",
       "    </tr>\n",
       "    <tr>\n",
       "      <th>28</th>\n",
       "      <td>28</td>\n",
       "      <td>2015-06-14</td>\n",
       "      <td>1.32</td>\n",
       "      <td>89631.30</td>\n",
       "      <td>850.58</td>\n",
       "      <td>55400.94</td>\n",
       "      <td>4377.19</td>\n",
       "      <td>29002.59</td>\n",
       "      <td>28343.14</td>\n",
       "      <td>659.45</td>\n",
       "      <td>0.00</td>\n",
       "      <td>conventional</td>\n",
       "      <td>2015</td>\n",
       "      <td>Albany</td>\n",
       "    </tr>\n",
       "    <tr>\n",
       "      <th>29</th>\n",
       "      <td>29</td>\n",
       "      <td>2015-06-07</td>\n",
       "      <td>1.07</td>\n",
       "      <td>122743.06</td>\n",
       "      <td>656.71</td>\n",
       "      <td>99220.82</td>\n",
       "      <td>90.32</td>\n",
       "      <td>22775.21</td>\n",
       "      <td>22314.99</td>\n",
       "      <td>460.22</td>\n",
       "      <td>0.00</td>\n",
       "      <td>conventional</td>\n",
       "      <td>2015</td>\n",
       "      <td>Albany</td>\n",
       "    </tr>\n",
       "    <tr>\n",
       "      <th>30</th>\n",
       "      <td>30</td>\n",
       "      <td>2015-05-31</td>\n",
       "      <td>1.23</td>\n",
       "      <td>95123.62</td>\n",
       "      <td>922.37</td>\n",
       "      <td>70469.69</td>\n",
       "      <td>50.55</td>\n",
       "      <td>23681.01</td>\n",
       "      <td>23222.49</td>\n",
       "      <td>458.52</td>\n",
       "      <td>0.00</td>\n",
       "      <td>conventional</td>\n",
       "      <td>2015</td>\n",
       "      <td>Albany</td>\n",
       "    </tr>\n",
       "    <tr>\n",
       "      <th>31</th>\n",
       "      <td>31</td>\n",
       "      <td>2015-05-24</td>\n",
       "      <td>1.19</td>\n",
       "      <td>101470.91</td>\n",
       "      <td>680.27</td>\n",
       "      <td>71376.81</td>\n",
       "      <td>58.70</td>\n",
       "      <td>29355.13</td>\n",
       "      <td>28761.81</td>\n",
       "      <td>593.32</td>\n",
       "      <td>0.00</td>\n",
       "      <td>conventional</td>\n",
       "      <td>2015</td>\n",
       "      <td>Albany</td>\n",
       "    </tr>\n",
       "    <tr>\n",
       "      <th>32</th>\n",
       "      <td>32</td>\n",
       "      <td>2015-05-17</td>\n",
       "      <td>1.43</td>\n",
       "      <td>109857.47</td>\n",
       "      <td>1150.55</td>\n",
       "      <td>81955.16</td>\n",
       "      <td>94.32</td>\n",
       "      <td>26657.44</td>\n",
       "      <td>26285.43</td>\n",
       "      <td>372.01</td>\n",
       "      <td>0.00</td>\n",
       "      <td>conventional</td>\n",
       "      <td>2015</td>\n",
       "      <td>Albany</td>\n",
       "    </tr>\n",
       "    <tr>\n",
       "      <th>33</th>\n",
       "      <td>33</td>\n",
       "      <td>2015-05-10</td>\n",
       "      <td>1.26</td>\n",
       "      <td>120427.91</td>\n",
       "      <td>1420.43</td>\n",
       "      <td>102000.52</td>\n",
       "      <td>185.66</td>\n",
       "      <td>16821.30</td>\n",
       "      <td>16535.55</td>\n",
       "      <td>285.75</td>\n",
       "      <td>0.00</td>\n",
       "      <td>conventional</td>\n",
       "      <td>2015</td>\n",
       "      <td>Albany</td>\n",
       "    </tr>\n",
       "    <tr>\n",
       "      <th>34</th>\n",
       "      <td>34</td>\n",
       "      <td>2015-05-03</td>\n",
       "      <td>1.20</td>\n",
       "      <td>59197.67</td>\n",
       "      <td>919.87</td>\n",
       "      <td>45490.05</td>\n",
       "      <td>217.24</td>\n",
       "      <td>12570.51</td>\n",
       "      <td>12201.95</td>\n",
       "      <td>368.56</td>\n",
       "      <td>0.00</td>\n",
       "      <td>conventional</td>\n",
       "      <td>2015</td>\n",
       "      <td>Albany</td>\n",
       "    </tr>\n",
       "    <tr>\n",
       "      <th>35</th>\n",
       "      <td>35</td>\n",
       "      <td>2015-04-26</td>\n",
       "      <td>1.22</td>\n",
       "      <td>49585.46</td>\n",
       "      <td>875.65</td>\n",
       "      <td>35841.75</td>\n",
       "      <td>89.62</td>\n",
       "      <td>12778.44</td>\n",
       "      <td>12076.83</td>\n",
       "      <td>701.61</td>\n",
       "      <td>0.00</td>\n",
       "      <td>conventional</td>\n",
       "      <td>2015</td>\n",
       "      <td>Albany</td>\n",
       "    </tr>\n",
       "    <tr>\n",
       "      <th>36</th>\n",
       "      <td>36</td>\n",
       "      <td>2015-04-19</td>\n",
       "      <td>1.19</td>\n",
       "      <td>49064.73</td>\n",
       "      <td>774.15</td>\n",
       "      <td>33941.51</td>\n",
       "      <td>47.15</td>\n",
       "      <td>14301.92</td>\n",
       "      <td>13602.97</td>\n",
       "      <td>698.95</td>\n",
       "      <td>0.00</td>\n",
       "      <td>conventional</td>\n",
       "      <td>2015</td>\n",
       "      <td>Albany</td>\n",
       "    </tr>\n",
       "    <tr>\n",
       "      <th>37</th>\n",
       "      <td>37</td>\n",
       "      <td>2015-04-12</td>\n",
       "      <td>1.13</td>\n",
       "      <td>48364.29</td>\n",
       "      <td>864.27</td>\n",
       "      <td>30374.15</td>\n",
       "      <td>21.50</td>\n",
       "      <td>17104.37</td>\n",
       "      <td>16438.49</td>\n",
       "      <td>665.88</td>\n",
       "      <td>0.00</td>\n",
       "      <td>conventional</td>\n",
       "      <td>2015</td>\n",
       "      <td>Albany</td>\n",
       "    </tr>\n",
       "    <tr>\n",
       "      <th>38</th>\n",
       "      <td>38</td>\n",
       "      <td>2015-04-05</td>\n",
       "      <td>1.16</td>\n",
       "      <td>47362.13</td>\n",
       "      <td>961.77</td>\n",
       "      <td>35577.66</td>\n",
       "      <td>93.76</td>\n",
       "      <td>10728.94</td>\n",
       "      <td>9869.16</td>\n",
       "      <td>755.61</td>\n",
       "      <td>104.17</td>\n",
       "      <td>conventional</td>\n",
       "      <td>2015</td>\n",
       "      <td>Albany</td>\n",
       "    </tr>\n",
       "    <tr>\n",
       "      <th>39</th>\n",
       "      <td>39</td>\n",
       "      <td>2015-03-29</td>\n",
       "      <td>1.02</td>\n",
       "      <td>67799.08</td>\n",
       "      <td>1402.28</td>\n",
       "      <td>58623.22</td>\n",
       "      <td>89.50</td>\n",
       "      <td>7684.08</td>\n",
       "      <td>7208.49</td>\n",
       "      <td>475.59</td>\n",
       "      <td>0.00</td>\n",
       "      <td>conventional</td>\n",
       "      <td>2015</td>\n",
       "      <td>Albany</td>\n",
       "    </tr>\n",
       "  </tbody>\n",
       "</table>\n",
       "</div>"
      ],
      "text/plain": [
       "    Unnamed: 0        Date  AveragePrice  Total Volume  \\\n",
       "0            0  2015-12-27          1.33      64236.62   \n",
       "1            1  2015-12-20          1.35      54876.98   \n",
       "2            2  2015-12-13          0.93     118220.22   \n",
       "3            3  2015-12-06          1.08      78992.15   \n",
       "4            4  2015-11-29          1.28      51039.60   \n",
       "5            5  2015-11-22          1.26      55979.78   \n",
       "6            6  2015-11-15          0.99      83453.76   \n",
       "7            7  2015-11-08          0.98     109428.33   \n",
       "8            8  2015-11-01          1.02      99811.42   \n",
       "9            9  2015-10-25          1.07      74338.76   \n",
       "10          10  2015-10-18          1.12      84843.44   \n",
       "11          11  2015-10-11          1.28      64489.17   \n",
       "12          12  2015-10-04          1.31      61007.10   \n",
       "13          13  2015-09-27          0.99     106803.39   \n",
       "14          14  2015-09-20          1.33      69759.01   \n",
       "15          15  2015-09-13          1.28      76111.27   \n",
       "16          16  2015-09-06          1.11      99172.96   \n",
       "17          17  2015-08-30          1.07     105693.84   \n",
       "18          18  2015-08-23          1.34      79992.09   \n",
       "19          19  2015-08-16          1.33      80043.78   \n",
       "20          20  2015-08-09          1.12     111140.93   \n",
       "21          21  2015-08-02          1.45      75133.10   \n",
       "22          22  2015-07-26          1.11     106757.10   \n",
       "23          23  2015-07-19          1.26      96617.00   \n",
       "24          24  2015-07-12          1.05     124055.31   \n",
       "25          25  2015-07-05          1.35     109252.12   \n",
       "26          26  2015-06-28          1.37      89534.81   \n",
       "27          27  2015-06-21          1.27     104849.39   \n",
       "28          28  2015-06-14          1.32      89631.30   \n",
       "29          29  2015-06-07          1.07     122743.06   \n",
       "30          30  2015-05-31          1.23      95123.62   \n",
       "31          31  2015-05-24          1.19     101470.91   \n",
       "32          32  2015-05-17          1.43     109857.47   \n",
       "33          33  2015-05-10          1.26     120427.91   \n",
       "34          34  2015-05-03          1.20      59197.67   \n",
       "35          35  2015-04-26          1.22      49585.46   \n",
       "36          36  2015-04-19          1.19      49064.73   \n",
       "37          37  2015-04-12          1.13      48364.29   \n",
       "38          38  2015-04-05          1.16      47362.13   \n",
       "39          39  2015-03-29          1.02      67799.08   \n",
       "\n",
       "    Small/Medium Hass Size  Large Hass Size  XLarge Hass Size  Total Bags  \\\n",
       "0                  1036.74         54454.85             48.16     8696.87   \n",
       "1                   674.28         44638.81             58.33     9505.56   \n",
       "2                   794.70        109149.67            130.50     8145.35   \n",
       "3                  1132.00         71976.41             72.58     5811.16   \n",
       "4                   941.48         43838.39             75.78     6183.95   \n",
       "5                  1184.27         48067.99             43.61     6683.91   \n",
       "6                  1368.92         73672.72             93.26     8318.86   \n",
       "7                   703.75        101815.36             80.00     6829.22   \n",
       "8                  1022.15         87315.57             85.34    11388.36   \n",
       "9                   842.40         64757.44            113.00     8625.92   \n",
       "10                  924.86         75595.85            117.07     8205.66   \n",
       "11                 1582.03         52677.92            105.32    10123.90   \n",
       "12                 2268.32         49880.67            101.36     8756.75   \n",
       "13                 1204.88         99409.21            154.84     6034.46   \n",
       "14                 1028.03         59313.12            150.50     9267.36   \n",
       "15                  985.73         65696.86            142.00     9286.68   \n",
       "16                  879.45         90062.62            240.79     7990.10   \n",
       "17                  689.01         94362.67            335.43    10306.73   \n",
       "18                  733.16         67933.79            444.78    10880.36   \n",
       "19                  539.65         68666.01            394.90    10443.22   \n",
       "20                  584.63        100961.46            368.95     9225.89   \n",
       "21                  509.94         62035.06            741.08    11847.02   \n",
       "22                  648.75         91949.05            966.61    13192.69   \n",
       "23                 1042.10         82049.40           2238.02    11287.48   \n",
       "24                  672.25         94693.52           4257.64    24431.90   \n",
       "25                  869.45         72600.55           5883.16    29898.96   \n",
       "26                  664.23         57545.79           4662.71    26662.08   \n",
       "27                  804.01         76688.55           5481.18    21875.65   \n",
       "28                  850.58         55400.94           4377.19    29002.59   \n",
       "29                  656.71         99220.82             90.32    22775.21   \n",
       "30                  922.37         70469.69             50.55    23681.01   \n",
       "31                  680.27         71376.81             58.70    29355.13   \n",
       "32                 1150.55         81955.16             94.32    26657.44   \n",
       "33                 1420.43        102000.52            185.66    16821.30   \n",
       "34                  919.87         45490.05            217.24    12570.51   \n",
       "35                  875.65         35841.75             89.62    12778.44   \n",
       "36                  774.15         33941.51             47.15    14301.92   \n",
       "37                  864.27         30374.15             21.50    17104.37   \n",
       "38                  961.77         35577.66             93.76    10728.94   \n",
       "39                 1402.28         58623.22             89.50     7684.08   \n",
       "\n",
       "    Small Bags  Large Bags  XLarge Bags          type  year  region  \n",
       "0      8603.62       93.25         0.00  conventional  2015  Albany  \n",
       "1      9408.07       97.49         0.00  conventional  2015  Albany  \n",
       "2      8042.21      103.14         0.00  conventional  2015  Albany  \n",
       "3      5677.40      133.76         0.00  conventional  2015  Albany  \n",
       "4      5986.26      197.69         0.00  conventional  2015  Albany  \n",
       "5      6556.47      127.44         0.00  conventional  2015  Albany  \n",
       "6      8196.81      122.05         0.00  conventional  2015  Albany  \n",
       "7      6266.85      562.37         0.00  conventional  2015  Albany  \n",
       "8     11104.53      283.83         0.00  conventional  2015  Albany  \n",
       "9      8061.47      564.45         0.00  conventional  2015  Albany  \n",
       "10     7877.86      327.80         0.00  conventional  2015  Albany  \n",
       "11     9866.27      257.63         0.00  conventional  2015  Albany  \n",
       "12     8379.98      376.77         0.00  conventional  2015  Albany  \n",
       "13     5888.87      145.59         0.00  conventional  2015  Albany  \n",
       "14     8489.10      778.26         0.00  conventional  2015  Albany  \n",
       "15     8665.19      621.49         0.00  conventional  2015  Albany  \n",
       "16     7762.87      227.23         0.00  conventional  2015  Albany  \n",
       "17    10218.93       87.80         0.00  conventional  2015  Albany  \n",
       "18    10745.79      134.57         0.00  conventional  2015  Albany  \n",
       "19    10297.68      145.54         0.00  conventional  2015  Albany  \n",
       "20     9116.34      109.55         0.00  conventional  2015  Albany  \n",
       "21    11768.52       78.50         0.00  conventional  2015  Albany  \n",
       "22    13061.53      131.16         0.00  conventional  2015  Albany  \n",
       "23    11103.49      183.99         0.00  conventional  2015  Albany  \n",
       "24    24290.08      108.49        33.33  conventional  2015  Albany  \n",
       "25    29663.19      235.77         0.00  conventional  2015  Albany  \n",
       "26    26311.76      350.32         0.00  conventional  2015  Albany  \n",
       "27    21662.00      213.65         0.00  conventional  2015  Albany  \n",
       "28    28343.14      659.45         0.00  conventional  2015  Albany  \n",
       "29    22314.99      460.22         0.00  conventional  2015  Albany  \n",
       "30    23222.49      458.52         0.00  conventional  2015  Albany  \n",
       "31    28761.81      593.32         0.00  conventional  2015  Albany  \n",
       "32    26285.43      372.01         0.00  conventional  2015  Albany  \n",
       "33    16535.55      285.75         0.00  conventional  2015  Albany  \n",
       "34    12201.95      368.56         0.00  conventional  2015  Albany  \n",
       "35    12076.83      701.61         0.00  conventional  2015  Albany  \n",
       "36    13602.97      698.95         0.00  conventional  2015  Albany  \n",
       "37    16438.49      665.88         0.00  conventional  2015  Albany  \n",
       "38     9869.16      755.61       104.17  conventional  2015  Albany  \n",
       "39     7208.49      475.59         0.00  conventional  2015  Albany  "
      ]
     },
     "execution_count": 12,
     "metadata": {},
     "output_type": "execute_result"
    }
   ],
   "source": [
    "df.head(40)"
   ]
  },
  {
   "cell_type": "markdown",
   "id": "19ac1759",
   "metadata": {},
   "source": [
    "Dropped an unuseful column, which is just a representation of the indexes, Unnamed: 0 and also Date"
   ]
  },
  {
   "cell_type": "code",
   "execution_count": 13,
   "id": "4b38cf22",
   "metadata": {},
   "outputs": [
    {
     "name": "stdout",
     "output_type": "stream",
     "text": [
      "<class 'pandas.core.frame.DataFrame'>\n",
      "RangeIndex: 18249 entries, 0 to 18248\n",
      "Data columns (total 12 columns):\n",
      " #   Column                  Non-Null Count  Dtype  \n",
      "---  ------                  --------------  -----  \n",
      " 0   AveragePrice            18249 non-null  float64\n",
      " 1   Total Volume            18249 non-null  float64\n",
      " 2   Small/Medium Hass Size  18249 non-null  float64\n",
      " 3   Large Hass Size         18249 non-null  float64\n",
      " 4   XLarge Hass Size        18249 non-null  float64\n",
      " 5   Total Bags              18249 non-null  float64\n",
      " 6   Small Bags              18249 non-null  float64\n",
      " 7   Large Bags              18249 non-null  float64\n",
      " 8   XLarge Bags             18249 non-null  float64\n",
      " 9   type                    18249 non-null  object \n",
      " 10  year                    18249 non-null  int64  \n",
      " 11  region                  18249 non-null  object \n",
      "dtypes: float64(9), int64(1), object(2)\n",
      "memory usage: 1.7+ MB\n"
     ]
    }
   ],
   "source": [
    "df = df.drop(['Date', 'Unnamed: 0'], axis = 1)\n",
    "#already dropped Unnamed, Date, and type!\n",
    "df.info()"
   ]
  },
  {
   "cell_type": "markdown",
   "id": "2d2f4ed2",
   "metadata": {},
   "source": [
    "Turning Organic and Conventional to 0s and 1s"
   ]
  },
  {
   "cell_type": "code",
   "execution_count": 14,
   "id": "536bd994",
   "metadata": {},
   "outputs": [
    {
     "name": "stdout",
     "output_type": "stream",
     "text": [
      "       AveragePrice  Total Volume  Small/Medium Hass Size  Large Hass Size  \\\n",
      "16013          1.48       6518.64                   24.84           333.44   \n",
      "15255          0.98      19269.21                  290.18          4390.45   \n",
      "11487          1.37      59918.41                40814.07          6636.20   \n",
      "\n",
      "       XLarge Hass Size  Total Bags  Small Bags  Large Bags  XLarge Bags  \\\n",
      "16013              0.00     6160.36     6147.77       12.59          0.0   \n",
      "15255              0.00    14588.58     1115.74    13472.84          0.0   \n",
      "11487             71.02    12397.12    12075.30      321.82          0.0   \n",
      "\n",
      "          type  year             region  conventional  organic  \n",
      "16013  organic  2017  MiamiFtLauderdale             0        1  \n",
      "15255  organic  2017   CincinnatiDayton             0        1  \n",
      "11487  organic  2015       SouthCentral             0        1  \n"
     ]
    }
   ],
   "source": [
    "#organic and conventional\n",
    "avo_type = pd.get_dummies(df['type'])\n",
    "\n",
    "df = pd.concat([df, avo_type], axis=1)\n",
    "print(df.sample(3))"
   ]
  },
  {
   "cell_type": "code",
   "execution_count": 15,
   "id": "ea990708",
   "metadata": {},
   "outputs": [
    {
     "name": "stdout",
     "output_type": "stream",
     "text": [
      "<class 'pandas.core.frame.DataFrame'>\n",
      "RangeIndex: 18249 entries, 0 to 18248\n",
      "Data columns (total 14 columns):\n",
      " #   Column                  Non-Null Count  Dtype  \n",
      "---  ------                  --------------  -----  \n",
      " 0   AveragePrice            18249 non-null  float64\n",
      " 1   Total Volume            18249 non-null  float64\n",
      " 2   Small/Medium Hass Size  18249 non-null  float64\n",
      " 3   Large Hass Size         18249 non-null  float64\n",
      " 4   XLarge Hass Size        18249 non-null  float64\n",
      " 5   Total Bags              18249 non-null  float64\n",
      " 6   Small Bags              18249 non-null  float64\n",
      " 7   Large Bags              18249 non-null  float64\n",
      " 8   XLarge Bags             18249 non-null  float64\n",
      " 9   type                    18249 non-null  object \n",
      " 10  year                    18249 non-null  int64  \n",
      " 11  region                  18249 non-null  object \n",
      " 12  conventional            18249 non-null  uint8  \n",
      " 13  organic                 18249 non-null  uint8  \n",
      "dtypes: float64(9), int64(1), object(2), uint8(2)\n",
      "memory usage: 1.7+ MB\n"
     ]
    }
   ],
   "source": [
    "df.info()"
   ]
  },
  {
   "cell_type": "code",
   "execution_count": 16,
   "id": "db161fef",
   "metadata": {},
   "outputs": [
    {
     "data": {
      "text/html": [
       "<div>\n",
       "<style scoped>\n",
       "    .dataframe tbody tr th:only-of-type {\n",
       "        vertical-align: middle;\n",
       "    }\n",
       "\n",
       "    .dataframe tbody tr th {\n",
       "        vertical-align: top;\n",
       "    }\n",
       "\n",
       "    .dataframe thead th {\n",
       "        text-align: right;\n",
       "    }\n",
       "</style>\n",
       "<table border=\"1\" class=\"dataframe\">\n",
       "  <thead>\n",
       "    <tr style=\"text-align: right;\">\n",
       "      <th></th>\n",
       "      <th>AveragePrice</th>\n",
       "      <th>Total Volume</th>\n",
       "      <th>Small/Medium Hass Size</th>\n",
       "      <th>Large Hass Size</th>\n",
       "      <th>XLarge Hass Size</th>\n",
       "      <th>Total Bags</th>\n",
       "      <th>Small Bags</th>\n",
       "      <th>Large Bags</th>\n",
       "      <th>XLarge Bags</th>\n",
       "      <th>type</th>\n",
       "      <th>year</th>\n",
       "      <th>region</th>\n",
       "      <th>conventional</th>\n",
       "      <th>organic</th>\n",
       "    </tr>\n",
       "  </thead>\n",
       "  <tbody>\n",
       "    <tr>\n",
       "      <th>0</th>\n",
       "      <td>1.33</td>\n",
       "      <td>64236.62</td>\n",
       "      <td>1036.74</td>\n",
       "      <td>54454.85</td>\n",
       "      <td>48.16</td>\n",
       "      <td>8696.87</td>\n",
       "      <td>8603.62</td>\n",
       "      <td>93.25</td>\n",
       "      <td>0.0</td>\n",
       "      <td>conventional</td>\n",
       "      <td>2015</td>\n",
       "      <td>Albany</td>\n",
       "      <td>1</td>\n",
       "      <td>0</td>\n",
       "    </tr>\n",
       "    <tr>\n",
       "      <th>1</th>\n",
       "      <td>1.35</td>\n",
       "      <td>54876.98</td>\n",
       "      <td>674.28</td>\n",
       "      <td>44638.81</td>\n",
       "      <td>58.33</td>\n",
       "      <td>9505.56</td>\n",
       "      <td>9408.07</td>\n",
       "      <td>97.49</td>\n",
       "      <td>0.0</td>\n",
       "      <td>conventional</td>\n",
       "      <td>2015</td>\n",
       "      <td>Albany</td>\n",
       "      <td>1</td>\n",
       "      <td>0</td>\n",
       "    </tr>\n",
       "    <tr>\n",
       "      <th>2</th>\n",
       "      <td>0.93</td>\n",
       "      <td>118220.22</td>\n",
       "      <td>794.70</td>\n",
       "      <td>109149.67</td>\n",
       "      <td>130.50</td>\n",
       "      <td>8145.35</td>\n",
       "      <td>8042.21</td>\n",
       "      <td>103.14</td>\n",
       "      <td>0.0</td>\n",
       "      <td>conventional</td>\n",
       "      <td>2015</td>\n",
       "      <td>Albany</td>\n",
       "      <td>1</td>\n",
       "      <td>0</td>\n",
       "    </tr>\n",
       "    <tr>\n",
       "      <th>3</th>\n",
       "      <td>1.08</td>\n",
       "      <td>78992.15</td>\n",
       "      <td>1132.00</td>\n",
       "      <td>71976.41</td>\n",
       "      <td>72.58</td>\n",
       "      <td>5811.16</td>\n",
       "      <td>5677.40</td>\n",
       "      <td>133.76</td>\n",
       "      <td>0.0</td>\n",
       "      <td>conventional</td>\n",
       "      <td>2015</td>\n",
       "      <td>Albany</td>\n",
       "      <td>1</td>\n",
       "      <td>0</td>\n",
       "    </tr>\n",
       "    <tr>\n",
       "      <th>4</th>\n",
       "      <td>1.28</td>\n",
       "      <td>51039.60</td>\n",
       "      <td>941.48</td>\n",
       "      <td>43838.39</td>\n",
       "      <td>75.78</td>\n",
       "      <td>6183.95</td>\n",
       "      <td>5986.26</td>\n",
       "      <td>197.69</td>\n",
       "      <td>0.0</td>\n",
       "      <td>conventional</td>\n",
       "      <td>2015</td>\n",
       "      <td>Albany</td>\n",
       "      <td>1</td>\n",
       "      <td>0</td>\n",
       "    </tr>\n",
       "  </tbody>\n",
       "</table>\n",
       "</div>"
      ],
      "text/plain": [
       "   AveragePrice  Total Volume  Small/Medium Hass Size  Large Hass Size  \\\n",
       "0          1.33      64236.62                 1036.74         54454.85   \n",
       "1          1.35      54876.98                  674.28         44638.81   \n",
       "2          0.93     118220.22                  794.70        109149.67   \n",
       "3          1.08      78992.15                 1132.00         71976.41   \n",
       "4          1.28      51039.60                  941.48         43838.39   \n",
       "\n",
       "   XLarge Hass Size  Total Bags  Small Bags  Large Bags  XLarge Bags  \\\n",
       "0             48.16     8696.87     8603.62       93.25          0.0   \n",
       "1             58.33     9505.56     9408.07       97.49          0.0   \n",
       "2            130.50     8145.35     8042.21      103.14          0.0   \n",
       "3             72.58     5811.16     5677.40      133.76          0.0   \n",
       "4             75.78     6183.95     5986.26      197.69          0.0   \n",
       "\n",
       "           type  year  region  conventional  organic  \n",
       "0  conventional  2015  Albany             1        0  \n",
       "1  conventional  2015  Albany             1        0  \n",
       "2  conventional  2015  Albany             1        0  \n",
       "3  conventional  2015  Albany             1        0  \n",
       "4  conventional  2015  Albany             1        0  "
      ]
     },
     "execution_count": 16,
     "metadata": {},
     "output_type": "execute_result"
    }
   ],
   "source": [
    "df.head()"
   ]
  },
  {
   "cell_type": "markdown",
   "id": "cae9f2bd",
   "metadata": {},
   "source": [
    "Dropped type becuase it was unnessary to have as an object once I turned it into Organic and Conventional"
   ]
  },
  {
   "cell_type": "code",
   "execution_count": 17,
   "id": "a54f1250",
   "metadata": {},
   "outputs": [
    {
     "name": "stdout",
     "output_type": "stream",
     "text": [
      "<class 'pandas.core.frame.DataFrame'>\n",
      "RangeIndex: 18249 entries, 0 to 18248\n",
      "Data columns (total 12 columns):\n",
      " #   Column                  Non-Null Count  Dtype  \n",
      "---  ------                  --------------  -----  \n",
      " 0   AveragePrice            18249 non-null  float64\n",
      " 1   Total Volume            18249 non-null  float64\n",
      " 2   Small/Medium Hass Size  18249 non-null  float64\n",
      " 3   Large Hass Size         18249 non-null  float64\n",
      " 4   XLarge Hass Size        18249 non-null  float64\n",
      " 5   Total Bags              18249 non-null  float64\n",
      " 6   Small Bags              18249 non-null  float64\n",
      " 7   Large Bags              18249 non-null  float64\n",
      " 8   XLarge Bags             18249 non-null  float64\n",
      " 9   year                    18249 non-null  int64  \n",
      " 10  conventional            18249 non-null  uint8  \n",
      " 11  organic                 18249 non-null  uint8  \n",
      "dtypes: float64(9), int64(1), uint8(2)\n",
      "memory usage: 1.4 MB\n"
     ]
    }
   ],
   "source": [
    "df = df.drop(['type', 'region'], axis = 1)\n",
    "#already dropped Unnamed, Date, and type!\n",
    "df.info()"
   ]
  },
  {
   "cell_type": "markdown",
   "id": "ce57691f",
   "metadata": {},
   "source": [
    "Turning Conventional and Organic from unsigned integer to float statistics"
   ]
  },
  {
   "cell_type": "code",
   "execution_count": 18,
   "id": "edf31b67",
   "metadata": {},
   "outputs": [
    {
     "data": {
      "text/plain": [
       "6610    1.0\n",
       "1068    1.0\n",
       "297     1.0\n",
       "Name: conventional, dtype: float64"
      ]
     },
     "execution_count": 18,
     "metadata": {},
     "output_type": "execute_result"
    }
   ],
   "source": [
    "df['conventional'] = df['conventional'].astype('float64')\n",
    "df.dtypes\n",
    "df['conventional'] = df['conventional']\n",
    "df['conventional'].sample(3)"
   ]
  },
  {
   "cell_type": "code",
   "execution_count": 19,
   "id": "7aac0fdb",
   "metadata": {},
   "outputs": [
    {
     "data": {
      "text/plain": [
       "9691     1.0\n",
       "15831    1.0\n",
       "12756    1.0\n",
       "Name: organic, dtype: float64"
      ]
     },
     "execution_count": 19,
     "metadata": {},
     "output_type": "execute_result"
    }
   ],
   "source": [
    "df['organic'] = df['organic'].astype('float64')\n",
    "df.dtypes\n",
    "df['organic'] = df['organic']\n",
    "df['organic'].sample(3)"
   ]
  },
  {
   "cell_type": "code",
   "execution_count": 20,
   "id": "a203ed6a",
   "metadata": {},
   "outputs": [
    {
     "name": "stdout",
     "output_type": "stream",
     "text": [
      "<class 'pandas.core.frame.DataFrame'>\n",
      "RangeIndex: 18249 entries, 0 to 18248\n",
      "Data columns (total 12 columns):\n",
      " #   Column                  Non-Null Count  Dtype  \n",
      "---  ------                  --------------  -----  \n",
      " 0   AveragePrice            18249 non-null  float64\n",
      " 1   Total Volume            18249 non-null  float64\n",
      " 2   Small/Medium Hass Size  18249 non-null  float64\n",
      " 3   Large Hass Size         18249 non-null  float64\n",
      " 4   XLarge Hass Size        18249 non-null  float64\n",
      " 5   Total Bags              18249 non-null  float64\n",
      " 6   Small Bags              18249 non-null  float64\n",
      " 7   Large Bags              18249 non-null  float64\n",
      " 8   XLarge Bags             18249 non-null  float64\n",
      " 9   year                    18249 non-null  int64  \n",
      " 10  conventional            18249 non-null  float64\n",
      " 11  organic                 18249 non-null  float64\n",
      "dtypes: float64(11), int64(1)\n",
      "memory usage: 1.7 MB\n"
     ]
    }
   ],
   "source": [
    "df.info()"
   ]
  },
  {
   "cell_type": "markdown",
   "id": "dc78c0fe",
   "metadata": {},
   "source": [
    "This is the One Hot Encoder and I turned the Convetional and Organic to 0s and 1s"
   ]
  },
  {
   "cell_type": "code",
   "execution_count": 21,
   "id": "f1860063",
   "metadata": {},
   "outputs": [],
   "source": [
    "from sklearn.preprocessing import OneHotEncoder\n",
    "\n",
    "con_enc = OneHotEncoder()\n",
    "org_enc = OneHotEncoder()\n",
    "\n",
    "cat_encoder = con_enc.fit_transform((df.conventional).values.reshape(-1,1)).toarray()\n",
    "cat_encoder = org_enc.fit_transform((df.organic).values.reshape(-1,1)).toarray()"
   ]
  },
  {
   "cell_type": "code",
   "execution_count": 22,
   "id": "f5a9113c",
   "metadata": {},
   "outputs": [
    {
     "data": {
      "text/html": [
       "<div>\n",
       "<style scoped>\n",
       "    .dataframe tbody tr th:only-of-type {\n",
       "        vertical-align: middle;\n",
       "    }\n",
       "\n",
       "    .dataframe tbody tr th {\n",
       "        vertical-align: top;\n",
       "    }\n",
       "\n",
       "    .dataframe thead th {\n",
       "        text-align: right;\n",
       "    }\n",
       "</style>\n",
       "<table border=\"1\" class=\"dataframe\">\n",
       "  <thead>\n",
       "    <tr style=\"text-align: right;\">\n",
       "      <th></th>\n",
       "      <th>AveragePrice</th>\n",
       "      <th>Total Volume</th>\n",
       "      <th>Small/Medium Hass Size</th>\n",
       "      <th>Large Hass Size</th>\n",
       "      <th>XLarge Hass Size</th>\n",
       "      <th>Total Bags</th>\n",
       "      <th>Small Bags</th>\n",
       "      <th>Large Bags</th>\n",
       "      <th>XLarge Bags</th>\n",
       "      <th>year</th>\n",
       "      <th>conventional</th>\n",
       "      <th>organic</th>\n",
       "    </tr>\n",
       "  </thead>\n",
       "  <tbody>\n",
       "    <tr>\n",
       "      <th>0</th>\n",
       "      <td>1.33</td>\n",
       "      <td>64236.62</td>\n",
       "      <td>1036.74</td>\n",
       "      <td>54454.85</td>\n",
       "      <td>48.16</td>\n",
       "      <td>8696.87</td>\n",
       "      <td>8603.62</td>\n",
       "      <td>93.25</td>\n",
       "      <td>0.0</td>\n",
       "      <td>2015</td>\n",
       "      <td>1.0</td>\n",
       "      <td>0.0</td>\n",
       "    </tr>\n",
       "    <tr>\n",
       "      <th>1</th>\n",
       "      <td>1.35</td>\n",
       "      <td>54876.98</td>\n",
       "      <td>674.28</td>\n",
       "      <td>44638.81</td>\n",
       "      <td>58.33</td>\n",
       "      <td>9505.56</td>\n",
       "      <td>9408.07</td>\n",
       "      <td>97.49</td>\n",
       "      <td>0.0</td>\n",
       "      <td>2015</td>\n",
       "      <td>1.0</td>\n",
       "      <td>0.0</td>\n",
       "    </tr>\n",
       "    <tr>\n",
       "      <th>2</th>\n",
       "      <td>0.93</td>\n",
       "      <td>118220.22</td>\n",
       "      <td>794.70</td>\n",
       "      <td>109149.67</td>\n",
       "      <td>130.50</td>\n",
       "      <td>8145.35</td>\n",
       "      <td>8042.21</td>\n",
       "      <td>103.14</td>\n",
       "      <td>0.0</td>\n",
       "      <td>2015</td>\n",
       "      <td>1.0</td>\n",
       "      <td>0.0</td>\n",
       "    </tr>\n",
       "    <tr>\n",
       "      <th>3</th>\n",
       "      <td>1.08</td>\n",
       "      <td>78992.15</td>\n",
       "      <td>1132.00</td>\n",
       "      <td>71976.41</td>\n",
       "      <td>72.58</td>\n",
       "      <td>5811.16</td>\n",
       "      <td>5677.40</td>\n",
       "      <td>133.76</td>\n",
       "      <td>0.0</td>\n",
       "      <td>2015</td>\n",
       "      <td>1.0</td>\n",
       "      <td>0.0</td>\n",
       "    </tr>\n",
       "    <tr>\n",
       "      <th>4</th>\n",
       "      <td>1.28</td>\n",
       "      <td>51039.60</td>\n",
       "      <td>941.48</td>\n",
       "      <td>43838.39</td>\n",
       "      <td>75.78</td>\n",
       "      <td>6183.95</td>\n",
       "      <td>5986.26</td>\n",
       "      <td>197.69</td>\n",
       "      <td>0.0</td>\n",
       "      <td>2015</td>\n",
       "      <td>1.0</td>\n",
       "      <td>0.0</td>\n",
       "    </tr>\n",
       "  </tbody>\n",
       "</table>\n",
       "</div>"
      ],
      "text/plain": [
       "   AveragePrice  Total Volume  Small/Medium Hass Size  Large Hass Size  \\\n",
       "0          1.33      64236.62                 1036.74         54454.85   \n",
       "1          1.35      54876.98                  674.28         44638.81   \n",
       "2          0.93     118220.22                  794.70        109149.67   \n",
       "3          1.08      78992.15                 1132.00         71976.41   \n",
       "4          1.28      51039.60                  941.48         43838.39   \n",
       "\n",
       "   XLarge Hass Size  Total Bags  Small Bags  Large Bags  XLarge Bags  year  \\\n",
       "0             48.16     8696.87     8603.62       93.25          0.0  2015   \n",
       "1             58.33     9505.56     9408.07       97.49          0.0  2015   \n",
       "2            130.50     8145.35     8042.21      103.14          0.0  2015   \n",
       "3             72.58     5811.16     5677.40      133.76          0.0  2015   \n",
       "4             75.78     6183.95     5986.26      197.69          0.0  2015   \n",
       "\n",
       "   conventional  organic  \n",
       "0           1.0      0.0  \n",
       "1           1.0      0.0  \n",
       "2           1.0      0.0  \n",
       "3           1.0      0.0  \n",
       "4           1.0      0.0  "
      ]
     },
     "execution_count": 22,
     "metadata": {},
     "output_type": "execute_result"
    }
   ],
   "source": [
    "df.head(5)"
   ]
  },
  {
   "cell_type": "markdown",
   "id": "7bdd3c3e",
   "metadata": {},
   "source": [
    "Graphs\n",
    "The range Average price lies, what is distribution look like Average Price distribution shows that for most cases price of avocado is between 1.1, 1.4."
   ]
  },
  {
   "cell_type": "code",
   "execution_count": 23,
   "id": "f7865ce5",
   "metadata": {},
   "outputs": [
    {
     "data": {
      "image/png": "[encoded data removed]",
      "text/plain": [
       "<Figure size 432x288 with 1 Axes>"
      ]
     },
     "metadata": {
      "needs_background": "light"
     },
     "output_type": "display_data"
    }
   ],
   "source": [
    "df[\"AveragePrice\"].hist(bins=50)\n",
    "plt.show()"
   ]
  },
  {
   "cell_type": "code",
   "execution_count": 24,
   "id": "a4ffa7f4",
   "metadata": {},
   "outputs": [
    {
     "data": {
      "image/png": "[encoded data removed]",
      "text/plain": [
       "<Figure size 1440x1080 with 12 Axes>"
      ]
     },
     "metadata": {
      "needs_background": "light"
     },
     "output_type": "display_data"
    }
   ],
   "source": [
    "df.hist(bins=50, figsize=(20,15))\n",
    "plt.show()"
   ]
  },
  {
   "cell_type": "code",
   "execution_count": 25,
   "id": "bc3991d2",
   "metadata": {},
   "outputs": [],
   "source": [
    "df = df.dropna(axis=0)"
   ]
  },
  {
   "cell_type": "code",
   "execution_count": 26,
   "id": "ae1fc246",
   "metadata": {},
   "outputs": [
    {
     "data": {
      "image/png": "[encoded data removed]",
      "text/plain": [
       "<Figure size 432x288 with 1 Axes>"
      ]
     },
     "metadata": {
      "needs_background": "light"
     },
     "output_type": "display_data"
    }
   ],
   "source": [
    "plt.hist(df['AveragePrice'], bins = 30)\n",
    "plt.show()"
   ]
  },
  {
   "cell_type": "code",
   "execution_count": 27,
   "id": "79d479e4",
   "metadata": {},
   "outputs": [
    {
     "data": {
      "image/png": "[encoded data removed]",
      "text/plain": [
       "<Figure size 432x288 with 1 Axes>"
      ]
     },
     "metadata": {
      "needs_background": "light"
     },
     "output_type": "display_data"
    }
   ],
   "source": [
    "plt.plot(df['AveragePrice'])\n",
    "plt.title('Average Price')\n",
    "plt.xlabel('Total Bags')\n",
    "plt.ylabel('Average Price')\n",
    "plt.show()"
   ]
  },
  {
   "cell_type": "code",
   "execution_count": 28,
   "id": "d9ff1f1e",
   "metadata": {},
   "outputs": [
    {
     "data": {
      "image/png": "[encoded data removed]",
      "text/plain": [
       "<Figure size 432x288 with 1 Axes>"
      ]
     },
     "metadata": {
      "needs_background": "light"
     },
     "output_type": "display_data"
    }
   ],
   "source": [
    "plt.plot(df['Total Bags'])\n",
    "plt.title('Total Bags')\n",
    "plt.xlabel('Average Price')\n",
    "plt.ylabel('Total Bags')\n",
    "plt.show()"
   ]
  },
  {
   "cell_type": "code",
   "execution_count": 29,
   "id": "cf931789",
   "metadata": {},
   "outputs": [
    {
     "data": {
      "image/png": "[encoded data removed]",
      "text/plain": [
       "<Figure size 432x288 with 1 Axes>"
      ]
     },
     "metadata": {
      "needs_background": "light"
     },
     "output_type": "display_data"
    }
   ],
   "source": [
    "plt.plot(df['Small Bags'])\n",
    "plt.title('Small Bags')\n",
    "plt.xlabel('Average Price')\n",
    "plt.ylabel('Small Bags')\n",
    "plt.show()\n"
   ]
  },
  {
   "cell_type": "code",
   "execution_count": 30,
   "id": "87cde59f",
   "metadata": {},
   "outputs": [
    {
     "data": {
      "image/png": "[encoded data removed]",
      "text/plain": [
       "<Figure size 432x288 with 1 Axes>"
      ]
     },
     "metadata": {
      "needs_background": "light"
     },
     "output_type": "display_data"
    }
   ],
   "source": [
    "plt.plot(df['Large Bags'])\n",
    "plt.title('Large Bags')\n",
    "plt.xlabel('Average Price')\n",
    "plt.ylabel('Large Bags')\n",
    "plt.show()"
   ]
  },
  {
   "cell_type": "code",
   "execution_count": 31,
   "id": "2fd2bea3",
   "metadata": {},
   "outputs": [
    {
     "data": {
      "image/png": "[encoded data removed]",
      "text/plain": [
       "<Figure size 432x288 with 1 Axes>"
      ]
     },
     "metadata": {
      "needs_background": "light"
     },
     "output_type": "display_data"
    }
   ],
   "source": [
    "plt.plot(df['XLarge Bags'])\n",
    "plt.title('XLarge Bags')\n",
    "plt.xlabel('Average Price')\n",
    "plt.ylabel('XLarge Bags')\n",
    "plt.show()"
   ]
  },
  {
   "cell_type": "code",
   "execution_count": 33,
   "id": "137c8f04",
   "metadata": {},
   "outputs": [
    {
     "data": {
      "image/png": "[encoded data removed]",
      "text/plain": [
       "<Figure size 432x288 with 1 Axes>"
      ]
     },
     "metadata": {
      "needs_background": "light"
     },
     "output_type": "display_data"
    }
   ],
   "source": [
    "plt.scatter(df['AveragePrice'],df['Total Bags'], color='blue')\n",
    "plt.title('Average Price vs Total Bags')\n",
    "plt.xlabel('Average Price')\n",
    "plt.ylabel('Total Bags')\n",
    "plt.show()"
   ]
  },
  {
   "cell_type": "markdown",
   "id": "81772db1",
   "metadata": {},
   "source": [
    "# Statistics\n",
    "Here are the statistics of all the categories.\n",
    "\n",
    "The most important ones are Average Price and Total Bags\n",
    "\n",
    "The interesting thing about these statistics are the size of the bags and the mean.\n",
    "\n",
    "You would think that the extra large bags would have more mean, but in actuality, the small bags have more mean."
   ]
  },
  {
   "cell_type": "code",
   "execution_count": 34,
   "id": "a42b1c4a",
   "metadata": {},
   "outputs": [
    {
     "data": {
      "text/plain": [
       "AveragePrice                   1.405978\n",
       "Total Volume              850644.013009\n",
       "Small/Medium Hass Size    293008.424531\n",
       "Large Hass Size           295154.568356\n",
       "XLarge Hass Size           22839.735993\n",
       "Total Bags                239639.202060\n",
       "Small Bags                182194.686696\n",
       "Large Bags                 54338.088145\n",
       "XLarge Bags                 3106.426507\n",
       "year                        2016.147899\n",
       "conventional                   0.500082\n",
       "organic                        0.499918\n",
       "dtype: float64"
      ]
     },
     "execution_count": 34,
     "metadata": {},
     "output_type": "execute_result"
    }
   ],
   "source": [
    "df.mean()"
   ]
  },
  {
   "cell_type": "code",
   "execution_count": 35,
   "id": "76f544b0",
   "metadata": {},
   "outputs": [
    {
     "data": {
      "text/plain": [
       "1.4059784097758825"
      ]
     },
     "execution_count": 35,
     "metadata": {},
     "output_type": "execute_result"
    }
   ],
   "source": [
    "x= df['AveragePrice'].mean()\n",
    "x"
   ]
  },
  {
   "cell_type": "code",
   "execution_count": 36,
   "id": "c0b8f11e",
   "metadata": {},
   "outputs": [
    {
     "data": {
      "text/plain": [
       "239639.20205983953"
      ]
     },
     "execution_count": 36,
     "metadata": {},
     "output_type": "execute_result"
    }
   ],
   "source": [
    "x= df['Total Bags'].mean()\n",
    "x"
   ]
  },
  {
   "cell_type": "code",
   "execution_count": 37,
   "id": "beb1bb2a",
   "metadata": {},
   "outputs": [
    {
     "data": {
      "text/plain": [
       "AveragePrice                 0.44\n",
       "Total Volume                84.56\n",
       "Small/Medium Hass Size       0.00\n",
       "Large Hass Size              0.00\n",
       "XLarge Hass Size             0.00\n",
       "Total Bags                   0.00\n",
       "Small Bags                   0.00\n",
       "Large Bags                   0.00\n",
       "XLarge Bags                  0.00\n",
       "year                      2015.00\n",
       "conventional                 0.00\n",
       "organic                      0.00\n",
       "dtype: float64"
      ]
     },
     "execution_count": 37,
     "metadata": {},
     "output_type": "execute_result"
    }
   ],
   "source": [
    "df.min()"
   ]
  },
  {
   "cell_type": "code",
   "execution_count": 38,
   "id": "334527d8",
   "metadata": {},
   "outputs": [
    {
     "data": {
      "text/plain": [
       "AveragePrice                     3.25\n",
       "Total Volume              62505646.52\n",
       "Small/Medium Hass Size    22743616.17\n",
       "Large Hass Size           20470572.61\n",
       "XLarge Hass Size           2546439.11\n",
       "Total Bags                19373134.37\n",
       "Small Bags                13384586.80\n",
       "Large Bags                 5719096.61\n",
       "XLarge Bags                 551693.65\n",
       "year                          2018.00\n",
       "conventional                     1.00\n",
       "organic                          1.00\n",
       "dtype: float64"
      ]
     },
     "execution_count": 38,
     "metadata": {},
     "output_type": "execute_result"
    }
   ],
   "source": [
    "df.max()"
   ]
  },
  {
   "cell_type": "code",
   "execution_count": 39,
   "id": "4808ef85",
   "metadata": {},
   "outputs": [
    {
     "data": {
      "text/plain": [
       "AveragePrice                   1.37\n",
       "Total Volume              107376.76\n",
       "Small/Medium Hass Size      8645.30\n",
       "Large Hass Size            29061.02\n",
       "XLarge Hass Size             184.99\n",
       "Total Bags                 39743.83\n",
       "Small Bags                 26362.82\n",
       "Large Bags                  2647.71\n",
       "XLarge Bags                    0.00\n",
       "year                        2016.00\n",
       "conventional                   1.00\n",
       "organic                        0.00\n",
       "dtype: float64"
      ]
     },
     "execution_count": 39,
     "metadata": {},
     "output_type": "execute_result"
    }
   ],
   "source": [
    "df.median()"
   ]
  },
  {
   "cell_type": "code",
   "execution_count": 40,
   "id": "38684a60",
   "metadata": {},
   "outputs": [
    {
     "data": {
      "text/plain": [
       "AveragePrice              4.026766e-01\n",
       "Total Volume              3.453545e+06\n",
       "Small/Medium Hass Size    1.264989e+06\n",
       "Large Hass Size           1.204120e+06\n",
       "XLarge Hass Size          1.074641e+05\n",
       "Total Bags                9.862424e+05\n",
       "Small Bags                7.461785e+05\n",
       "Large Bags                2.439660e+05\n",
       "XLarge Bags               1.769289e+04\n",
       "year                      9.399385e-01\n",
       "conventional              5.000137e-01\n",
       "organic                   5.000137e-01\n",
       "dtype: float64"
      ]
     },
     "execution_count": 40,
     "metadata": {},
     "output_type": "execute_result"
    }
   ],
   "source": [
    "df.std()"
   ]
  },
  {
   "cell_type": "markdown",
   "id": "0dd6a46f",
   "metadata": {},
   "source": [
    "# Correlation\n",
    "Not all the features are correlated with the Average Price column.\n",
    "\n",
    "Instead most of them are correlated with each other."
   ]
  },
  {
   "cell_type": "code",
   "execution_count": 41,
   "id": "5bcb5b0b",
   "metadata": {},
   "outputs": [
    {
     "data": {
      "text/html": [
       "<div>\n",
       "<style scoped>\n",
       "    .dataframe tbody tr th:only-of-type {\n",
       "        vertical-align: middle;\n",
       "    }\n",
       "\n",
       "    .dataframe tbody tr th {\n",
       "        vertical-align: top;\n",
       "    }\n",
       "\n",
       "    .dataframe thead th {\n",
       "        text-align: right;\n",
       "    }\n",
       "</style>\n",
       "<table border=\"1\" class=\"dataframe\">\n",
       "  <thead>\n",
       "    <tr style=\"text-align: right;\">\n",
       "      <th></th>\n",
       "      <th>AveragePrice</th>\n",
       "      <th>Total Volume</th>\n",
       "      <th>Small/Medium Hass Size</th>\n",
       "      <th>Large Hass Size</th>\n",
       "      <th>XLarge Hass Size</th>\n",
       "      <th>Total Bags</th>\n",
       "      <th>Small Bags</th>\n",
       "      <th>Large Bags</th>\n",
       "      <th>XLarge Bags</th>\n",
       "      <th>year</th>\n",
       "      <th>conventional</th>\n",
       "      <th>organic</th>\n",
       "    </tr>\n",
       "  </thead>\n",
       "  <tbody>\n",
       "    <tr>\n",
       "      <th>AveragePrice</th>\n",
       "      <td>1.000000</td>\n",
       "      <td>-0.192752</td>\n",
       "      <td>-0.208317</td>\n",
       "      <td>-0.172928</td>\n",
       "      <td>-0.179446</td>\n",
       "      <td>-0.177088</td>\n",
       "      <td>-0.174730</td>\n",
       "      <td>-0.172940</td>\n",
       "      <td>-0.117592</td>\n",
       "      <td>0.093197</td>\n",
       "      <td>-0.615845</td>\n",
       "      <td>0.615845</td>\n",
       "    </tr>\n",
       "    <tr>\n",
       "      <th>Total Volume</th>\n",
       "      <td>-0.192752</td>\n",
       "      <td>1.000000</td>\n",
       "      <td>0.977863</td>\n",
       "      <td>0.974181</td>\n",
       "      <td>0.872202</td>\n",
       "      <td>0.963047</td>\n",
       "      <td>0.967238</td>\n",
       "      <td>0.880640</td>\n",
       "      <td>0.747157</td>\n",
       "      <td>0.017193</td>\n",
       "      <td>0.232434</td>\n",
       "      <td>-0.232434</td>\n",
       "    </tr>\n",
       "    <tr>\n",
       "      <th>Small/Medium Hass Size</th>\n",
       "      <td>-0.208317</td>\n",
       "      <td>0.977863</td>\n",
       "      <td>1.000000</td>\n",
       "      <td>0.926110</td>\n",
       "      <td>0.833389</td>\n",
       "      <td>0.920057</td>\n",
       "      <td>0.925280</td>\n",
       "      <td>0.838645</td>\n",
       "      <td>0.699377</td>\n",
       "      <td>0.003353</td>\n",
       "      <td>0.225819</td>\n",
       "      <td>-0.225819</td>\n",
       "    </tr>\n",
       "    <tr>\n",
       "      <th>Large Hass Size</th>\n",
       "      <td>-0.172928</td>\n",
       "      <td>0.974181</td>\n",
       "      <td>0.926110</td>\n",
       "      <td>1.000000</td>\n",
       "      <td>0.887855</td>\n",
       "      <td>0.905787</td>\n",
       "      <td>0.916031</td>\n",
       "      <td>0.810015</td>\n",
       "      <td>0.688809</td>\n",
       "      <td>-0.009559</td>\n",
       "      <td>0.232289</td>\n",
       "      <td>-0.232289</td>\n",
       "    </tr>\n",
       "    <tr>\n",
       "      <th>XLarge Hass Size</th>\n",
       "      <td>-0.179446</td>\n",
       "      <td>0.872202</td>\n",
       "      <td>0.833389</td>\n",
       "      <td>0.887855</td>\n",
       "      <td>1.000000</td>\n",
       "      <td>0.792314</td>\n",
       "      <td>0.802733</td>\n",
       "      <td>0.698471</td>\n",
       "      <td>0.679861</td>\n",
       "      <td>-0.036531</td>\n",
       "      <td>0.210027</td>\n",
       "      <td>-0.210027</td>\n",
       "    </tr>\n",
       "    <tr>\n",
       "      <th>Total Bags</th>\n",
       "      <td>-0.177088</td>\n",
       "      <td>0.963047</td>\n",
       "      <td>0.920057</td>\n",
       "      <td>0.905787</td>\n",
       "      <td>0.792314</td>\n",
       "      <td>1.000000</td>\n",
       "      <td>0.994335</td>\n",
       "      <td>0.943009</td>\n",
       "      <td>0.804233</td>\n",
       "      <td>0.071552</td>\n",
       "      <td>0.217788</td>\n",
       "      <td>-0.217788</td>\n",
       "    </tr>\n",
       "    <tr>\n",
       "      <th>Small Bags</th>\n",
       "      <td>-0.174730</td>\n",
       "      <td>0.967238</td>\n",
       "      <td>0.925280</td>\n",
       "      <td>0.916031</td>\n",
       "      <td>0.802733</td>\n",
       "      <td>0.994335</td>\n",
       "      <td>1.000000</td>\n",
       "      <td>0.902589</td>\n",
       "      <td>0.806845</td>\n",
       "      <td>0.063915</td>\n",
       "      <td>0.220535</td>\n",
       "      <td>-0.220535</td>\n",
       "    </tr>\n",
       "    <tr>\n",
       "      <th>Large Bags</th>\n",
       "      <td>-0.172940</td>\n",
       "      <td>0.880640</td>\n",
       "      <td>0.838645</td>\n",
       "      <td>0.810015</td>\n",
       "      <td>0.698471</td>\n",
       "      <td>0.943009</td>\n",
       "      <td>0.902589</td>\n",
       "      <td>1.000000</td>\n",
       "      <td>0.710858</td>\n",
       "      <td>0.087891</td>\n",
       "      <td>0.193177</td>\n",
       "      <td>-0.193177</td>\n",
       "    </tr>\n",
       "    <tr>\n",
       "      <th>XLarge Bags</th>\n",
       "      <td>-0.117592</td>\n",
       "      <td>0.747157</td>\n",
       "      <td>0.699377</td>\n",
       "      <td>0.688809</td>\n",
       "      <td>0.679861</td>\n",
       "      <td>0.804233</td>\n",
       "      <td>0.806845</td>\n",
       "      <td>0.710858</td>\n",
       "      <td>1.000000</td>\n",
       "      <td>0.081033</td>\n",
       "      <td>0.175483</td>\n",
       "      <td>-0.175483</td>\n",
       "    </tr>\n",
       "    <tr>\n",
       "      <th>year</th>\n",
       "      <td>0.093197</td>\n",
       "      <td>0.017193</td>\n",
       "      <td>0.003353</td>\n",
       "      <td>-0.009559</td>\n",
       "      <td>-0.036531</td>\n",
       "      <td>0.071552</td>\n",
       "      <td>0.063915</td>\n",
       "      <td>0.087891</td>\n",
       "      <td>0.081033</td>\n",
       "      <td>1.000000</td>\n",
       "      <td>0.000032</td>\n",
       "      <td>-0.000032</td>\n",
       "    </tr>\n",
       "    <tr>\n",
       "      <th>conventional</th>\n",
       "      <td>-0.615845</td>\n",
       "      <td>0.232434</td>\n",
       "      <td>0.225819</td>\n",
       "      <td>0.232289</td>\n",
       "      <td>0.210027</td>\n",
       "      <td>0.217788</td>\n",
       "      <td>0.220535</td>\n",
       "      <td>0.193177</td>\n",
       "      <td>0.175483</td>\n",
       "      <td>0.000032</td>\n",
       "      <td>1.000000</td>\n",
       "      <td>-1.000000</td>\n",
       "    </tr>\n",
       "    <tr>\n",
       "      <th>organic</th>\n",
       "      <td>0.615845</td>\n",
       "      <td>-0.232434</td>\n",
       "      <td>-0.225819</td>\n",
       "      <td>-0.232289</td>\n",
       "      <td>-0.210027</td>\n",
       "      <td>-0.217788</td>\n",
       "      <td>-0.220535</td>\n",
       "      <td>-0.193177</td>\n",
       "      <td>-0.175483</td>\n",
       "      <td>-0.000032</td>\n",
       "      <td>-1.000000</td>\n",
       "      <td>1.000000</td>\n",
       "    </tr>\n",
       "  </tbody>\n",
       "</table>\n",
       "</div>"
      ],
      "text/plain": [
       "                        AveragePrice  Total Volume  Small/Medium Hass Size  \\\n",
       "AveragePrice                1.000000     -0.192752               -0.208317   \n",
       "Total Volume               -0.192752      1.000000                0.977863   \n",
       "Small/Medium Hass Size     -0.208317      0.977863                1.000000   \n",
       "Large Hass Size            -0.172928      0.974181                0.926110   \n",
       "XLarge Hass Size           -0.179446      0.872202                0.833389   \n",
       "Total Bags                 -0.177088      0.963047                0.920057   \n",
       "Small Bags                 -0.174730      0.967238                0.925280   \n",
       "Large Bags                 -0.172940      0.880640                0.838645   \n",
       "XLarge Bags                -0.117592      0.747157                0.699377   \n",
       "year                        0.093197      0.017193                0.003353   \n",
       "conventional               -0.615845      0.232434                0.225819   \n",
       "organic                     0.615845     -0.232434               -0.225819   \n",
       "\n",
       "                        Large Hass Size  XLarge Hass Size  Total Bags  \\\n",
       "AveragePrice                  -0.172928         -0.179446   -0.177088   \n",
       "Total Volume                   0.974181          0.872202    0.963047   \n",
       "Small/Medium Hass Size         0.926110          0.833389    0.920057   \n",
       "Large Hass Size                1.000000          0.887855    0.905787   \n",
       "XLarge Hass Size               0.887855          1.000000    0.792314   \n",
       "Total Bags                     0.905787          0.792314    1.000000   \n",
       "Small Bags                     0.916031          0.802733    0.994335   \n",
       "Large Bags                     0.810015          0.698471    0.943009   \n",
       "XLarge Bags                    0.688809          0.679861    0.804233   \n",
       "year                          -0.009559         -0.036531    0.071552   \n",
       "conventional                   0.232289          0.210027    0.217788   \n",
       "organic                       -0.232289         -0.210027   -0.217788   \n",
       "\n",
       "                        Small Bags  Large Bags  XLarge Bags      year  \\\n",
       "AveragePrice             -0.174730   -0.172940    -0.117592  0.093197   \n",
       "Total Volume              0.967238    0.880640     0.747157  0.017193   \n",
       "Small/Medium Hass Size    0.925280    0.838645     0.699377  0.003353   \n",
       "Large Hass Size           0.916031    0.810015     0.688809 -0.009559   \n",
       "XLarge Hass Size          0.802733    0.698471     0.679861 -0.036531   \n",
       "Total Bags                0.994335    0.943009     0.804233  0.071552   \n",
       "Small Bags                1.000000    0.902589     0.806845  0.063915   \n",
       "Large Bags                0.902589    1.000000     0.710858  0.087891   \n",
       "XLarge Bags               0.806845    0.710858     1.000000  0.081033   \n",
       "year                      0.063915    0.087891     0.081033  1.000000   \n",
       "conventional              0.220535    0.193177     0.175483  0.000032   \n",
       "organic                  -0.220535   -0.193177    -0.175483 -0.000032   \n",
       "\n",
       "                        conventional   organic  \n",
       "AveragePrice               -0.615845  0.615845  \n",
       "Total Volume                0.232434 -0.232434  \n",
       "Small/Medium Hass Size      0.225819 -0.225819  \n",
       "Large Hass Size             0.232289 -0.232289  \n",
       "XLarge Hass Size            0.210027 -0.210027  \n",
       "Total Bags                  0.217788 -0.217788  \n",
       "Small Bags                  0.220535 -0.220535  \n",
       "Large Bags                  0.193177 -0.193177  \n",
       "XLarge Bags                 0.175483 -0.175483  \n",
       "year                        0.000032 -0.000032  \n",
       "conventional                1.000000 -1.000000  \n",
       "organic                    -1.000000  1.000000  "
      ]
     },
     "execution_count": 41,
     "metadata": {},
     "output_type": "execute_result"
    }
   ],
   "source": [
    "corr_matrix = df.corr()\n",
    "corr_matrix"
   ]
  },
  {
   "cell_type": "code",
   "execution_count": 42,
   "id": "fdb6c5e7",
   "metadata": {},
   "outputs": [
    {
     "data": {
      "text/plain": [
       "AveragePrice              1.000000\n",
       "organic                   0.615845\n",
       "year                      0.093197\n",
       "XLarge Bags              -0.117592\n",
       "Large Hass Size          -0.172928\n",
       "Large Bags               -0.172940\n",
       "Small Bags               -0.174730\n",
       "Total Bags               -0.177088\n",
       "XLarge Hass Size         -0.179446\n",
       "Total Volume             -0.192752\n",
       "Small/Medium Hass Size   -0.208317\n",
       "conventional             -0.615845\n",
       "Name: AveragePrice, dtype: float64"
      ]
     },
     "execution_count": 42,
     "metadata": {},
     "output_type": "execute_result"
    }
   ],
   "source": [
    "corr_matrix[\"AveragePrice\"].sort_values(ascending=False)"
   ]
  },
  {
   "cell_type": "code",
   "execution_count": 43,
   "id": "056a7e17",
   "metadata": {},
   "outputs": [
    {
     "data": {
      "image/png": "[encoded data removed]",
      "text/plain": [
       "<Figure size 432x288 with 2 Axes>"
      ]
     },
     "metadata": {
      "needs_background": "light"
     },
     "output_type": "display_data"
    },
    {
     "data": {
      "text/plain": [
       "<Figure size 1152x576 with 0 Axes>"
      ]
     },
     "metadata": {},
     "output_type": "display_data"
    }
   ],
   "source": [
    "sns.heatmap(df.corr(), vmax = 0.4, square = True)\n",
    "plt.title(\"Correlation Matrix\")\n",
    "fig = plt.figure(figsize = (16, 8))\n",
    "plt.show()"
   ]
  },
  {
   "cell_type": "markdown",
   "id": "d1c0ac9d",
   "metadata": {},
   "source": [
    "# Scatter Plots\n",
    "These are scatter plots base on the Average Price and Total Bags of Avocados and their bag sizes."
   ]
  },
  {
   "cell_type": "code",
   "execution_count": 44,
   "id": "54386f8b",
   "metadata": {},
   "outputs": [
    {
     "name": "stderr",
     "output_type": "stream",
     "text": [
      "No artists with labels found to put in legend.  Note that artists whose label start with an underscore are ignored when legend() is called with no argument.\n"
     ]
    },
    {
     "data": {
      "image/png": "[encoded data removed]",
      "text/plain": [
       "<Figure size 432x288 with 1 Axes>"
      ]
     },
     "metadata": {
      "needs_background": "light"
     },
     "output_type": "display_data"
    }
   ],
   "source": [
    "plt.scatter(df['AveragePrice'],df['Total Bags'], color='green' )\n",
    "plt.title('AveragePrice vs. Total Bags')\n",
    "plt.xlabel('AveragePrice')\n",
    "plt.ylabel('Total Bags')\n",
    "plt.legend(loc=\"upper right\", fontsize=12)\n",
    "plt.show()"
   ]
  },
  {
   "cell_type": "markdown",
   "id": "d1fb4dc0",
   "metadata": {},
   "source": [
    "The smaller bags are the higher number of bags that are taken"
   ]
  },
  {
   "cell_type": "code",
   "execution_count": 45,
   "id": "b7be25d7",
   "metadata": {},
   "outputs": [
    {
     "name": "stderr",
     "output_type": "stream",
     "text": [
      "No artists with labels found to put in legend.  Note that artists whose label start with an underscore are ignored when legend() is called with no argument.\n"
     ]
    },
    {
     "data": {
      "image/png": "[encoded data removed]",
      "text/plain": [
       "<Figure size 432x288 with 1 Axes>"
      ]
     },
     "metadata": {
      "needs_background": "light"
     },
     "output_type": "display_data"
    }
   ],
   "source": [
    "plt.scatter(df['Small Bags'],df['Total Bags'], color='brown' )\n",
    "plt.title('Total Bags vs. Small Bags')\n",
    "plt.xlabel('Total Bags')\n",
    "plt.ylabel('Small Bags')\n",
    "plt.legend(loc=\"upper right\", fontsize=12)\n",
    "plt.show()"
   ]
  },
  {
   "cell_type": "code",
   "execution_count": 46,
   "id": "02718d3a",
   "metadata": {},
   "outputs": [
    {
     "name": "stderr",
     "output_type": "stream",
     "text": [
      "No artists with labels found to put in legend.  Note that artists whose label start with an underscore are ignored when legend() is called with no argument.\n"
     ]
    },
    {
     "data": {
      "image/png": "[encoded data removed]",
      "text/plain": [
       "<Figure size 432x288 with 1 Axes>"
      ]
     },
     "metadata": {
      "needs_background": "light"
     },
     "output_type": "display_data"
    }
   ],
   "source": [
    "plt.scatter(df['Large Bags'],df['Total Bags'], color='blue' )\n",
    "plt.title('Total Bags vs. Large Bags')\n",
    "plt.xlabel('Total Bags')\n",
    "plt.ylabel('Large Bags')\n",
    "plt.legend(loc=\"upper right\", fontsize=12)\n",
    "plt.show()\n"
   ]
  },
  {
   "cell_type": "code",
   "execution_count": 47,
   "id": "4e674bf3",
   "metadata": {},
   "outputs": [
    {
     "name": "stderr",
     "output_type": "stream",
     "text": [
      "No artists with labels found to put in legend.  Note that artists whose label start with an underscore are ignored when legend() is called with no argument.\n"
     ]
    },
    {
     "data": {
      "image/png": "[encoded data removed]",
      "text/plain": [
       "<Figure size 432x288 with 1 Axes>"
      ]
     },
     "metadata": {
      "needs_background": "light"
     },
     "output_type": "display_data"
    }
   ],
   "source": [
    "plt.scatter(df['XLarge Bags'],df['Total Bags'], color='orange' )\n",
    "plt.title('Total Bags vs. XLarge Bags')\n",
    "plt.xlabel('Total Bags')\n",
    "plt.ylabel('XLarge Bags')\n",
    "plt.legend(loc=\"upper right\", fontsize=12)\n",
    "plt.show()"
   ]
  },
  {
   "cell_type": "markdown",
   "id": "8eba04d7",
   "metadata": {},
   "source": [
    "# Scatter Matrix Plot"
   ]
  },
  {
   "cell_type": "code",
   "execution_count": 48,
   "id": "2c9cc31a",
   "metadata": {},
   "outputs": [
    {
     "data": {
      "text/plain": [
       "array([[<AxesSubplot:xlabel='Total Bags', ylabel='Total Bags'>,\n",
       "        <AxesSubplot:xlabel='Small Bags', ylabel='Total Bags'>,\n",
       "        <AxesSubplot:xlabel='Large Bags', ylabel='Total Bags'>,\n",
       "        <AxesSubplot:xlabel='XLarge Bags', ylabel='Total Bags'>],\n",
       "       [<AxesSubplot:xlabel='Total Bags', ylabel='Small Bags'>,\n",
       "        <AxesSubplot:xlabel='Small Bags', ylabel='Small Bags'>,\n",
       "        <AxesSubplot:xlabel='Large Bags', ylabel='Small Bags'>,\n",
       "        <AxesSubplot:xlabel='XLarge Bags', ylabel='Small Bags'>],\n",
       "       [<AxesSubplot:xlabel='Total Bags', ylabel='Large Bags'>,\n",
       "        <AxesSubplot:xlabel='Small Bags', ylabel='Large Bags'>,\n",
       "        <AxesSubplot:xlabel='Large Bags', ylabel='Large Bags'>,\n",
       "        <AxesSubplot:xlabel='XLarge Bags', ylabel='Large Bags'>],\n",
       "       [<AxesSubplot:xlabel='Total Bags', ylabel='XLarge Bags'>,\n",
       "        <AxesSubplot:xlabel='Small Bags', ylabel='XLarge Bags'>,\n",
       "        <AxesSubplot:xlabel='Large Bags', ylabel='XLarge Bags'>,\n",
       "        <AxesSubplot:xlabel='XLarge Bags', ylabel='XLarge Bags'>]],\n",
       "      dtype=object)"
      ]
     },
     "execution_count": 48,
     "metadata": {},
     "output_type": "execute_result"
    },
    {
     "data": {
      "image/png": "[encoded data removed]",
      "text/plain": [
       "<Figure size 864x576 with 16 Axes>"
      ]
     },
     "metadata": {
      "needs_background": "light"
     },
     "output_type": "display_data"
    }
   ],
   "source": [
    "from pandas.plotting import scatter_matrix\n",
    "\n",
    "attributes = [\"Total Bags\", \"Small Bags\", \"Large Bags\",\n",
    "              \"XLarge Bags\"]\n",
    "scatter_matrix(df[attributes], figsize=(12, 8))"
   ]
  },
  {
   "cell_type": "markdown",
   "id": "4258dd4d",
   "metadata": {},
   "source": [
    "# Split Test\n",
    "This is the training of the Regression model.\n",
    "\n",
    "I first split up the data into an X array that contains the features to train on, and a y array with the target variable."
   ]
  },
  {
   "cell_type": "code",
   "execution_count": 49,
   "id": "9b1aa240",
   "metadata": {},
   "outputs": [
    {
     "data": {
      "text/html": [
       "<div>\n",
       "<style scoped>\n",
       "    .dataframe tbody tr th:only-of-type {\n",
       "        vertical-align: middle;\n",
       "    }\n",
       "\n",
       "    .dataframe tbody tr th {\n",
       "        vertical-align: top;\n",
       "    }\n",
       "\n",
       "    .dataframe thead th {\n",
       "        text-align: right;\n",
       "    }\n",
       "</style>\n",
       "<table border=\"1\" class=\"dataframe\">\n",
       "  <thead>\n",
       "    <tr style=\"text-align: right;\">\n",
       "      <th></th>\n",
       "      <th>AveragePrice</th>\n",
       "      <th>Total Volume</th>\n",
       "      <th>Small/Medium Hass Size</th>\n",
       "      <th>Large Hass Size</th>\n",
       "      <th>XLarge Hass Size</th>\n",
       "      <th>Total Bags</th>\n",
       "      <th>Small Bags</th>\n",
       "      <th>Large Bags</th>\n",
       "      <th>XLarge Bags</th>\n",
       "      <th>year</th>\n",
       "      <th>conventional</th>\n",
       "      <th>organic</th>\n",
       "    </tr>\n",
       "  </thead>\n",
       "  <tbody>\n",
       "    <tr>\n",
       "      <th>8604</th>\n",
       "      <td>0.82</td>\n",
       "      <td>218329.70</td>\n",
       "      <td>79239.58</td>\n",
       "      <td>26356.05</td>\n",
       "      <td>2998.74</td>\n",
       "      <td>109735.33</td>\n",
       "      <td>73393.34</td>\n",
       "      <td>34338.97</td>\n",
       "      <td>2003.02</td>\n",
       "      <td>2018</td>\n",
       "      <td>1.0</td>\n",
       "      <td>0.0</td>\n",
       "    </tr>\n",
       "    <tr>\n",
       "      <th>2608</th>\n",
       "      <td>0.97</td>\n",
       "      <td>391514.43</td>\n",
       "      <td>228324.13</td>\n",
       "      <td>72749.38</td>\n",
       "      <td>100.62</td>\n",
       "      <td>90340.30</td>\n",
       "      <td>44449.47</td>\n",
       "      <td>45890.83</td>\n",
       "      <td>0.00</td>\n",
       "      <td>2015</td>\n",
       "      <td>1.0</td>\n",
       "      <td>0.0</td>\n",
       "    </tr>\n",
       "    <tr>\n",
       "      <th>14581</th>\n",
       "      <td>1.44</td>\n",
       "      <td>3907.40</td>\n",
       "      <td>1147.09</td>\n",
       "      <td>39.51</td>\n",
       "      <td>0.00</td>\n",
       "      <td>2720.80</td>\n",
       "      <td>2717.47</td>\n",
       "      <td>3.33</td>\n",
       "      <td>0.00</td>\n",
       "      <td>2016</td>\n",
       "      <td>0.0</td>\n",
       "      <td>1.0</td>\n",
       "    </tr>\n",
       "    <tr>\n",
       "      <th>4254</th>\n",
       "      <td>0.97</td>\n",
       "      <td>267953.78</td>\n",
       "      <td>150786.30</td>\n",
       "      <td>27025.48</td>\n",
       "      <td>565.65</td>\n",
       "      <td>89576.35</td>\n",
       "      <td>74664.71</td>\n",
       "      <td>14911.64</td>\n",
       "      <td>0.00</td>\n",
       "      <td>2016</td>\n",
       "      <td>1.0</td>\n",
       "      <td>0.0</td>\n",
       "    </tr>\n",
       "    <tr>\n",
       "      <th>16588</th>\n",
       "      <td>1.45</td>\n",
       "      <td>8805.28</td>\n",
       "      <td>828.39</td>\n",
       "      <td>3.24</td>\n",
       "      <td>0.00</td>\n",
       "      <td>7973.65</td>\n",
       "      <td>7456.43</td>\n",
       "      <td>517.22</td>\n",
       "      <td>0.00</td>\n",
       "      <td>2017</td>\n",
       "      <td>0.0</td>\n",
       "      <td>1.0</td>\n",
       "    </tr>\n",
       "  </tbody>\n",
       "</table>\n",
       "</div>"
      ],
      "text/plain": [
       "       AveragePrice  Total Volume  Small/Medium Hass Size  Large Hass Size  \\\n",
       "8604           0.82     218329.70                79239.58         26356.05   \n",
       "2608           0.97     391514.43               228324.13         72749.38   \n",
       "14581          1.44       3907.40                 1147.09            39.51   \n",
       "4254           0.97     267953.78               150786.30         27025.48   \n",
       "16588          1.45       8805.28                  828.39             3.24   \n",
       "\n",
       "       XLarge Hass Size  Total Bags  Small Bags  Large Bags  XLarge Bags  \\\n",
       "8604            2998.74   109735.33    73393.34    34338.97      2003.02   \n",
       "2608             100.62    90340.30    44449.47    45890.83         0.00   \n",
       "14581              0.00     2720.80     2717.47        3.33         0.00   \n",
       "4254             565.65    89576.35    74664.71    14911.64         0.00   \n",
       "16588              0.00     7973.65     7456.43      517.22         0.00   \n",
       "\n",
       "       year  conventional  organic  \n",
       "8604   2018           1.0      0.0  \n",
       "2608   2015           1.0      0.0  \n",
       "14581  2016           0.0      1.0  \n",
       "4254   2016           1.0      0.0  \n",
       "16588  2017           0.0      1.0  "
      ]
     },
     "execution_count": 49,
     "metadata": {},
     "output_type": "execute_result"
    }
   ],
   "source": [
    "from sklearn.model_selection import train_test_split\n",
    "train_set, test_set = train_test_split(df, test_size=0.2, random_state=42)\n",
    "test_set.head()"
   ]
  },
  {
   "cell_type": "code",
   "execution_count": 50,
   "id": "6a02e05c",
   "metadata": {},
   "outputs": [],
   "source": [
    "Y_train = train_set['AveragePrice']\n",
    "X_train = train_set.drop(['AveragePrice'],axis = 1)"
   ]
  },
  {
   "cell_type": "code",
   "execution_count": 51,
   "id": "9a33f002",
   "metadata": {},
   "outputs": [],
   "source": [
    "Y_test = test_set['AveragePrice']\n",
    "X_test = test_set.drop(['AveragePrice'],axis = 1)"
   ]
  },
  {
   "cell_type": "markdown",
   "id": "0c5e86ed",
   "metadata": {},
   "source": [
    "Going to be using Linear Regression because the target variable, Average Price is continuous."
   ]
  },
  {
   "cell_type": "markdown",
   "id": "d779f186",
   "metadata": {},
   "source": [
    "# Linear Regression\n",
    "Creating and Training the Model"
   ]
  },
  {
   "cell_type": "code",
   "execution_count": 52,
   "id": "bd474d41",
   "metadata": {},
   "outputs": [
    {
     "data": {
      "text/plain": [
       "LinearRegression()"
      ]
     },
     "execution_count": 52,
     "metadata": {},
     "output_type": "execute_result"
    }
   ],
   "source": [
    "from sklearn.linear_model import LinearRegression\n",
    "from sklearn.metrics import mean_squared_error\n",
    "LR = LinearRegression()\n",
    "LR.fit(X_train, Y_train)"
   ]
  },
  {
   "cell_type": "code",
   "execution_count": 53,
   "id": "ddb6f3cb",
   "metadata": {},
   "outputs": [
    {
     "data": {
      "text/plain": [
       "0.09760990350805043"
      ]
     },
     "execution_count": 53,
     "metadata": {},
     "output_type": "execute_result"
    }
   ],
   "source": [
    "pred = LR.predict(X_test)\n",
    "mean_squared_error(pred, Y_test)"
   ]
  },
  {
   "cell_type": "markdown",
   "id": "c942766a",
   "metadata": {},
   "source": [
    "The RMSE is low so it was a good model"
   ]
  },
  {
   "cell_type": "markdown",
   "id": "0f168002",
   "metadata": {},
   "source": [
    "# Random Forest"
   ]
  },
  {
   "cell_type": "code",
   "execution_count": 54,
   "id": "b048c6cb",
   "metadata": {},
   "outputs": [
    {
     "data": {
      "text/plain": [
       "RandomForestRegressor(min_samples_leaf=10, random_state=42)"
      ]
     },
     "execution_count": 54,
     "metadata": {},
     "output_type": "execute_result"
    }
   ],
   "source": [
    "from sklearn.ensemble import RandomForestRegressor\n",
    "RFR = RandomForestRegressor (n_estimators = 100, min_samples_leaf = 10, random_state = 42)\n",
    "RFR.fit(X_train, Y_train)"
   ]
  },
  {
   "cell_type": "code",
   "execution_count": 55,
   "id": "83afa1ea",
   "metadata": {},
   "outputs": [
    {
     "data": {
      "text/plain": [
       "0.037579361799355254"
      ]
     },
     "execution_count": 55,
     "metadata": {},
     "output_type": "execute_result"
    }
   ],
   "source": [
    "pred2 = RFR.predict(X_test)\n",
    "mean_squared_error(pred2, Y_test)"
   ]
  },
  {
   "cell_type": "markdown",
   "id": "c678e88b",
   "metadata": {},
   "source": [
    "This, Random Forest Regression is much better than Linear Regression... the smaller the number, the better the result!\n",
    "\n",
    "RMSE is lower than the previous model, so the RandomForest Regressor is the best model."
   ]
  },
  {
   "cell_type": "markdown",
   "id": "dbebaa2e",
   "metadata": {},
   "source": [
    "# Support Vector Regression"
   ]
  },
  {
   "cell_type": "code",
   "execution_count": 56,
   "id": "963e998f",
   "metadata": {},
   "outputs": [
    {
     "data": {
      "text/plain": [
       "LinearSVR(epsilon=1.5, random_state=42)"
      ]
     },
     "execution_count": 56,
     "metadata": {},
     "output_type": "execute_result"
    }
   ],
   "source": [
    "from sklearn.svm import LinearSVR\n",
    "\n",
    "svm_reg = LinearSVR(epsilon=1.5, random_state=42)\n",
    "svm_reg.fit(X_train, Y_train)"
   ]
  },
  {
   "cell_type": "code",
   "execution_count": 57,
   "id": "5d2c9c43",
   "metadata": {},
   "outputs": [
    {
     "data": {
      "text/plain": [
       "4.326739041822548"
      ]
     },
     "execution_count": 57,
     "metadata": {},
     "output_type": "execute_result"
    }
   ],
   "source": [
    "pred2 = svm_reg.predict(X_test)\n",
    "mean_squared_error(pred2, Y_test)"
   ]
  },
  {
   "cell_type": "markdown",
   "id": "da3016fb",
   "metadata": {},
   "source": [
    "This prediction is much higher\n",
    "\n",
    "With all 3 Regression tests, the best result is the Random Forest Regression!\n",
    "\n",
    "Conclusion With the statistics drawn from the analysis, I found out which price is highly positively and negatively coorelated with. Not all the features are correlated with the Average Price column. Instead, most of them are correlated with each other.\n",
    "\n",
    "Found out through the analysis, which model worked better with accuracy from the help of RMSE scores. Get to know where to use Linear, Random Forest and Support Vector and fine tuned the predictions."
   ]
  },
  {
   "cell_type": "code",
   "execution_count": null,
   "id": "1a3d9ed3",
   "metadata": {},
   "outputs": [],
   "source": []
  }
 ],
 "metadata": {
  "kernelspec": {
   "display_name": "Python 3 (ipykernel)",
   "language": "python",
   "name": "python3"
  },
  "language_info": {
   "codemirror_mode": {
    "name": "ipython",
    "version": 3
   },
   "file_extension": ".py",
   "mimetype": "text/x-python",
   "name": "python",
   "nbconvert_exporter": "python",
   "pygments_lexer": "ipython3",
   "version": "3.9.12"
  }
 },
 "nbformat": 4,
 "nbformat_minor": 5
}
